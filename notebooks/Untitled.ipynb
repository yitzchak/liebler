{
 "cells": [
  {
   "cell_type": "code",
   "execution_count": 23,
   "metadata": {},
   "outputs": [
    {
     "name": "stdout",
     "output_type": "stream",
     "text": [
      "To load \"liebler\":\n",
      "  Load 1 ASDF system:\n",
      "    liebler\n",
      "\n",
      "; Loading \"liebler\"\n",
      "\n",
      "To load \"cytoscape-clj\":\n",
      "  Load 1 ASDF system:\n",
      "    cytoscape-clj\n",
      "\n",
      "; Loading \"cytoscape-clj\"\n",
      "\n",
      "To load \"trivial-do\":\n",
      "  Load 1 ASDF system:\n",
      "    trivial-do\n"
     ]
    },
    {
     "data": {
      "text/plain": [
       "(:LIEBLER :CYTOSCAPE-CLJ :TRIVIAL-DO)"
      ]
     },
     "execution_count": 23,
     "metadata": {},
     "output_type": "execute_result"
    },
    {
     "name": "stdout",
     "output_type": "stream",
     "text": [
      "\n",
      "; Loading \"trivial-do\"\n",
      "\n"
     ]
    }
   ],
   "source": [
    "(ql:quickload '(:liebler :cytoscape-clj :trivial-do))"
   ]
  },
  {
   "cell_type": "code",
   "execution_count": 29,
   "metadata": {},
   "outputs": [
    {
     "data": {
      "text/plain": [
       "#<STANDARD-METHOD CYTOSCAPE:ADD-GRAPH (T T) {10061394B3}>"
      ]
     },
     "execution_count": 29,
     "metadata": {},
     "output_type": "execute_result"
    },
    {
     "name": "stdout",
     "output_type": "stream",
     "text": [
      "[SB-KERNEL:REDEFINITION-WITH-DEFMETHOD] redefining CYTOSCAPE:ADD-GRAPH (#<SB-PCL:SYSTEM-CLASS COMMON-LISP:T> #<SB-PCL:SYSTEM-CLASS COMMON-LISP:T>) in DEFMETHOD\n"
     ]
    }
   ],
   "source": [
    "(defmethod cytoscape:add-graph (instance graph &rest args)\n",
    "  (declare (ignore args))\n",
    "  (let ((id (jupyter:make-uuid)))\n",
    "    (setf (cytoscape:elements instance)\n",
    "          (append (cytoscape:elements instance)\n",
    "                  (liebler:map-vertices 'list\n",
    "                                        (lambda (vertex)\n",
    "                                          (make-instance 'cytoscape:element\n",
    "                                                         :group \"nodes\"\n",
    "                                                         :classes (list (format nil \"color~3,'0d\" (liebler:color graph vertex)))\n",
    "                                                         :data `((\"id\" . ,(format nil \"~A-~A\" id vertex))\n",
    "                                                                 (\"label\" . ,(format nil \"~A\" vertex)))))\n",
    "                                        graph)\n",
    "                  (liebler:map-edges 'list\n",
    "                                     (lambda (vertex1 vertex2)\n",
    "                                       (make-instance 'cytoscape:element\n",
    "                                                      :group \"edges\"\n",
    "                                                      :data `((\"source\" . ,(format nil \"~A-~A\" id vertex1))\n",
    "                                                              (\"target\" . ,(format nil \"~A-~A\" id vertex2)))))\n",
    "                                     graph))))\n",
    "  (values))"
   ]
  },
  {
   "cell_type": "code",
   "execution_count": 25,
   "metadata": {},
   "outputs": [
    {
     "data": {
      "text/plain": [
       "NSHUFFLE"
      ]
     },
     "execution_count": 25,
     "metadata": {},
     "output_type": "execute_result"
    },
    {
     "data": {
      "text/plain": [
       "COLOR-STYLES"
      ]
     },
     "execution_count": 25,
     "metadata": {},
     "output_type": "execute_result"
    },
    {
     "name": "stdout",
     "output_type": "stream",
     "text": [
      "[SB-KERNEL:REDEFINITION-WITH-DEFUN] redefining COMMON-LISP-USER::NSHUFFLE in DEFUN\n"
     ]
    }
   ],
   "source": [
    "(defun nshuffle (sequence)\n",
    "  (loop for i from (length sequence) downto 2\n",
    "        do (rotatef (elt sequence (random i))\n",
    "                    (elt sequence (1- i))))\n",
    "  sequence)\n",
    "\n",
    "(defun color-styles ()\n",
    "  (with-output-to-string (stream)\n",
    "    (trivial-do:dolist* (index color (nshuffle jupyter-widgets::*color-names*))\n",
    "      (format stream \"node.color~3,'0D { background-color: ~A; }~%\" index color))))"
   ]
  },
  {
   "cell_type": "code",
   "execution_count": 45,
   "metadata": {},
   "outputs": [
    {
     "data": {
      "text/plain": [
       "C"
      ]
     },
     "execution_count": 45,
     "metadata": {},
     "output_type": "execute_result"
    },
    {
     "data": {
      "application/vnd.jupyter.widget-view+json": {
       "model_id": "2e7ab06c06de49d194bcdb86d2e87eaf",
       "version_major": 2,
       "version_minor": 0
      },
      "text/plain": [
       "A Jupyter Widget"
      ]
     },
     "metadata": {},
     "output_type": "display_data"
    }
   ],
   "source": [
    "(defparameter c (make-instance 'cytoscape:cytoscape-widget\n",
    "                               :graph-layouts (list (make-instance 'cytoscape:cose-layout))\n",
    "                               :graph-style (concatenate 'string \"node { label: data(label); }\" (color-styles))))\n",
    "c"
   ]
  },
  {
   "cell_type": "code",
   "execution_count": 12,
   "metadata": {},
   "outputs": [
    {
     "data": {
      "text/plain": [
       "G"
      ]
     },
     "execution_count": 12,
     "metadata": {},
     "output_type": "execute_result"
    }
   ],
   "source": [
    "(defparameter g (liebler:make-adjacency-matrix 6\n",
    "                                               :edges '((0 . 1) (0 . 4) (1 . 4) (1 . 2)\n",
    "                                                        (2 . 3) (3 . 4) (3 . 5))))"
   ]
  },
  {
   "cell_type": "code",
   "execution_count": 46,
   "metadata": {},
   "outputs": [],
   "source": [
    "(cytoscape:add-graph c g)"
   ]
  },
  {
   "cell_type": "code",
   "execution_count": 47,
   "metadata": {},
   "outputs": [],
   "source": [
    "(cytoscape:add-graph c (liebler::colorize (liebler:order-graph-by-color (liebler::color-by-ex-degree g) #'>)))"
   ]
  },
  {
   "cell_type": "code",
   "execution_count": null,
   "metadata": {},
   "outputs": [],
   "source": []
  }
 ],
 "metadata": {
  "kernelspec": {
   "display_name": "Common Lisp (SBCL)",
   "language": "common-lisp",
   "name": "common-lisp_sbcl"
  },
  "language_info": {
   "codemirror_mode": "text/x-common-lisp",
   "file_extension": ".lisp",
   "mimetype": "text/x-common-lisp",
   "name": "common-lisp",
   "pygments_lexer": "common-lisp",
   "version": "2.0.8"
  }
 },
 "nbformat": 4,
 "nbformat_minor": 4
}
