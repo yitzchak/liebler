{
 "cells": [
  {
   "cell_type": "code",
   "execution_count": 1,
   "metadata": {},
   "outputs": [
    {
     "name": "stdout",
     "output_type": "stream",
     "text": [
      "\n",
      "; Loading \"liebler\"\n",
      "\n",
      "To load \"cytoscape-clj\":\n",
      "  Load 1 ASDF system:\n",
      "    cytoscape-clj\n",
      "\n",
      "; Loading \"cytoscape-clj\"\n",
      "\n",
      "To load \"trivial-do\":\n",
      "  Load 1 ASDF system:\n",
      "    trivial-do\n"
     ]
    },
    {
     "data": {
      "text/plain": [
       "(:LIEBLER :CYTOSCAPE-CLJ :TRIVIAL-DO)"
      ]
     },
     "execution_count": 1,
     "metadata": {},
     "output_type": "execute_result"
    },
    {
     "name": "stdout",
     "output_type": "stream",
     "text": [
      "\n",
      "; Loading \"trivial-do\"\n",
      "\n"
     ]
    }
   ],
   "source": [
    "(ql:quickload '(:liebler :cytoscape-clj :trivial-do))"
   ]
  },
  {
   "cell_type": "code",
   "execution_count": 2,
   "metadata": {},
   "outputs": [
    {
     "data": {
      "text/plain": [
       "#<STANDARD-METHOD CYTOSCAPE:ADD-GRAPH (T T) {100519B643}>"
      ]
     },
     "execution_count": 2,
     "metadata": {},
     "output_type": "execute_result"
    }
   ],
   "source": [
    "(defmethod cytoscape:add-graph (instance graph &rest args)\n",
    "  (declare (ignore args))\n",
    "  (let ((id (jupyter:make-uuid)))\n",
    "    (setf (cytoscape:elements instance)\n",
    "          (append (cytoscape:elements instance)\n",
    "                  (liebler:map-vertices 'list\n",
    "                                        (lambda (vertex)\n",
    "                                          (make-instance 'cytoscape:element\n",
    "                                                         :group \"nodes\"\n",
    "                                                         :classes (list (format nil \"color~3,'0d\" (liebler:color graph vertex)))\n",
    "                                                         :data `((\"id\" . ,(format nil \"~A-~A\" id vertex))\n",
    "                                                                 (\"label\" . ,(format nil \"~A\" vertex)))))\n",
    "                                        graph)\n",
    "                  (liebler:map-edges 'list\n",
    "                                     (lambda (vertex1 vertex2)\n",
    "                                       (make-instance 'cytoscape:element\n",
    "                                                      :group \"edges\"\n",
    "                                                      :data `((\"source\" . ,(format nil \"~A-~A\" id vertex1))\n",
    "                                                              (\"target\" . ,(format nil \"~A-~A\" id vertex2)))))\n",
    "                                     graph))))\n",
    "  (values))"
   ]
  },
  {
   "cell_type": "code",
   "execution_count": 3,
   "metadata": {},
   "outputs": [
    {
     "data": {
      "text/plain": [
       "*COLORS*"
      ]
     },
     "execution_count": 3,
     "metadata": {},
     "output_type": "execute_result"
    },
    {
     "data": {
      "text/plain": [
       "NSHUFFLE"
      ]
     },
     "execution_count": 3,
     "metadata": {},
     "output_type": "execute_result"
    },
    {
     "data": {
      "text/plain": [
       "COLOR-STYLES"
      ]
     },
     "execution_count": 3,
     "metadata": {},
     "output_type": "execute_result"
    }
   ],
   "source": [
    "(defparameter *colors* '(\"maroon\" \"red\" \"purple\" \"fuchsia\" \"green\" \"lime\" \"olive\" \"yellow\" \"navy\" \"blue\" \"teal\" \"aqua\" \"aquamarine\"))\n",
    "\n",
    "\n",
    "(defun nshuffle (sequence)\n",
    "  (loop for i from (length sequence) downto 2\n",
    "        do (rotatef (elt sequence (random i))\n",
    "                    (elt sequence (1- i))))\n",
    "  sequence)\n",
    "\n",
    "(defun color-styles ()\n",
    "  (with-output-to-string (stream)\n",
    "    (trivial-do:dolist* (index color (nshuffle *colors*))\n",
    "      (format stream \"node.color~3,'0D { background-color: ~A; }~%\" index color))))"
   ]
  },
  {
   "cell_type": "code",
   "execution_count": 4,
   "metadata": {},
   "outputs": [
    {
     "data": {
      "text/plain": [
       "C"
      ]
     },
     "execution_count": 4,
     "metadata": {},
     "output_type": "execute_result"
    },
    {
     "data": {
      "application/vnd.jupyter.widget-view+json": {
       "model_id": "3b47e8b89b0f4fca226b2cc50a0172de",
       "version_major": 2,
       "version_minor": 0
      },
      "text/plain": [
       "A Jupyter Widget"
      ]
     },
     "metadata": {},
     "output_type": "display_data"
    }
   ],
   "source": [
    "(defparameter c (make-instance 'cytoscape:cytoscape-widget\n",
    "                               :graph-layouts (list (make-instance 'cytoscape:cose-layout))\n",
    "                               :graph-style (concatenate 'string \"node { label: data(label); }\" (color-styles))))\n",
    "c"
   ]
  },
  {
   "cell_type": "code",
   "execution_count": 5,
   "metadata": {},
   "outputs": [
    {
     "data": {
      "text/plain": [
       "G"
      ]
     },
     "execution_count": 5,
     "metadata": {},
     "output_type": "execute_result"
    }
   ],
   "source": [
    "(defparameter g (liebler:make-adjacency-matrix 6\n",
    "                                               :edges '((0 . 1) (0 . 2) (0 . 3) (0 . 4) (0 . 5) \n",
    "                                                        (1 . 2) (1 . 3) (1 . 4)\n",
    "                                                        (2 . 3))))"
   ]
  },
  {
   "cell_type": "code",
   "execution_count": 6,
   "metadata": {},
   "outputs": [],
   "source": [
    "(cytoscape:add-graph c g)"
   ]
  },
  {
   "cell_type": "code",
   "execution_count": 7,
   "metadata": {},
   "outputs": [],
   "source": [
    "(cytoscape:add-graph c (liebler::colorize (liebler:order-graph-by-color (liebler::color-by-ex-degree g) #'>)))"
   ]
  },
  {
   "cell_type": "code",
   "execution_count": 8,
   "metadata": {},
   "outputs": [],
   "source": [
    "(cytoscape:add-graph c (liebler::colorize (liebler:order-graph-by-color (liebler::color-by-ex-degree g) #'>) 1))"
   ]
  },
  {
   "cell_type": "code",
   "execution_count": 9,
   "metadata": {},
   "outputs": [],
   "source": [
    "(cytoscape:add-graph c (liebler::colorize (liebler:order-graph-by-color (liebler::color-by-ex-degree g) #'>) 2))"
   ]
  },
  {
   "cell_type": "code",
   "execution_count": null,
   "metadata": {},
   "outputs": [
    {
     "ename": "TYPE-ERROR",
     "evalue": "The value\n  2\nis not of type\n  BIT\nwhen setting an element of (ARRAY BIT)",
     "output_type": "error",
     "traceback": []
    },
    {
     "name": "stderr",
     "output_type": "stream",
     "text": [
      "The value\n",
      "  2\n",
      "is not of type\n",
      "  BIT\n",
      "when setting an element of (ARRAY BIT)\n",
      "   [Condition of type TYPE-ERROR]\n",
      "\n",
      "#<ENVIRONMENT {10039361A3}>\n",
      "   [Environment of thread #<THREAD \"SHELL Thread\" RUNNING {1001E07BB3}>]\n",
      "\n",
      "\n",
      "Backtrace:\n",
      " 5: (SB-KERNEL::%SIGNAL The value 2 is not of type BIT when setting an element of (ARRAY BIT))\n",
      " 6: (ERROR TYPE-ERROR DATUM 2 EXPECTED-TYPE BIT CONTEXT AREF)\n",
      " 7: (\"OBJECT-NOT-TYPE-ERROR\" 2 BIT)\n",
      " 8: (SB-KERNEL:INTERNAL-ERROR #.(SB-SYS:INT-SAP #X7FA084405B80) #<unused argument>)\n",
      " 9: (\"foreign function: call_into_lisp\")\n",
      " 10: (\"foreign function: funcall2\")\n",
      " 11: (\"foreign function: interrupt_internal_error\")\n",
      " 12: (\"foreign function: #x55E79D8AE4F3\")\n",
      " 13: ((SB-VM::OPTIMIZED-DATA-VECTOR-SET BIT) #<unavailable argument> #<unavailable argument> #<unavailable argument>)\n",
      " 14: (VECTOR-PUSH-EXTEND 2 #*0 NIL)\n",
      " 15: (LIEBLER::MAP-ITERATOR (VECTOR (INTEGER 0 1)) #<CLOSURE (LAMBDA (LIEBLER::VERTEX) :IN LIEBLER:COLOR-GRAPH) {100371617B}> #<ADJACENCY-MATRIX-VERTEX-ITERATOR {1003716193}>)\n",
      " 16: ((:METHOD LIEBLER:COLOR-GRAPH (LIEBLER::COLORED-ADJACENCY-MATRIX T)) #<COLORED-ADJACENCY-MATRIX {1003715303}> 2 COLOR 2)\n",
      " 17: (LIEBLER::MAX-CLIQUE-SEQ #<ADJACENCY-MATRIX {10069452C3}>)\n",
      " 18: (SB-INT:SIMPLE-EVAL-IN-LEXENV (MAX-CLIQUE-SEQ G) #<NULL-LEXENV>)\n",
      " 19: (EVAL (MAX-CLIQUE-SEQ G))\n",
      " 20: (COMMON-LISP-JUPYTER::MY-EVAL (MAX-CLIQUE-SEQ G))\n",
      " 21: ((:METHOD JUPYTER:EVALUATE-CODE (COMMON-LISP-JUPYTER:KERNEL T)) #<unused argument> (liebler::max-clique-seq g))\n",
      " 22: (JUPYTER::HANDLE-EXECUTE-REQUEST #<KERNEL {10042A7A53}> #<MESSAGE {1003705653}>)\n",
      " 23: (JUPYTER::HANDLE-SHELL-MESSAGE #<KERNEL {10042A7A53}> #<MESSAGE {1003705653}>)\n",
      " 24: (JUPYTER::RUN-SHELL #<KERNEL {10042A7A53}>)\n",
      " 25: ((LAMBDA NIL :IN BORDEAUX-THREADS::BINDING-DEFAULT-SPECIALS))\n",
      " 26: ((FLET SB-UNIX::BODY :IN SB-THREAD::RUN))\n",
      " 27: ((FLET \"WITHOUT-INTERRUPTS-BODY-14\" :IN SB-THREAD::RUN))\n",
      " 28: ((FLET SB-UNIX::BODY :IN SB-THREAD::RUN))\n",
      " 29: ((FLET \"WITHOUT-INTERRUPTS-BODY-4\" :IN SB-THREAD::RUN))\n",
      " 30: (SB-THREAD::RUN)\n",
      " 31: (\"foreign function: call_into_lisp\")\n",
      " 32: (\"foreign function: funcall1\")"
     ]
    }
   ],
   "source": [
    "(liebler::max-clique-seq g)"
   ]
  },
  {
   "cell_type": "code",
   "execution_count": null,
   "metadata": {},
   "outputs": [],
   "source": []
  },
  {
   "cell_type": "code",
   "execution_count": null,
   "metadata": {},
   "outputs": [],
   "source": []
  }
 ],
 "metadata": {
  "kernelspec": {
   "display_name": "Common Lisp (SBCL)",
   "language": "common-lisp",
   "name": "common-lisp_sbcl"
  },
  "language_info": {
   "codemirror_mode": "text/x-common-lisp",
   "file_extension": ".lisp",
   "mimetype": "text/x-common-lisp",
   "name": "common-lisp",
   "pygments_lexer": "common-lisp",
   "version": "2.0.8"
  }
 },
 "nbformat": 4,
 "nbformat_minor": 4
}
