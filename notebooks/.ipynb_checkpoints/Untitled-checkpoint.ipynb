{
 "cells": [
  {
   "cell_type": "code",
   "execution_count": 1,
   "metadata": {},
   "outputs": [
    {
     "name": "stdout",
     "output_type": "stream",
     "text": [
      "To load \"liebler\":\n",
      "  Load 1 ASDF system:\n",
      "    liebler\n",
      "\n",
      "; Loading \"liebler\"\n",
      "\n",
      "To load \"cytoscape-clj\":\n",
      "  Load 1 ASDF system:\n",
      "    cytoscape-clj\n",
      "\n",
      "; Loading \"cytoscape-clj\"\n",
      "\n",
      "To load \"trivial-do\":\n",
      "  Load 1 ASDF system:\n",
      "    trivial-do\n"
     ]
    },
    {
     "data": {
      "text/plain": [
       "(:LIEBLER :CYTOSCAPE-CLJ :TRIVIAL-DO)"
      ]
     },
     "execution_count": 1,
     "metadata": {},
     "output_type": "execute_result"
    },
    {
     "name": "stdout",
     "output_type": "stream",
     "text": [
      "\n",
      "; Loading \"trivial-do\"\n",
      "\n"
     ]
    }
   ],
   "source": [
    "(ql:quickload '(:liebler :cytoscape-clj :trivial-do))"
   ]
  },
  {
   "cell_type": "code",
   "execution_count": 2,
   "metadata": {},
   "outputs": [
    {
     "data": {
      "text/plain": [
       "#<STANDARD-METHOD CYTOSCAPE:ADD-GRAPH (T T) {100396CEB3}>"
      ]
     },
     "execution_count": 2,
     "metadata": {},
     "output_type": "execute_result"
    }
   ],
   "source": [
    "(defmethod cytoscape:add-graph (instance graph &rest args)\n",
    "  (declare (ignore args))\n",
    "  (let ((id (jupyter:make-uuid)))\n",
    "    (setf (cytoscape:elements instance)\n",
    "          (append (cytoscape:elements instance)\n",
    "                  (liebler:map-vertices 'list\n",
    "                                        (lambda (vertex)\n",
    "                                          (make-instance 'cytoscape:element\n",
    "                                                         :group \"nodes\"\n",
    "                                                         :classes (list (format nil \"color~3,'0d\" (liebler:color graph vertex)))\n",
    "                                                         :data `((\"id\" . ,(format nil \"~A-~A\" id vertex))\n",
    "                                                                 (\"label\" . ,(format nil \"~A\" vertex)))))\n",
    "                                        graph)\n",
    "                  (liebler:map-edges 'list\n",
    "                                     (lambda (vertex1 vertex2)\n",
    "                                       (make-instance 'cytoscape:element\n",
    "                                                      :group \"edges\"\n",
    "                                                      :data `((\"source\" . ,(format nil \"~A-~A\" id vertex1))\n",
    "                                                              (\"target\" . ,(format nil \"~A-~A\" id vertex2)))))\n",
    "                                     graph))))\n",
    "  (values))"
   ]
  },
  {
   "cell_type": "code",
   "execution_count": null,
   "metadata": {},
   "outputs": [
    {
     "ename": "SIMPLE-READER-ERROR",
     "evalue": "Comma not inside a backquote.\n\n  Line: 26, Column: 35, File-Position: 581\n\n  Stream: #<SB-IMPL::STRING-INPUT-STREAM {1003D090B3}>",
     "output_type": "error",
     "traceback": []
    },
    {
     "name": "stderr",
     "output_type": "stream",
     "text": [
      "Comma not inside a backquote.\n",
      "\n",
      "  Line: 26, Column: 35, File-Position: 581\n",
      "\n",
      "  Stream: #<SB-IMPL::STRING-INPUT-STREAM {1003D090B3}>\n",
      "   [Condition of type SB-INT:SIMPLE-READER-ERROR]\n",
      "\n",
      "#<ENVIRONMENT {1003D686F3}>\n",
      "   [Environment of thread #<THREAD \"SHELL Thread\" RUNNING {1002E509C3}>]\n",
      "\n",
      "\n",
      "Backtrace:\n",
      " 5: (SB-KERNEL::%SIGNAL Comma not inside a backquote. Line: 26, Column: 35, File-Position: 581 Stream: #<SB-IMPL::STRING-INPUT-STREAM {1003D090B3}>)\n",
      " 6: (ERROR SIMPLE-READER-ERROR STREAM #<STRING-INPUT-STREAM {1003D090B3}> FORMAT-CONTROL Comma not inside a backquote. FORMAT-ARGUMENTS NIL)\n",
      " 7: (SB-IMPL::COMMA-CHARMACRO #<STRING-INPUT-STREAM {1003D090B3}> #<unused argument>)\n",
      " 8: (SB-IMPL::READ-MAYBE-NOTHING #<STRING-INPUT-STREAM {1003D090B3}> ,)\n",
      " 9: (SB-IMPL::READ-LIST #<STRING-INPUT-STREAM {1003D090B3}> #<unused argument>)\n",
      " 10: (SB-IMPL::READ-MAYBE-NOTHING #<STRING-INPUT-STREAM {1003D090B3}> ()\n",
      " 11: (SB-IMPL::%READ-PRESERVING-WHITESPACE #<STRING-INPUT-STREAM {1003D090B3}> T (NIL) T)\n",
      " 12: (READ #<STRING-INPUT-STREAM {1003D090B3}> T NIL T)\n",
      " 13: (SB-IMPL::READ-QUOTE #<STRING-INPUT-STREAM {1003D090B3}> #<unused argument>)\n",
      " 14: (SB-IMPL::READ-MAYBE-NOTHING #<STRING-INPUT-STREAM {1003D090B3}> ')\n",
      " 15: (SB-IMPL::READ-LIST #<STRING-INPUT-STREAM {1003D090B3}> #<unused argument>)\n",
      " 16: (SB-IMPL::READ-MAYBE-NOTHING #<STRING-INPUT-STREAM {1003D090B3}> ()\n",
      " 17: (SB-IMPL::%READ-PRESERVING-WHITESPACE #<STRING-INPUT-STREAM {1003D090B3}> NIL (NIL) T)\n",
      " 18: (SB-IMPL::%READ-PRESERVING-WHITESPACE #<STRING-INPUT-STREAM {1003D090B3}> NIL (NIL) NIL)\n",
      " 19: (READ #<STRING-INPUT-STREAM {1003D090B3}> NIL EOF4 NIL)\n",
      " 20: (COMMON-LISP-JUPYTER::MY-READ #<STRING-INPUT-STREAM {1003D090B3}> NIL EOF4 NIL)\n",
      " 21: ((:METHOD JUPYTER:EVALUATE-CODE (COMMON-LISP-JUPYTER:KERNEL T)) #<unused argument> (defparameter *colors*\n",
      "    '(\"maroon \t#800000 \t\n",
      "red \t#ff0000 \t\n",
      "purple \t#800080 \t\n",
      "fuchsia \t#ff00ff \t\n",
      "green \t#008000 \t\n",
      "lime \t#00ff00 \t\n",
      "olive \t#808000 \t\n",
      "yellow \t#ffff00 \t\n",
      "navy \t#000080 \t\n",
      "blue \t#0000ff \t\n",
      "teal \t#008080 \t\n",
      "aqua\n",
      "aquamarine\n",
      "\n",
      "\n",
      "(defun nshuffle (sequence)\n",
      "  (loop for i from (length sequence) downto 2\n",
      "        do (rotatef (elt sequence (random i))\n",
      "                    (elt sequence (1- i))))\n",
      "  sequence)\n",
      "\n",
      "(defun color-styles ()\n",
      "  (with-output-to-string (stream)\n",
      "    (trivial-do:dolist* (index color (nshuffle jupyter-widgets::*color-names*))\n",
      "      (format stream \"node.color~3,'0D { background-color: ~A; }~%\" index color)))))\n",
      " 22: (JUPYTER::HANDLE-EXECUTE-REQUEST #<KERNEL {1005478A43}> #<MESSAGE {1003CF9EB3}>)\n",
      " 23: (JUPYTER::HANDLE-SHELL-MESSAGE #<KERNEL {1005478A43}> #<MESSAGE {1003CF9EB3}>)\n",
      " 24: (JUPYTER::RUN-SHELL #<KERNEL {1005478A43}>)\n",
      " 25: ((LAMBDA NIL :IN BORDEAUX-THREADS::BINDING-DEFAULT-SPECIALS))\n",
      " 26: ((FLET SB-UNIX::BODY :IN SB-THREAD::RUN))\n",
      " 27: ((FLET \"WITHOUT-INTERRUPTS-BODY-14\" :IN SB-THREAD::RUN))\n",
      " 28: ((FLET SB-UNIX::BODY :IN SB-THREAD::RUN))\n",
      " 29: ((FLET \"WITHOUT-INTERRUPTS-BODY-4\" :IN SB-THREAD::RUN))\n",
      " 30: (SB-THREAD::RUN)\n",
      " 31: (\"foreign function: call_into_lisp\")\n",
      " 32: (\"foreign function: funcall1\")"
     ]
    }
   ],
   "source": [
    "(defparameter *colors* '(\"maroon\" \"red\" \"purple\" \"fuchsia\" \"green\" \"lime\" \"olive\" \"yellow\" \"navy\" \"blue\" \"teal\" \"aqua\" \"aquamarine\"))\n",
    "\n",
    "\n",
    "(defun nshuffle (sequence)\n",
    "  (loop for i from (length sequence) downto 2\n",
    "        do (rotatef (elt sequence (random i))\n",
    "                    (elt sequence (1- i))))\n",
    "  sequence)\n",
    "\n",
    "(defun color-styles ()\n",
    "  (with-output-to-string (stream)\n",
    "    (trivial-do:dolist* (index color (nshuffle jupyter-widgets::*color-names*))\n",
    "      (format stream \"node.color~3,'0D { background-color: ~A; }~%\" index color))))"
   ]
  },
  {
   "cell_type": "code",
   "execution_count": 4,
   "metadata": {},
   "outputs": [
    {
     "data": {
      "text/plain": [
       "C"
      ]
     },
     "execution_count": 4,
     "metadata": {},
     "output_type": "execute_result"
    },
    {
     "data": {
      "application/vnd.jupyter.widget-view+json": {
       "model_id": "81376014315f4e2c884a990b155a316c",
       "version_major": 2,
       "version_minor": 0
      },
      "text/plain": [
       "A Jupyter Widget"
      ]
     },
     "metadata": {},
     "output_type": "display_data"
    }
   ],
   "source": [
    "(defparameter c (make-instance 'cytoscape:cytoscape-widget\n",
    "                               :graph-layouts (list (make-instance 'cytoscape:cose-layout))\n",
    "                               :graph-style (concatenate 'string \"node { label: data(label); }\" (color-styles))))\n",
    "c"
   ]
  },
  {
   "cell_type": "code",
   "execution_count": 5,
   "metadata": {},
   "outputs": [
    {
     "data": {
      "text/plain": [
       "G"
      ]
     },
     "execution_count": 5,
     "metadata": {},
     "output_type": "execute_result"
    }
   ],
   "source": [
    "(defparameter g (liebler:make-adjacency-matrix 6\n",
    "                                               :edges '((0 . 1) (0 . 4) (1 . 4) (1 . 2)\n",
    "                                                        (2 . 3) (3 . 4) (3 . 5))))"
   ]
  },
  {
   "cell_type": "code",
   "execution_count": 6,
   "metadata": {},
   "outputs": [],
   "source": [
    "(cytoscape:add-graph c g)"
   ]
  },
  {
   "cell_type": "code",
   "execution_count": 7,
   "metadata": {},
   "outputs": [],
   "source": [
    "(cytoscape:add-graph c (liebler::colorize (liebler:order-graph-by-color (liebler::color-by-ex-degree g) #'>)))"
   ]
  },
  {
   "cell_type": "code",
   "execution_count": null,
   "metadata": {},
   "outputs": [
    {
     "ename": "SIMPLE-PROGRAM-ERROR",
     "evalue": "invalid number of arguments: 2",
     "output_type": "error",
     "traceback": []
    },
    {
     "name": "stderr",
     "output_type": "stream",
     "text": [
      "invalid number of arguments: 2\n",
      "   [Condition of type SB-INT:SIMPLE-PROGRAM-ERROR]\n",
      "\n",
      "#<ENVIRONMENT {1003AAF613}>\n",
      "   [Environment of thread #<THREAD \"SHELL Thread\" RUNNING {1002E509C3}>]\n",
      "\n",
      "\n",
      "Backtrace:\n",
      " 5: (SB-KERNEL::%SIGNAL invalid number of arguments: 2)\n",
      " 6: (ERROR invalid number of arguments: 2)\n",
      " 7: (SB-INT:%PROGRAM-ERROR invalid number of arguments: ~S 2)\n",
      " 8: (\"INVALID-ARG-COUNT-ERROR\" 2)\n",
      " 9: (SB-KERNEL:INTERNAL-ERROR #.(SB-SYS:INT-SAP #X7FC0082BDA00) #<unused argument>)\n",
      " 10: (\"foreign function: call_into_lisp\")\n",
      " 11: (\"foreign function: funcall2\")\n",
      " 12: (\"foreign function: interrupt_internal_error\")\n",
      " 13: (\"foreign function: #x557C5CB6F4F3\")\n",
      " 14: ((LAMBDA (SB-PCL::.ARG0. SB-PCL::.ARG1. SB-PCL::.ARG2.) :IN \"SYS:SRC;PCL;DLISP3.LISP\") 5 0)\n",
      " 15: ((LAMBDA (LIEBLER::OTHER-VERTEX) :IN LIEBLER::EXPAND) 0)\n",
      " 16: (LIEBLER::MAP-ITERATOR (VECTOR (INTEGER 0 1)) #<CLOSURE (LAMBDA (LIEBLER::OTHER-VERTEX) :IN LIEBLER::EXPAND) {10038C8F5B}> #<ADJACENCY-MATRIX-VERTEX-ITERATOR {10038C8FC3}>)\n",
      " 17: ((:METHOD LIEBLER:COLOR-GRAPH (LIEBLER::COLORED-ADJACENCY-MATRIX T)) #<COLORED-ADJACENCY-MATRIX {100386CAD3}> 2 COLOR #<CLOSURE (LAMBDA (LIEBLER::OTHER-VERTEX) :IN LIEBLER::EXPAND) {10038C8F5B}>)\n",
      " 18: (LIEBLER::EXPAND #<COLORED-ADJACENCY-MATRIX {100386CAD3}> #<ORDERED-GRAPH {100386E143}> #<COLORED-ADJACENCY-MATRIX {100386E313}> #<COLORED-ADJACENCY-MATRIX {100386E4F3}>)\n",
      " 19: (SB-INT:SIMPLE-EVAL-IN-LEXENV (MAX-CLIQUE-SEQ G) #<NULL-LEXENV>)\n",
      " 20: (EVAL (MAX-CLIQUE-SEQ G))\n",
      " 21: (COMMON-LISP-JUPYTER::MY-EVAL (MAX-CLIQUE-SEQ G))\n",
      " 22: ((:METHOD JUPYTER:EVALUATE-CODE (COMMON-LISP-JUPYTER:KERNEL T)) #<unused argument> (liebler::max-clique-seq g))\n",
      " 23: (JUPYTER::HANDLE-EXECUTE-REQUEST #<KERNEL {1005478A43}> #<MESSAGE {100385C4B3}>)\n",
      " 24: (JUPYTER::HANDLE-SHELL-MESSAGE #<KERNEL {1005478A43}> #<MESSAGE {100385C4B3}>)\n",
      " 25: (JUPYTER::RUN-SHELL #<KERNEL {1005478A43}>)\n",
      " 26: ((LAMBDA NIL :IN BORDEAUX-THREADS::BINDING-DEFAULT-SPECIALS))\n",
      " 27: ((FLET SB-UNIX::BODY :IN SB-THREAD::RUN))\n",
      " 28: ((FLET \"WITHOUT-INTERRUPTS-BODY-14\" :IN SB-THREAD::RUN))\n",
      " 29: ((FLET SB-UNIX::BODY :IN SB-THREAD::RUN))\n",
      " 30: ((FLET \"WITHOUT-INTERRUPTS-BODY-4\" :IN SB-THREAD::RUN))\n",
      " 31: (SB-THREAD::RUN)\n",
      " 32: (\"foreign function: call_into_lisp\")\n",
      " 33: (\"foreign function: funcall1\")"
     ]
    }
   ],
   "source": [
    "(liebler::max-clique-seq g)"
   ]
  },
  {
   "cell_type": "code",
   "execution_count": null,
   "metadata": {},
   "outputs": [],
   "source": []
  }
 ],
 "metadata": {
  "kernelspec": {
   "display_name": "Common Lisp (SBCL)",
   "language": "common-lisp",
   "name": "common-lisp_sbcl"
  },
  "language_info": {
   "codemirror_mode": "text/x-common-lisp",
   "file_extension": ".lisp",
   "mimetype": "text/x-common-lisp",
   "name": "common-lisp",
   "pygments_lexer": "common-lisp",
   "version": "2.0.8"
  }
 },
 "nbformat": 4,
 "nbformat_minor": 4
}
