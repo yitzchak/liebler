{
 "cells": [
  {
   "cell_type": "code",
   "execution_count": 1,
   "metadata": {},
   "outputs": [
    {
     "name": "stdout",
     "output_type": "stream",
     "text": [
      "To load \"liebler\":\n",
      "  Load 1 ASDF system:\n",
      "    liebler\n",
      "\n",
      "; Loading \"liebler\"\n",
      "\n",
      "To load \"cytoscape-clj\":\n",
      "  Load 1 ASDF system:\n",
      "    cytoscape-clj\n",
      "\n",
      "; Loading \"cytoscape-clj\"\n",
      "[package cytoscape]..\n",
      "To load \"trivial-do\":\n",
      "  Load 1 ASDF system:\n",
      "    trivial-do\n"
     ]
    },
    {
     "data": {
      "text/plain": [
       "(:LIEBLER :CYTOSCAPE-CLJ :TRIVIAL-DO)"
      ]
     },
     "execution_count": 1,
     "metadata": {},
     "output_type": "execute_result"
    },
    {
     "name": "stdout",
     "output_type": "stream",
     "text": [
      "\n",
      "; Loading \"trivial-do\"\n",
      "\n"
     ]
    }
   ],
   "source": [
    "(ql:quickload '(:liebler :cytoscape-clj :trivial-do))"
   ]
  },
  {
   "cell_type": "code",
   "execution_count": 2,
   "metadata": {},
   "outputs": [
    {
     "data": {
      "text/plain": [
       "#<STANDARD-METHOD CYTOSCAPE:ADD-GRAPH (T T) {1003AF7CE3}>"
      ]
     },
     "execution_count": 2,
     "metadata": {},
     "output_type": "execute_result"
    }
   ],
   "source": [
    "(defmethod cytoscape:add-graph (instance graph &rest args)\n",
    "  (declare (ignore args))\n",
    "  (let ((id (jupyter:make-uuid)))\n",
    "    (setf (cytoscape:elements instance)\n",
    "          (append (cytoscape:elements instance)\n",
    "                  (map 'list\n",
    "                       (lambda (vertex)\n",
    "                         (make-instance 'cytoscape:element\n",
    "                                        :group \"nodes\"\n",
    "                                        :classes (list (format nil \"color~3,'0d\" (liebler:color graph vertex)))\n",
    "                                        :data (shasht:make-object \"id\" (format nil \"~A-~A\" id vertex)\n",
    "                                                                  \"label\" (format nil \"~A\" vertex))))\n",
    "                       (liebler:vertices graph))\n",
    "                  (map 'list\n",
    "                       (lambda (edge)\n",
    "                         (make-instance 'cytoscape:element\n",
    "                                        :group \"edges\"\n",
    "                                        :data (shasht:make-object \"source\" (format nil \"~A-~A\" id (car edge))\n",
    "                                                                  \"target\" (format nil \"~A-~A\" id (cdr edge)))))\n",
    "                       (liebler:edges graph)))))\n",
    "  (values))"
   ]
  },
  {
   "cell_type": "code",
   "execution_count": 3,
   "metadata": {},
   "outputs": [
    {
     "data": {
      "text/plain": [
       "*COLORS*"
      ]
     },
     "execution_count": 3,
     "metadata": {},
     "output_type": "execute_result"
    },
    {
     "data": {
      "text/plain": [
       "NSHUFFLE"
      ]
     },
     "execution_count": 3,
     "metadata": {},
     "output_type": "execute_result"
    },
    {
     "data": {
      "text/plain": [
       "COLOR-STYLES"
      ]
     },
     "execution_count": 3,
     "metadata": {},
     "output_type": "execute_result"
    }
   ],
   "source": [
    "(defparameter *colors* '(\"maroon\" \"red\" \"purple\" \"fuchsia\" \"green\" \"lime\" \"olive\" \"yellow\" \"navy\" \"blue\" \"teal\" \"aqua\" \"aquamarine\"))\n",
    "\n",
    "\n",
    "(defun nshuffle (sequence)\n",
    "  (loop for i from (length sequence) downto 2\n",
    "        do (rotatef (elt sequence (random i))\n",
    "                    (elt sequence (1- i))))\n",
    "  sequence)\n",
    "\n",
    "(defun color-styles ()\n",
    "  (with-output-to-string (stream)\n",
    "    (trivial-do:dolist* (index color (nshuffle *colors*))\n",
    "      (format stream \"node.color~3,'0D { background-color: ~A; }~%\" index color))))"
   ]
  },
  {
   "cell_type": "code",
   "execution_count": 4,
   "metadata": {},
   "outputs": [
    {
     "data": {
      "text/plain": [
       "C"
      ]
     },
     "execution_count": 4,
     "metadata": {},
     "output_type": "execute_result"
    },
    {
     "data": {
      "application/vnd.jupyter.widget-view+json": {
       "model_id": "bfdb72d9680547aacc22aa45d1bde4c8",
       "version_major": 2,
       "version_minor": 0
      },
      "text/plain": [
       "A Jupyter Widget"
      ]
     },
     "metadata": {},
     "output_type": "display_data"
    }
   ],
   "source": [
    "(defparameter c (make-instance 'cytoscape:cytoscape-widget\n",
    "                               :graph-layouts (list (make-instance 'cytoscape:cose-layout))\n",
    "                               :graph-style (concatenate 'string \"node { label: data(label); }\" (color-styles))))\n",
    "c"
   ]
  },
  {
   "cell_type": "code",
   "execution_count": 5,
   "metadata": {},
   "outputs": [
    {
     "data": {
      "text/plain": [
       "G"
      ]
     },
     "execution_count": 5,
     "metadata": {},
     "output_type": "execute_result"
    }
   ],
   "source": [
    "(defparameter g (liebler:make-adjacency-matrix 6\n",
    "                                               :edges '((0 . 1) (0 . 2) (0 . 3) (0 . 4) (0 . 5) \n",
    "                                                        (1 . 2) (1 . 3) (1 . 4)\n",
    "                                                        (2 . 3))))"
   ]
  },
  {
   "cell_type": "code",
   "execution_count": 6,
   "metadata": {},
   "outputs": [],
   "source": [
    "(cytoscape:add-graph c g)"
   ]
  },
  {
   "cell_type": "code",
   "execution_count": 7,
   "metadata": {},
   "outputs": [
    {
     "data": {
      "text/plain": [
       "S"
      ]
     },
     "execution_count": 7,
     "metadata": {},
     "output_type": "execute_result"
    }
   ],
   "source": [
    "(defparameter s (liebler:bron-kerbosch g))"
   ]
  },
  {
   "cell_type": "code",
   "execution_count": null,
   "metadata": {},
   "outputs": [],
   "source": []
  }
 ],
 "metadata": {
  "kernelspec": {
   "display_name": "Common Lisp (SBCL)",
   "language": "common-lisp",
   "name": "common-lisp_sbcl"
  },
  "language_info": {
   "codemirror_mode": "text/x-common-lisp",
   "file_extension": ".lisp",
   "mimetype": "text/x-common-lisp",
   "name": "common-lisp",
   "pygments_lexer": "common-lisp",
   "version": "2.1.1"
  },
  "widgets": {
   "application/vnd.jupyter.widget-state+json": {
    "state": {
     "2b6ed9e387d14e925bd48d98e13293c4": {
      "model_module": "cytoscape-clj",
      "model_module_version": "^0.4.0",
      "model_name": "ElementModel",
      "state": {
       "_model_module_version": "^0.4.0",
       "_view_module_version": "^0.4.0",
       "classes": [
        "color000"
       ],
       "data": {
        "id": "ea43278941434a58fa6172c582f2701c-4",
        "label": "4"
       },
       "position": {
        "x": 124.10043330144623,
        "y": 145.67555450571217
       }
      }
     },
     "38c91f1340d04eb1683706fc56572e30": {
      "model_module": "cytoscape-clj",
      "model_module_version": "^0.4.0",
      "model_name": "ElementModel",
      "state": {
       "_model_module_version": "^0.4.0",
       "_view_module_version": "^0.4.0",
       "data": {
        "source": "ea43278941434a58fa6172c582f2701c-3",
        "target": "ea43278941434a58fa6172c582f2701c-1"
       },
       "group": "edges"
      }
     },
     "3c5ade35ceed4cb10505dd001ca92d85": {
      "model_module": "cytoscape-clj",
      "model_module_version": "^0.4.0",
      "model_name": "ElementModel",
      "state": {
       "_model_module_version": "^0.4.0",
       "_view_module_version": "^0.4.0",
       "data": {
        "source": "ea43278941434a58fa6172c582f2701c-4",
        "target": "ea43278941434a58fa6172c582f2701c-0"
       },
       "group": "edges"
      }
     },
     "478b1ca53097416ed73a1a18ead711a3": {
      "model_module": "cytoscape-clj",
      "model_module_version": "^0.4.0",
      "model_name": "ElementModel",
      "state": {
       "_model_module_version": "^0.4.0",
       "_view_module_version": "^0.4.0",
       "classes": [
        "color000"
       ],
       "data": {
        "id": "ea43278941434a58fa6172c582f2701c-3",
        "label": "3"
       },
       "position": {
        "x": 15,
        "y": 54.9019572388014
       }
      }
     },
     "490a741af5f147c7401e3abe4183656d": {
      "model_module": "cytoscape-clj",
      "model_module_version": "^0.4.0",
      "model_name": "ElementModel",
      "state": {
       "_model_module_version": "^0.4.0",
       "_view_module_version": "^0.4.0",
       "data": {
        "source": "ea43278941434a58fa6172c582f2701c-3",
        "target": "ea43278941434a58fa6172c582f2701c-0"
       },
       "group": "edges"
      }
     },
     "49a00ffaaf3846d8648be5e2325940c4": {
      "model_module": "cytoscape-clj",
      "model_module_version": "^0.4.0",
      "model_name": "ElementModel",
      "state": {
       "_model_module_version": "^0.4.0",
       "_view_module_version": "^0.4.0",
       "data": {
        "source": "ea43278941434a58fa6172c582f2701c-3",
        "target": "ea43278941434a58fa6172c582f2701c-2"
       },
       "group": "edges"
      }
     },
     "590ebec117744fa25c791888dd548657": {
      "model_module": "cytoscape-clj",
      "model_module_version": "^0.4.0",
      "model_name": "ElementModel",
      "state": {
       "_model_module_version": "^0.4.0",
       "_view_module_version": "^0.4.0",
       "data": {
        "source": "ea43278941434a58fa6172c582f2701c-2",
        "target": "ea43278941434a58fa6172c582f2701c-1"
       },
       "group": "edges"
      }
     },
     "82318e772b28431d4294dcea8686dc1f": {
      "model_module": "cytoscape-clj",
      "model_module_version": "^0.4.0",
      "model_name": "CoseLayoutModel",
      "state": {
       "_model_module_version": "^0.4.0",
       "_view_module_version": "^0.4.0",
       "animation_duration": 250,
       "refresh": 10
      }
     },
     "afde4d86b663449793cb6f1c3f7543bd": {
      "model_module": "cytoscape-clj",
      "model_module_version": "^0.4.0",
      "model_name": "ElementModel",
      "state": {
       "_model_module_version": "^0.4.0",
       "_view_module_version": "^0.4.0",
       "classes": [
        "color000"
       ],
       "data": {
        "id": "ea43278941434a58fa6172c582f2701c-0",
        "label": "0"
       },
       "position": {
        "x": 54.18785967701041,
        "y": 113.59787479354873
       }
      }
     },
     "b902ac585a6e47f7d6d807f4a78df29f": {
      "model_module": "cytoscape-clj",
      "model_module_version": "^0.4.0",
      "model_name": "ElementModel",
      "state": {
       "_model_module_version": "^0.4.0",
       "_view_module_version": "^0.4.0",
       "classes": [
        "color000"
       ],
       "data": {
        "id": "ea43278941434a58fa6172c582f2701c-5",
        "label": "5"
       },
       "position": {
        "x": 38.001008927310465,
        "y": 187.11773128453962
       }
      }
     },
     "bfdb72d9680547aacc22aa45d1bde4c8": {
      "model_module": "cytoscape-clj",
      "model_module_version": "^0.4.0",
      "model_name": "CytoscapeModel",
      "state": {
       "_model_module_version": "^0.4.0",
       "_view_module_version": "^0.4.0",
       "box_selection_enabled": true,
       "desktop_tap_threshold": 4,
       "elements": [
        "IPY_MODEL_afde4d86b663449793cb6f1c3f7543bd",
        "IPY_MODEL_f17652ee68984e427bd478176c1a5083",
        "IPY_MODEL_c83db668c0d1430a7546f72375cd1446",
        "IPY_MODEL_478b1ca53097416ed73a1a18ead711a3",
        "IPY_MODEL_2b6ed9e387d14e925bd48d98e13293c4",
        "IPY_MODEL_b902ac585a6e47f7d6d807f4a78df29f",
        "IPY_MODEL_c99235f42fde406e27be116c1a8f0e04",
        "IPY_MODEL_ee406901bded4463923b51f71728b406",
        "IPY_MODEL_590ebec117744fa25c791888dd548657",
        "IPY_MODEL_490a741af5f147c7401e3abe4183656d",
        "IPY_MODEL_38c91f1340d04eb1683706fc56572e30",
        "IPY_MODEL_49a00ffaaf3846d8648be5e2325940c4",
        "IPY_MODEL_3c5ade35ceed4cb10505dd001ca92d85",
        "IPY_MODEL_d0e3c4ef4e254852ac32c50239fdd248",
        "IPY_MODEL_e139a3748b494664a74b89b05e7b7d49"
       ],
       "graph_layouts": [
        "IPY_MODEL_82318e772b28431d4294dcea8686dc1f"
       ],
       "graph_style": "node { label: data(label); }node.color000 { background-color: purple; }\nnode.color001 { background-color: blue; }\nnode.color002 { background-color: yellow; }\nnode.color003 { background-color: lime; }\nnode.color004 { background-color: olive; }\nnode.color005 { background-color: aqua; }\nnode.color006 { background-color: fuchsia; }\nnode.color007 { background-color: aquamarine; }\nnode.color008 { background-color: green; }\nnode.color009 { background-color: teal; }\nnode.color010 { background-color: maroon; }\nnode.color011 { background-color: navy; }\nnode.color012 { background-color: red; }\n",
       "layout": "IPY_MODEL_df7c24b07ea7440291f717ed6ede3e17",
       "max_zoom": 1.0000000000000003e+50,
       "min_zoom": 9.999999999999999e-51,
       "pan": {
        "x": 699.0381091617885,
        "y": 59.08367541231789
       },
       "zoom": 1.5307197585430476
      }
     },
     "c83db668c0d1430a7546f72375cd1446": {
      "model_module": "cytoscape-clj",
      "model_module_version": "^0.4.0",
      "model_name": "ElementModel",
      "state": {
       "_model_module_version": "^0.4.0",
       "_view_module_version": "^0.4.0",
       "classes": [
        "color000"
       ],
       "data": {
        "id": "ea43278941434a58fa6172c582f2701c-2",
        "label": "2"
       },
       "position": {
        "x": 74.90755307207536,
        "y": 15
       }
      }
     },
     "c99235f42fde406e27be116c1a8f0e04": {
      "model_module": "cytoscape-clj",
      "model_module_version": "^0.4.0",
      "model_name": "ElementModel",
      "state": {
       "_model_module_version": "^0.4.0",
       "_view_module_version": "^0.4.0",
       "data": {
        "source": "ea43278941434a58fa6172c582f2701c-1",
        "target": "ea43278941434a58fa6172c582f2701c-0"
       },
       "group": "edges"
      }
     },
     "d0e3c4ef4e254852ac32c50239fdd248": {
      "model_module": "cytoscape-clj",
      "model_module_version": "^0.4.0",
      "model_name": "ElementModel",
      "state": {
       "_model_module_version": "^0.4.0",
       "_view_module_version": "^0.4.0",
       "data": {
        "source": "ea43278941434a58fa6172c582f2701c-4",
        "target": "ea43278941434a58fa6172c582f2701c-1"
       },
       "group": "edges"
      }
     },
     "df7c24b07ea7440291f717ed6ede3e17": {
      "model_module": "@jupyter-widgets/base",
      "model_module_version": "1.2.0",
      "model_name": "LayoutModel",
      "state": {}
     },
     "e139a3748b494664a74b89b05e7b7d49": {
      "model_module": "cytoscape-clj",
      "model_module_version": "^0.4.0",
      "model_name": "ElementModel",
      "state": {
       "_model_module_version": "^0.4.0",
       "_view_module_version": "^0.4.0",
       "data": {
        "source": "ea43278941434a58fa6172c582f2701c-5",
        "target": "ea43278941434a58fa6172c582f2701c-0"
       },
       "group": "edges"
      }
     },
     "ee406901bded4463923b51f71728b406": {
      "model_module": "cytoscape-clj",
      "model_module_version": "^0.4.0",
      "model_name": "ElementModel",
      "state": {
       "_model_module_version": "^0.4.0",
       "_view_module_version": "^0.4.0",
       "data": {
        "source": "ea43278941434a58fa6172c582f2701c-2",
        "target": "ea43278941434a58fa6172c582f2701c-0"
       },
       "group": "edges"
      }
     },
     "f17652ee68984e427bd478176c1a5083": {
      "model_module": "cytoscape-clj",
      "model_module_version": "^0.4.0",
      "model_name": "ElementModel",
      "state": {
       "_model_module_version": "^0.4.0",
       "_view_module_version": "^0.4.0",
       "classes": [
        "color000"
       ],
       "data": {
        "id": "ea43278941434a58fa6172c582f2701c-1",
        "label": "1"
       },
       "position": {
        "x": 113.11995775884589,
        "y": 75.44856591780939
       }
      }
     }
    },
    "version_major": 2,
    "version_minor": 0
   }
  }
 },
 "nbformat": 4,
 "nbformat_minor": 4
}
