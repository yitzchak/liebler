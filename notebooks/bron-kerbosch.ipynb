{
 "cells": [
  {
   "cell_type": "code",
   "execution_count": 1,
   "metadata": {},
   "outputs": [
    {
     "name": "stdout",
     "output_type": "stream",
     "text": [
      "To load \"liebler\":\n",
      "  Load 1 ASDF system:\n",
      "    liebler\n",
      "\n",
      "; Loading \"liebler\"\n",
      "\n",
      "To load \"cytoscape-clj\":\n",
      "  Load 1 ASDF system:\n",
      "    cytoscape-clj\n",
      "\n",
      "; Loading \"cytoscape-clj\"\n",
      "[package cytoscape]..\n",
      "To load \"trivial-do\":\n",
      "  Load 1 ASDF system:\n",
      "    trivial-do\n"
     ]
    },
    {
     "data": {
      "text/plain": [
       "(:LIEBLER :CYTOSCAPE-CLJ :TRIVIAL-DO)"
      ]
     },
     "execution_count": 1,
     "metadata": {},
     "output_type": "execute_result"
    },
    {
     "name": "stdout",
     "output_type": "stream",
     "text": [
      "\n",
      "; Loading \"trivial-do\"\n",
      "\n"
     ]
    }
   ],
   "source": [
    "(ql:quickload '(:liebler :cytoscape-clj :trivial-do))"
   ]
  },
  {
   "cell_type": "code",
   "execution_count": 2,
   "metadata": {},
   "outputs": [
    {
     "data": {
      "text/plain": [
       "#<STANDARD-METHOD CYTOSCAPE:ADD-GRAPH (T T) {1003AF7CE3}>"
      ]
     },
     "execution_count": 2,
     "metadata": {},
     "output_type": "execute_result"
    }
   ],
   "source": [
    "(defmethod cytoscape:add-graph (instance graph &rest args)\n",
    "  (declare (ignore args))\n",
    "  (let ((id (jupyter:make-uuid)))\n",
    "    (setf (cytoscape:elements instance)\n",
    "          (append (cytoscape:elements instance)\n",
    "                  (map 'list\n",
    "                       (lambda (vertex)\n",
    "                         (make-instance 'cytoscape:element\n",
    "                                        :group \"nodes\"\n",
    "                                        :classes (list (format nil \"color~3,'0d\" (liebler:color graph vertex)))\n",
    "                                        :data (shasht:make-object \"id\" (format nil \"~A-~A\" id vertex)\n",
    "                                                                  \"label\" (format nil \"~A\" vertex))))\n",
    "                       (liebler:vertices graph))\n",
    "                  (map 'list\n",
    "                       (lambda (edge)\n",
    "                         (make-instance 'cytoscape:element\n",
    "                                        :group \"edges\"\n",
    "                                        :data (shasht:make-object \"source\" (format nil \"~A-~A\" id (car edge))\n",
    "                                                                  \"target\" (format nil \"~A-~A\" id (cdr edge)))))\n",
    "                       (liebler:edges graph)))))\n",
    "  (values))"
   ]
  },
  {
   "cell_type": "code",
   "execution_count": 3,
   "metadata": {},
   "outputs": [
    {
     "data": {
      "text/plain": [
       "*COLORS*"
      ]
     },
     "execution_count": 3,
     "metadata": {},
     "output_type": "execute_result"
    },
    {
     "data": {
      "text/plain": [
       "NSHUFFLE"
      ]
     },
     "execution_count": 3,
     "metadata": {},
     "output_type": "execute_result"
    },
    {
     "data": {
      "text/plain": [
       "COLOR-STYLES"
      ]
     },
     "execution_count": 3,
     "metadata": {},
     "output_type": "execute_result"
    }
   ],
   "source": [
    "(defparameter *colors* '(\"maroon\" \"red\" \"purple\" \"fuchsia\" \"green\" \"lime\" \"olive\" \"yellow\" \"navy\" \"blue\" \"teal\" \"aqua\" \"aquamarine\"))\n",
    "\n",
    "\n",
    "(defun nshuffle (sequence)\n",
    "  (loop for i from (length sequence) downto 2\n",
    "        do (rotatef (elt sequence (random i))\n",
    "                    (elt sequence (1- i))))\n",
    "  sequence)\n",
    "\n",
    "(defun color-styles ()\n",
    "  (with-output-to-string (stream)\n",
    "    (trivial-do:dolist* (index color (nshuffle *colors*))\n",
    "      (format stream \"node.color~3,'0D { background-color: ~A; }~%\" index color))))"
   ]
  },
  {
   "cell_type": "code",
   "execution_count": 4,
   "metadata": {},
   "outputs": [
    {
     "data": {
      "text/plain": [
       "C"
      ]
     },
     "execution_count": 4,
     "metadata": {},
     "output_type": "execute_result"
    },
    {
     "data": {
      "application/vnd.jupyter.widget-view+json": {
       "model_id": "bfdb72d9680547aacc22aa45d1bde4c8",
       "version_major": 2,
       "version_minor": 0
      },
      "text/plain": [
       "A Jupyter Widget"
      ]
     },
     "metadata": {},
     "output_type": "display_data"
    }
   ],
   "source": [
    "(defparameter c (make-instance 'cytoscape:cytoscape-widget\n",
    "                               :graph-layouts (list (make-instance 'cytoscape:cose-layout))\n",
    "                               :graph-style (concatenate 'string \"node { label: data(label); }\" (color-styles))))\n",
    "c"
   ]
  },
  {
   "cell_type": "code",
   "execution_count": 5,
   "metadata": {},
   "outputs": [
    {
     "data": {
      "text/plain": [
       "G"
      ]
     },
     "execution_count": 5,
     "metadata": {},
     "output_type": "execute_result"
    }
   ],
   "source": [
    "(defparameter g (liebler:make-adjacency-matrix 6\n",
    "                                               :edges '((0 . 1) (0 . 2) (0 . 3) (0 . 4) (0 . 5) \n",
    "                                                        (1 . 2) (1 . 3) (1 . 4)\n",
    "                                                        (2 . 3))))"
   ]
  },
  {
   "cell_type": "code",
   "execution_count": 6,
   "metadata": {},
   "outputs": [],
   "source": [
    "(cytoscape:add-graph c g)"
   ]
  },
  {
   "cell_type": "code",
   "execution_count": 7,
   "metadata": {},
   "outputs": [
    {
     "data": {
      "text/plain": [
       "S"
      ]
     },
     "execution_count": 7,
     "metadata": {},
     "output_type": "execute_result"
    }
   ],
   "source": [
    "(defparameter s (liebler:bron-kerbosch g))"
   ]
  },
  {
   "cell_type": "code",
   "execution_count": 8,
   "metadata": {},
   "outputs": [
    {
     "data": {
      "text/plain": [
       "NIL"
      ]
     },
     "execution_count": 8,
     "metadata": {},
     "output_type": "execute_result"
    }
   ],
   "source": [
    "(dolist (g s)\n",
    "  (cytoscape:add-graph c g))"
   ]
  },
  {
   "cell_type": "code",
   "execution_count": 9,
   "metadata": {},
   "outputs": [
    {
     "data": {
      "text/plain": [
       "(#<LIEBLER::COLORED-ADJACENCY-MATRIX {100317B933}>\n",
       " #<LIEBLER::COLORED-ADJACENCY-MATRIX {100317D523}>\n",
       " #<LIEBLER::COLORED-ADJACENCY-MATRIX {100317E503}>)"
      ]
     },
     "execution_count": 9,
     "metadata": {},
     "output_type": "execute_result"
    }
   ],
   "source": [
    "s"
   ]
  },
  {
   "cell_type": "code",
   "execution_count": null,
   "metadata": {},
   "outputs": [],
   "source": []
  }
 ],
 "metadata": {
  "kernelspec": {
   "display_name": "Common Lisp (SBCL)",
   "language": "common-lisp",
   "name": "common-lisp_sbcl"
  },
  "language_info": {
   "codemirror_mode": "text/x-common-lisp",
   "file_extension": ".lisp",
   "mimetype": "text/x-common-lisp",
   "name": "common-lisp",
   "pygments_lexer": "common-lisp",
   "version": "2.1.1"
  },
  "widgets": {
   "application/vnd.jupyter.widget-state+json": {
    "state": {
     "081b1a9e02bd48a3fb5e26b7fa259d9e": {
      "model_module": "cytoscape-clj",
      "model_module_version": "^0.4.0",
      "model_name": "ElementModel",
      "state": {
       "_model_module_version": "^0.4.0",
       "_view_module_version": "^0.4.0",
       "data": {
        "source": "cb1a37cd0987478ae6937a4bbafd22db-3",
        "target": "cb1a37cd0987478ae6937a4bbafd22db-0"
       },
       "group": "edges"
      }
     },
     "1021b1e4ee7b42fc87573c55c65113f1": {
      "model_module": "cytoscape-clj",
      "model_module_version": "^0.4.0",
      "model_name": "ElementModel",
      "state": {
       "_model_module_version": "^0.4.0",
       "_view_module_version": "^0.4.0",
       "data": {
        "source": "3c7ac0885c0b4db2065f7354b22e08bd-3",
        "target": "3c7ac0885c0b4db2065f7354b22e08bd-1"
       },
       "group": "edges"
      }
     },
     "16310791a95c4a9c39e2c48fb75a4b78": {
      "model_module": "cytoscape-clj",
      "model_module_version": "^0.4.0",
      "model_name": "ElementModel",
      "state": {
       "_model_module_version": "^0.4.0",
       "_view_module_version": "^0.4.0",
       "data": {
        "source": "5a9248f0cf1a435bbd3eda799945f6a7-3",
        "target": "5a9248f0cf1a435bbd3eda799945f6a7-1"
       },
       "group": "edges"
      }
     },
     "18c5afba02d647b957c7e71950834477": {
      "model_module": "cytoscape-clj",
      "model_module_version": "^0.4.0",
      "model_name": "ElementModel",
      "state": {
       "_model_module_version": "^0.4.0",
       "_view_module_version": "^0.4.0",
       "data": {
        "source": "3c7ac0885c0b4db2065f7354b22e08bd-5",
        "target": "3c7ac0885c0b4db2065f7354b22e08bd-0"
       },
       "group": "edges"
      }
     },
     "1fbdf1c4ad3d4e66d4dfdb86a57fc78f": {
      "model_module": "cytoscape-clj",
      "model_module_version": "^0.4.0",
      "model_name": "ElementModel",
      "state": {
       "_model_module_version": "^0.4.0",
       "_view_module_version": "^0.4.0",
       "data": {
        "source": "3c7ac0885c0b4db2065f7354b22e08bd-4",
        "target": "3c7ac0885c0b4db2065f7354b22e08bd-1"
       },
       "group": "edges"
      }
     },
     "21d23c1d12ee439528e38242387cfd14": {
      "model_module": "cytoscape-clj",
      "model_module_version": "^0.4.0",
      "model_name": "ElementModel",
      "state": {
       "_model_module_version": "^0.4.0",
       "_view_module_version": "^0.4.0",
       "data": {
        "source": "5a9248f0cf1a435bbd3eda799945f6a7-4",
        "target": "5a9248f0cf1a435bbd3eda799945f6a7-0"
       },
       "group": "edges"
      }
     },
     "282d15705abc477cb721e513b38b830d": {
      "model_module": "cytoscape-clj",
      "model_module_version": "^0.4.0",
      "model_name": "ElementModel",
      "state": {
       "_model_module_version": "^0.4.0",
       "_view_module_version": "^0.4.0",
       "classes": [
        "color000"
       ],
       "data": {
        "id": "3c7ac0885c0b4db2065f7354b22e08bd-2",
        "label": "2"
       },
       "position": {
        "x": 251.29772046010913,
        "y": 75.88808160781022
       }
      }
     },
     "2b6ed9e387d14e925bd48d98e13293c4": {
      "model_module": "cytoscape-clj",
      "model_module_version": "^0.4.0",
      "model_name": "ElementModel",
      "state": {
       "_model_module_version": "^0.4.0",
       "_view_module_version": "^0.4.0",
       "classes": [
        "color000"
       ],
       "data": {
        "id": "ea43278941434a58fa6172c582f2701c-4",
        "label": "4"
       },
       "position": {
        "x": 128.09493937729462,
        "y": 227.05793611875706
       }
      }
     },
     "372c8fefa9a84970065822d887fac374": {
      "model_module": "cytoscape-clj",
      "model_module_version": "^0.4.0",
      "model_name": "ElementModel",
      "state": {
       "_model_module_version": "^0.4.0",
       "_view_module_version": "^0.4.0",
       "data": {
        "source": "cb1a37cd0987478ae6937a4bbafd22db-2",
        "target": "cb1a37cd0987478ae6937a4bbafd22db-1"
       },
       "group": "edges"
      }
     },
     "38c91f1340d04eb1683706fc56572e30": {
      "model_module": "cytoscape-clj",
      "model_module_version": "^0.4.0",
      "model_name": "ElementModel",
      "state": {
       "_model_module_version": "^0.4.0",
       "_view_module_version": "^0.4.0",
       "data": {
        "source": "ea43278941434a58fa6172c582f2701c-3",
        "target": "ea43278941434a58fa6172c582f2701c-1"
       },
       "group": "edges"
      }
     },
     "3c5ade35ceed4cb10505dd001ca92d85": {
      "model_module": "cytoscape-clj",
      "model_module_version": "^0.4.0",
      "model_name": "ElementModel",
      "state": {
       "_model_module_version": "^0.4.0",
       "_view_module_version": "^0.4.0",
       "data": {
        "source": "ea43278941434a58fa6172c582f2701c-4",
        "target": "ea43278941434a58fa6172c582f2701c-0"
       },
       "group": "edges"
      }
     },
     "3e11829412c145fc1b787a5981a681a7": {
      "model_module": "cytoscape-clj",
      "model_module_version": "^0.4.0",
      "model_name": "ElementModel",
      "state": {
       "_model_module_version": "^0.4.0",
       "_view_module_version": "^0.4.0",
       "classes": [
        "color000"
       ],
       "data": {
        "id": "3c7ac0885c0b4db2065f7354b22e08bd-5",
        "label": "5"
       },
       "position": {
        "x": 335.4788051588492,
        "y": 157.05793611875706
       }
      }
     },
     "411cf8817eb6491390ce8345ae3b0cd8": {
      "model_module": "cytoscape-clj",
      "model_module_version": "^0.4.0",
      "model_name": "ElementModel",
      "state": {
       "_model_module_version": "^0.4.0",
       "_view_module_version": "^0.4.0",
       "data": {
        "source": "cb1a37cd0987478ae6937a4bbafd22db-5",
        "target": "cb1a37cd0987478ae6937a4bbafd22db-0"
       },
       "group": "edges"
      }
     },
     "42465bd4259f4d0109379194db88edd4": {
      "model_module": "cytoscape-clj",
      "model_module_version": "^0.4.0",
      "model_name": "ElementModel",
      "state": {
       "_model_module_version": "^0.4.0",
       "_view_module_version": "^0.4.0",
       "classes": [
        "color001"
       ],
       "data": {
        "id": "5a9248f0cf1a435bbd3eda799945f6a7-0",
        "label": "0"
       },
       "position": {
        "x": 260.279957760947,
        "y": 302.4016940436806
       }
      }
     },
     "478b1ca53097416ed73a1a18ead711a3": {
      "model_module": "cytoscape-clj",
      "model_module_version": "^0.4.0",
      "model_name": "ElementModel",
      "state": {
       "_model_module_version": "^0.4.0",
       "_view_module_version": "^0.4.0",
       "classes": [
        "color000"
       ],
       "data": {
        "id": "ea43278941434a58fa6172c582f2701c-3",
        "label": "3"
       },
       "position": {
        "x": 147.6704162565178,
        "y": 357.6094890885537
       }
      }
     },
     "490a741af5f147c7401e3abe4183656d": {
      "model_module": "cytoscape-clj",
      "model_module_version": "^0.4.0",
      "model_name": "ElementModel",
      "state": {
       "_model_module_version": "^0.4.0",
       "_view_module_version": "^0.4.0",
       "data": {
        "source": "ea43278941434a58fa6172c582f2701c-3",
        "target": "ea43278941434a58fa6172c582f2701c-0"
       },
       "group": "edges"
      }
     },
     "49a00ffaaf3846d8648be5e2325940c4": {
      "model_module": "cytoscape-clj",
      "model_module_version": "^0.4.0",
      "model_name": "ElementModel",
      "state": {
       "_model_module_version": "^0.4.0",
       "_view_module_version": "^0.4.0",
       "data": {
        "source": "ea43278941434a58fa6172c582f2701c-3",
        "target": "ea43278941434a58fa6172c582f2701c-2"
       },
       "group": "edges"
      }
     },
     "4cbe91bd0e774c8174631fa58a0b2ffa": {
      "model_module": "cytoscape-clj",
      "model_module_version": "^0.4.0",
      "model_name": "ElementModel",
      "state": {
       "_model_module_version": "^0.4.0",
       "_view_module_version": "^0.4.0",
       "data": {
        "source": "cb1a37cd0987478ae6937a4bbafd22db-2",
        "target": "cb1a37cd0987478ae6937a4bbafd22db-0"
       },
       "group": "edges"
      }
     },
     "5010d8ef3b8046afca12e0d54ca69693": {
      "model_module": "cytoscape-clj",
      "model_module_version": "^0.4.0",
      "model_name": "ElementModel",
      "state": {
       "_model_module_version": "^0.4.0",
       "_view_module_version": "^0.4.0",
       "data": {
        "source": "5a9248f0cf1a435bbd3eda799945f6a7-5",
        "target": "5a9248f0cf1a435bbd3eda799945f6a7-0"
       },
       "group": "edges"
      }
     },
     "533dc2f1dd52443d74d8c6042224465f": {
      "model_module": "cytoscape-clj",
      "model_module_version": "^0.4.0",
      "model_name": "ElementModel",
      "state": {
       "_model_module_version": "^0.4.0",
       "_view_module_version": "^0.4.0",
       "classes": [
        "color000"
       ],
       "data": {
        "id": "3c7ac0885c0b4db2065f7354b22e08bd-3",
        "label": "3"
       },
       "position": {
        "x": 259.5445736998909,
        "y": 15
       }
      }
     },
     "55d45c44ff7c4ac081009747e3680e76": {
      "model_module": "cytoscape-clj",
      "model_module_version": "^0.4.0",
      "model_name": "ElementModel",
      "state": {
       "_model_module_version": "^0.4.0",
       "_view_module_version": "^0.4.0",
       "data": {
        "source": "5a9248f0cf1a435bbd3eda799945f6a7-3",
        "target": "5a9248f0cf1a435bbd3eda799945f6a7-2"
       },
       "group": "edges"
      }
     },
     "590ebec117744fa25c791888dd548657": {
      "model_module": "cytoscape-clj",
      "model_module_version": "^0.4.0",
      "model_name": "ElementModel",
      "state": {
       "_model_module_version": "^0.4.0",
       "_view_module_version": "^0.4.0",
       "data": {
        "source": "ea43278941434a58fa6172c582f2701c-2",
        "target": "ea43278941434a58fa6172c582f2701c-1"
       },
       "group": "edges"
      }
     },
     "5956e1ddfa1b4aaea8f45751e6f0e2d1": {
      "model_module": "cytoscape-clj",
      "model_module_version": "^0.4.0",
      "model_name": "ElementModel",
      "state": {
       "_model_module_version": "^0.4.0",
       "_view_module_version": "^0.4.0",
       "classes": [
        "color001"
       ],
       "data": {
        "id": "cb1a37cd0987478ae6937a4bbafd22db-3",
        "label": "3"
       },
       "position": {
        "x": 75.67984540341882,
        "y": 145.231464034336
       }
      }
     },
     "5e1002eb46764d3a14d6fda53494e376": {
      "model_module": "cytoscape-clj",
      "model_module_version": "^0.4.0",
      "model_name": "ElementModel",
      "state": {
       "_model_module_version": "^0.4.0",
       "_view_module_version": "^0.4.0",
       "data": {
        "source": "3c7ac0885c0b4db2065f7354b22e08bd-3",
        "target": "3c7ac0885c0b4db2065f7354b22e08bd-2"
       },
       "group": "edges"
      }
     },
     "6033e2d1222144eeef70f9b55bf9d79b": {
      "model_module": "cytoscape-clj",
      "model_module_version": "^0.4.0",
      "model_name": "ElementModel",
      "state": {
       "_model_module_version": "^0.4.0",
       "_view_module_version": "^0.4.0",
       "data": {
        "source": "cb1a37cd0987478ae6937a4bbafd22db-4",
        "target": "cb1a37cd0987478ae6937a4bbafd22db-1"
       },
       "group": "edges"
      }
     },
     "615179c4d8474458aae316a96cb8af03": {
      "model_module": "cytoscape-clj",
      "model_module_version": "^0.4.0",
      "model_name": "ElementModel",
      "state": {
       "_model_module_version": "^0.4.0",
       "_view_module_version": "^0.4.0",
       "classes": [
        "color000"
       ],
       "data": {
        "id": "5a9248f0cf1a435bbd3eda799945f6a7-2",
        "label": "2"
       },
       "position": {
        "x": 246.74409329604248,
        "y": 242.05591626979236
       }
      }
     },
     "626c2cce90eb425f963cda0f9c6a84e3": {
      "model_module": "cytoscape-clj",
      "model_module_version": "^0.4.0",
      "model_name": "ElementModel",
      "state": {
       "_model_module_version": "^0.4.0",
       "_view_module_version": "^0.4.0",
       "data": {
        "source": "5a9248f0cf1a435bbd3eda799945f6a7-2",
        "target": "5a9248f0cf1a435bbd3eda799945f6a7-1"
       },
       "group": "edges"
      }
     },
     "66be4b67a5a64c63e12b948ba60707f5": {
      "model_module": "cytoscape-clj",
      "model_module_version": "^0.4.0",
      "model_name": "ElementModel",
      "state": {
       "_model_module_version": "^0.4.0",
       "_view_module_version": "^0.4.0",
       "data": {
        "source": "5a9248f0cf1a435bbd3eda799945f6a7-4",
        "target": "5a9248f0cf1a435bbd3eda799945f6a7-1"
       },
       "group": "edges"
      }
     },
     "79e7999154f84eee8cd4a999397b2626": {
      "model_module": "cytoscape-clj",
      "model_module_version": "^0.4.0",
      "model_name": "ElementModel",
      "state": {
       "_model_module_version": "^0.4.0",
       "_view_module_version": "^0.4.0",
       "classes": [
        "color000"
       ],
       "data": {
        "id": "5a9248f0cf1a435bbd3eda799945f6a7-4",
        "label": "4"
       },
       "position": {
        "x": 323.58036594614146,
        "y": 358.4424470314388
       }
      }
     },
     "7c8dfd880d794b0aa67e43421d767d4f": {
      "model_module": "cytoscape-clj",
      "model_module_version": "^0.4.0",
      "model_name": "ElementModel",
      "state": {
       "_model_module_version": "^0.4.0",
       "_view_module_version": "^0.4.0",
       "data": {
        "source": "3c7ac0885c0b4db2065f7354b22e08bd-4",
        "target": "3c7ac0885c0b4db2065f7354b22e08bd-0"
       },
       "group": "edges"
      }
     },
     "7ca8829a8d7747db7b4e248386b23c1b": {
      "model_module": "cytoscape-clj",
      "model_module_version": "^0.4.0",
      "model_name": "ElementModel",
      "state": {
       "_model_module_version": "^0.4.0",
       "_view_module_version": "^0.4.0",
       "data": {
        "source": "cb1a37cd0987478ae6937a4bbafd22db-3",
        "target": "cb1a37cd0987478ae6937a4bbafd22db-1"
       },
       "group": "edges"
      }
     },
     "7dc249b86e374c91b4977ea56049bdf8": {
      "model_module": "cytoscape-clj",
      "model_module_version": "^0.4.0",
      "model_name": "ElementModel",
      "state": {
       "_model_module_version": "^0.4.0",
       "_view_module_version": "^0.4.0",
       "data": {
        "source": "3c7ac0885c0b4db2065f7354b22e08bd-1",
        "target": "3c7ac0885c0b4db2065f7354b22e08bd-0"
       },
       "group": "edges"
      }
     },
     "82318e772b28431d4294dcea8686dc1f": {
      "model_module": "cytoscape-clj",
      "model_module_version": "^0.4.0",
      "model_name": "CoseLayoutModel",
      "state": {
       "_model_module_version": "^0.4.0",
       "_view_module_version": "^0.4.0",
       "animation_duration": 250,
       "refresh": 10
      }
     },
     "88614d41d1ac42bdb66cfe89af20a7de": {
      "model_module": "cytoscape-clj",
      "model_module_version": "^0.4.0",
      "model_name": "ElementModel",
      "state": {
       "_model_module_version": "^0.4.0",
       "_view_module_version": "^0.4.0",
       "classes": [
        "color001"
       ],
       "data": {
        "id": "3c7ac0885c0b4db2065f7354b22e08bd-1",
        "label": "1"
       },
       "position": {
        "x": 321.0841045272567,
        "y": 24.279265455080917
       }
      }
     },
     "8acef81170b844beb0897b86b915fa4d": {
      "model_module": "cytoscape-clj",
      "model_module_version": "^0.4.0",
      "model_name": "ElementModel",
      "state": {
       "_model_module_version": "^0.4.0",
       "_view_module_version": "^0.4.0",
       "classes": [
        "color001"
       ],
       "data": {
        "id": "3c7ac0885c0b4db2065f7354b22e08bd-4",
        "label": "4"
       },
       "position": {
        "x": 384.6900776013823,
        "y": 67.74139392205859
       }
      }
     },
     "8bc18a53f080424c61cb091c2273ccda": {
      "model_module": "cytoscape-clj",
      "model_module_version": "^0.4.0",
      "model_name": "ElementModel",
      "state": {
       "_model_module_version": "^0.4.0",
       "_view_module_version": "^0.4.0",
       "classes": [
        "color001"
       ],
       "data": {
        "id": "cb1a37cd0987478ae6937a4bbafd22db-1",
        "label": "1"
       },
       "position": {
        "x": 53.408045074368204,
        "y": 49.03548073873063
       }
      }
     },
     "96c5c696e9da457e1108a36b5985394b": {
      "model_module": "cytoscape-clj",
      "model_module_version": "^0.4.0",
      "model_name": "ElementModel",
      "state": {
       "_model_module_version": "^0.4.0",
       "_view_module_version": "^0.4.0",
       "classes": [
        "color001"
       ],
       "data": {
        "id": "3c7ac0885c0b4db2065f7354b22e08bd-0",
        "label": "0"
       },
       "position": {
        "x": 313.4802689519702,
        "y": 85.55779710808656
       }
      }
     },
     "97adecee734e49c00aa2e56cdea326fd": {
      "model_module": "cytoscape-clj",
      "model_module_version": "^0.4.0",
      "model_name": "ElementModel",
      "state": {
       "_model_module_version": "^0.4.0",
       "_view_module_version": "^0.4.0",
       "data": {
        "source": "5a9248f0cf1a435bbd3eda799945f6a7-1",
        "target": "5a9248f0cf1a435bbd3eda799945f6a7-0"
       },
       "group": "edges"
      }
     },
     "9954d5e0f1bb4696f5515464253d21c0": {
      "model_module": "cytoscape-clj",
      "model_module_version": "^0.4.0",
      "model_name": "ElementModel",
      "state": {
       "_model_module_version": "^0.4.0",
       "_view_module_version": "^0.4.0",
       "data": {
        "source": "3c7ac0885c0b4db2065f7354b22e08bd-2",
        "target": "3c7ac0885c0b4db2065f7354b22e08bd-1"
       },
       "group": "edges"
      }
     },
     "a44c2f01668744d10dd76d00f2dc5721": {
      "model_module": "cytoscape-clj",
      "model_module_version": "^0.4.0",
      "model_name": "ElementModel",
      "state": {
       "_model_module_version": "^0.4.0",
       "_view_module_version": "^0.4.0",
       "data": {
        "source": "3c7ac0885c0b4db2065f7354b22e08bd-3",
        "target": "3c7ac0885c0b4db2065f7354b22e08bd-0"
       },
       "group": "edges"
      }
     },
     "ab0e10d146bc4441e4a6e80da01c7db7": {
      "model_module": "cytoscape-clj",
      "model_module_version": "^0.4.0",
      "model_name": "ElementModel",
      "state": {
       "_model_module_version": "^0.4.0",
       "_view_module_version": "^0.4.0",
       "data": {
        "source": "cb1a37cd0987478ae6937a4bbafd22db-3",
        "target": "cb1a37cd0987478ae6937a4bbafd22db-2"
       },
       "group": "edges"
      }
     },
     "afde4d86b663449793cb6f1c3f7543bd": {
      "model_module": "cytoscape-clj",
      "model_module_version": "^0.4.0",
      "model_name": "ElementModel",
      "state": {
       "_model_module_version": "^0.4.0",
       "_view_module_version": "^0.4.0",
       "classes": [
        "color000"
       ],
       "data": {
        "id": "ea43278941434a58fa6172c582f2701c-0",
        "label": "0"
       },
       "position": {
        "x": 86.47219245621977,
        "y": 292.5245557407611
       }
      }
     },
     "b1a2a7874c5741cffd8987b311b50f61": {
      "model_module": "cytoscape-clj",
      "model_module_version": "^0.4.0",
      "model_name": "ElementModel",
      "state": {
       "_model_module_version": "^0.4.0",
       "_view_module_version": "^0.4.0",
       "data": {
        "source": "5a9248f0cf1a435bbd3eda799945f6a7-2",
        "target": "5a9248f0cf1a435bbd3eda799945f6a7-0"
       },
       "group": "edges"
      }
     },
     "b471fca1c7304c08195725a7a5652640": {
      "model_module": "cytoscape-clj",
      "model_module_version": "^0.4.0",
      "model_name": "ElementModel",
      "state": {
       "_model_module_version": "^0.4.0",
       "_view_module_version": "^0.4.0",
       "classes": [
        "color000"
       ],
       "data": {
        "id": "cb1a37cd0987478ae6937a4bbafd22db-4",
        "label": "4"
       },
       "position": {
        "x": 121.02239006239398,
        "y": 15
       }
      }
     },
     "b902ac585a6e47f7d6d807f4a78df29f": {
      "model_module": "cytoscape-clj",
      "model_module_version": "^0.4.0",
      "model_name": "ElementModel",
      "state": {
       "_model_module_version": "^0.4.0",
       "_view_module_version": "^0.4.0",
       "classes": [
        "color000"
       ],
       "data": {
        "id": "ea43278941434a58fa6172c582f2701c-5",
        "label": "5"
       },
       "position": {
        "x": 15,
        "y": 273.0310848960529
       }
      }
     },
     "bfdb72d9680547aacc22aa45d1bde4c8": {
      "model_module": "cytoscape-clj",
      "model_module_version": "^0.4.0",
      "model_name": "CytoscapeModel",
      "state": {
       "_model_module_version": "^0.4.0",
       "_view_module_version": "^0.4.0",
       "box_selection_enabled": true,
       "desktop_tap_threshold": 4,
       "elements": [
        "IPY_MODEL_afde4d86b663449793cb6f1c3f7543bd",
        "IPY_MODEL_f17652ee68984e427bd478176c1a5083",
        "IPY_MODEL_c83db668c0d1430a7546f72375cd1446",
        "IPY_MODEL_478b1ca53097416ed73a1a18ead711a3",
        "IPY_MODEL_2b6ed9e387d14e925bd48d98e13293c4",
        "IPY_MODEL_b902ac585a6e47f7d6d807f4a78df29f",
        "IPY_MODEL_c99235f42fde406e27be116c1a8f0e04",
        "IPY_MODEL_ee406901bded4463923b51f71728b406",
        "IPY_MODEL_590ebec117744fa25c791888dd548657",
        "IPY_MODEL_490a741af5f147c7401e3abe4183656d",
        "IPY_MODEL_38c91f1340d04eb1683706fc56572e30",
        "IPY_MODEL_49a00ffaaf3846d8648be5e2325940c4",
        "IPY_MODEL_3c5ade35ceed4cb10505dd001ca92d85",
        "IPY_MODEL_d0e3c4ef4e254852ac32c50239fdd248",
        "IPY_MODEL_e139a3748b494664a74b89b05e7b7d49",
        "IPY_MODEL_ee7d6c60a67c412e75a237b8ecddf077",
        "IPY_MODEL_8bc18a53f080424c61cb091c2273ccda",
        "IPY_MODEL_d6028bdbf157469d50f5efb5fd7bf1b9",
        "IPY_MODEL_5956e1ddfa1b4aaea8f45751e6f0e2d1",
        "IPY_MODEL_b471fca1c7304c08195725a7a5652640",
        "IPY_MODEL_de03f30e4d2b4d13daa25f8127567d86",
        "IPY_MODEL_cc2f3a86ca334f0863901a40267c4ab0",
        "IPY_MODEL_4cbe91bd0e774c8174631fa58a0b2ffa",
        "IPY_MODEL_372c8fefa9a84970065822d887fac374",
        "IPY_MODEL_081b1a9e02bd48a3fb5e26b7fa259d9e",
        "IPY_MODEL_7ca8829a8d7747db7b4e248386b23c1b",
        "IPY_MODEL_ab0e10d146bc4441e4a6e80da01c7db7",
        "IPY_MODEL_e44bea0ac90e45a5a2a947f1e81f9a8d",
        "IPY_MODEL_6033e2d1222144eeef70f9b55bf9d79b",
        "IPY_MODEL_411cf8817eb6491390ce8345ae3b0cd8",
        "IPY_MODEL_96c5c696e9da457e1108a36b5985394b",
        "IPY_MODEL_88614d41d1ac42bdb66cfe89af20a7de",
        "IPY_MODEL_282d15705abc477cb721e513b38b830d",
        "IPY_MODEL_533dc2f1dd52443d74d8c6042224465f",
        "IPY_MODEL_8acef81170b844beb0897b86b915fa4d",
        "IPY_MODEL_3e11829412c145fc1b787a5981a681a7",
        "IPY_MODEL_7dc249b86e374c91b4977ea56049bdf8",
        "IPY_MODEL_dc5f8008359349cd86bdbcdc1382550e",
        "IPY_MODEL_9954d5e0f1bb4696f5515464253d21c0",
        "IPY_MODEL_a44c2f01668744d10dd76d00f2dc5721",
        "IPY_MODEL_1021b1e4ee7b42fc87573c55c65113f1",
        "IPY_MODEL_5e1002eb46764d3a14d6fda53494e376",
        "IPY_MODEL_7c8dfd880d794b0aa67e43421d767d4f",
        "IPY_MODEL_1fbdf1c4ad3d4e66d4dfdb86a57fc78f",
        "IPY_MODEL_18c5afba02d647b957c7e71950834477",
        "IPY_MODEL_42465bd4259f4d0109379194db88edd4",
        "IPY_MODEL_f734044d46d7440ddc24cde792a8498f",
        "IPY_MODEL_615179c4d8474458aae316a96cb8af03",
        "IPY_MODEL_f0aa960f2a5d4f4030d335737c87b6ae",
        "IPY_MODEL_79e7999154f84eee8cd4a999397b2626",
        "IPY_MODEL_f06daaf8da5e468ea703355c41b0ca9a",
        "IPY_MODEL_97adecee734e49c00aa2e56cdea326fd",
        "IPY_MODEL_b1a2a7874c5741cffd8987b311b50f61",
        "IPY_MODEL_626c2cce90eb425f963cda0f9c6a84e3",
        "IPY_MODEL_fc54a2a25737486c0d8216b51b56e831",
        "IPY_MODEL_16310791a95c4a9c39e2c48fb75a4b78",
        "IPY_MODEL_55d45c44ff7c4ac081009747e3680e76",
        "IPY_MODEL_21d23c1d12ee439528e38242387cfd14",
        "IPY_MODEL_66be4b67a5a64c63e12b948ba60707f5",
        "IPY_MODEL_5010d8ef3b8046afca12e0d54ca69693"
       ],
       "graph_layouts": [
        "IPY_MODEL_82318e772b28431d4294dcea8686dc1f"
       ],
       "graph_style": "node { label: data(label); }node.color000 { background-color: purple; }\nnode.color001 { background-color: blue; }\nnode.color002 { background-color: yellow; }\nnode.color003 { background-color: lime; }\nnode.color004 { background-color: olive; }\nnode.color005 { background-color: aqua; }\nnode.color006 { background-color: fuchsia; }\nnode.color007 { background-color: aquamarine; }\nnode.color008 { background-color: green; }\nnode.color009 { background-color: teal; }\nnode.color010 { background-color: maroon; }\nnode.color011 { background-color: navy; }\nnode.color012 { background-color: red; }\n",
       "layout": "IPY_MODEL_df7c24b07ea7440291f717ed6ede3e17",
       "max_zoom": 1.0000000000000003e+50,
       "min_zoom": 9.999999999999999e-51,
       "pan": {
        "x": 637.4735269071124,
        "y": 45.974892386239304
       },
       "zoom": 0.8407838098020698
      }
     },
     "c83db668c0d1430a7546f72375cd1446": {
      "model_module": "cytoscape-clj",
      "model_module_version": "^0.4.0",
      "model_name": "ElementModel",
      "state": {
       "_model_module_version": "^0.4.0",
       "_view_module_version": "^0.4.0",
       "classes": [
        "color000"
       ],
       "data": {
        "id": "ea43278941434a58fa6172c582f2701c-2",
        "label": "2"
       },
       "position": {
        "x": 86.6508267055475,
        "y": 357.9437503034342
       }
      }
     },
     "c99235f42fde406e27be116c1a8f0e04": {
      "model_module": "cytoscape-clj",
      "model_module_version": "^0.4.0",
      "model_name": "ElementModel",
      "state": {
       "_model_module_version": "^0.4.0",
       "_view_module_version": "^0.4.0",
       "data": {
        "source": "ea43278941434a58fa6172c582f2701c-1",
        "target": "ea43278941434a58fa6172c582f2701c-0"
       },
       "group": "edges"
      }
     },
     "cc2f3a86ca334f0863901a40267c4ab0": {
      "model_module": "cytoscape-clj",
      "model_module_version": "^0.4.0",
      "model_name": "ElementModel",
      "state": {
       "_model_module_version": "^0.4.0",
       "_view_module_version": "^0.4.0",
       "data": {
        "source": "cb1a37cd0987478ae6937a4bbafd22db-1",
        "target": "cb1a37cd0987478ae6937a4bbafd22db-0"
       },
       "group": "edges"
      }
     },
     "d0e3c4ef4e254852ac32c50239fdd248": {
      "model_module": "cytoscape-clj",
      "model_module_version": "^0.4.0",
      "model_name": "ElementModel",
      "state": {
       "_model_module_version": "^0.4.0",
       "_view_module_version": "^0.4.0",
       "data": {
        "source": "ea43278941434a58fa6172c582f2701c-4",
        "target": "ea43278941434a58fa6172c582f2701c-1"
       },
       "group": "edges"
      }
     },
     "d6028bdbf157469d50f5efb5fd7bf1b9": {
      "model_module": "cytoscape-clj",
      "model_module_version": "^0.4.0",
      "model_name": "ElementModel",
      "state": {
       "_model_module_version": "^0.4.0",
       "_view_module_version": "^0.4.0",
       "classes": [
        "color001"
       ],
       "data": {
        "id": "cb1a37cd0987478ae6937a4bbafd22db-2",
        "label": "2"
       },
       "position": {
        "x": 15,
        "y": 107.46484300092246
       }
      }
     },
     "dc5f8008359349cd86bdbcdc1382550e": {
      "model_module": "cytoscape-clj",
      "model_module_version": "^0.4.0",
      "model_name": "ElementModel",
      "state": {
       "_model_module_version": "^0.4.0",
       "_view_module_version": "^0.4.0",
       "data": {
        "source": "3c7ac0885c0b4db2065f7354b22e08bd-2",
        "target": "3c7ac0885c0b4db2065f7354b22e08bd-0"
       },
       "group": "edges"
      }
     },
     "de03f30e4d2b4d13daa25f8127567d86": {
      "model_module": "cytoscape-clj",
      "model_module_version": "^0.4.0",
      "model_name": "ElementModel",
      "state": {
       "_model_module_version": "^0.4.0",
       "_view_module_version": "^0.4.0",
       "classes": [
        "color000"
       ],
       "data": {
        "id": "cb1a37cd0987478ae6937a4bbafd22db-5",
        "label": "5"
       },
       "position": {
        "x": 181.29772046010913,
        "y": 127.20773952766183
       }
      }
     },
     "df7c24b07ea7440291f717ed6ede3e17": {
      "model_module": "@jupyter-widgets/base",
      "model_module_version": "1.2.0",
      "model_name": "LayoutModel",
      "state": {}
     },
     "e139a3748b494664a74b89b05e7b7d49": {
      "model_module": "cytoscape-clj",
      "model_module_version": "^0.4.0",
      "model_name": "ElementModel",
      "state": {
       "_model_module_version": "^0.4.0",
       "_view_module_version": "^0.4.0",
       "data": {
        "source": "ea43278941434a58fa6172c582f2701c-5",
        "target": "ea43278941434a58fa6172c582f2701c-0"
       },
       "group": "edges"
      }
     },
     "e44bea0ac90e45a5a2a947f1e81f9a8d": {
      "model_module": "cytoscape-clj",
      "model_module_version": "^0.4.0",
      "model_name": "ElementModel",
      "state": {
       "_model_module_version": "^0.4.0",
       "_view_module_version": "^0.4.0",
       "data": {
        "source": "cb1a37cd0987478ae6937a4bbafd22db-4",
        "target": "cb1a37cd0987478ae6937a4bbafd22db-0"
       },
       "group": "edges"
      }
     },
     "ee406901bded4463923b51f71728b406": {
      "model_module": "cytoscape-clj",
      "model_module_version": "^0.4.0",
      "model_name": "ElementModel",
      "state": {
       "_model_module_version": "^0.4.0",
       "_view_module_version": "^0.4.0",
       "data": {
        "source": "ea43278941434a58fa6172c582f2701c-2",
        "target": "ea43278941434a58fa6172c582f2701c-0"
       },
       "group": "edges"
      }
     },
     "ee7d6c60a67c412e75a237b8ecddf077": {
      "model_module": "cytoscape-clj",
      "model_module_version": "^0.4.0",
      "model_name": "ElementModel",
      "state": {
       "_model_module_version": "^0.4.0",
       "_view_module_version": "^0.4.0",
       "classes": [
        "color001"
       ],
       "data": {
        "id": "cb1a37cd0987478ae6937a4bbafd22db-0",
        "label": "0"
       },
       "position": {
        "x": 114.18674912179472,
        "y": 84.34844270040662
       }
      }
     },
     "f06daaf8da5e468ea703355c41b0ca9a": {
      "model_module": "cytoscape-clj",
      "model_module_version": "^0.4.0",
      "model_name": "ElementModel",
      "state": {
       "_model_module_version": "^0.4.0",
       "_view_module_version": "^0.4.0",
       "classes": [
        "color001"
       ],
       "data": {
        "id": "5a9248f0cf1a435bbd3eda799945f6a7-5",
        "label": "5"
       },
       "position": {
        "x": 220.8433474570828,
        "y": 369.38457072578495
       }
      }
     },
     "f0aa960f2a5d4f4030d335737c87b6ae": {
      "model_module": "cytoscape-clj",
      "model_module_version": "^0.4.0",
      "model_name": "ElementModel",
      "state": {
       "_model_module_version": "^0.4.0",
       "_view_module_version": "^0.4.0",
       "classes": [
        "color000"
       ],
       "data": {
        "id": "5a9248f0cf1a435bbd3eda799945f6a7-3",
        "label": "3"
       },
       "position": {
        "x": 307.8648926832177,
        "y": 227.05793611875706
       }
      }
     },
     "f17652ee68984e427bd478176c1a5083": {
      "model_module": "cytoscape-clj",
      "model_module_version": "^0.4.0",
      "model_name": "ElementModel",
      "state": {
       "_model_module_version": "^0.4.0",
       "_view_module_version": "^0.4.0",
       "classes": [
        "color000"
       ],
       "data": {
        "id": "ea43278941434a58fa6172c582f2701c-1",
        "label": "1"
       },
       "position": {
        "x": 150.8433474570828,
        "y": 295.4291562066401
       }
      }
     },
     "f734044d46d7440ddc24cde792a8498f": {
      "model_module": "cytoscape-clj",
      "model_module_version": "^0.4.0",
      "model_name": "ElementModel",
      "state": {
       "_model_module_version": "^0.4.0",
       "_view_module_version": "^0.4.0",
       "classes": [
        "color000"
       ],
       "data": {
        "id": "5a9248f0cf1a435bbd3eda799945f6a7-1",
        "label": "1"
       },
       "position": {
        "x": 320.80319032350883,
        "y": 287.77317310072823
       }
      }
     },
     "fc54a2a25737486c0d8216b51b56e831": {
      "model_module": "cytoscape-clj",
      "model_module_version": "^0.4.0",
      "model_name": "ElementModel",
      "state": {
       "_model_module_version": "^0.4.0",
       "_view_module_version": "^0.4.0",
       "data": {
        "source": "5a9248f0cf1a435bbd3eda799945f6a7-3",
        "target": "5a9248f0cf1a435bbd3eda799945f6a7-0"
       },
       "group": "edges"
      }
     }
    },
    "version_major": 2,
    "version_minor": 0
   }
  }
 },
 "nbformat": 4,
 "nbformat_minor": 4
}
