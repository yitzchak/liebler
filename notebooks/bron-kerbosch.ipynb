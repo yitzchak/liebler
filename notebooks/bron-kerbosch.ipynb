{
 "cells": [
  {
   "cell_type": "code",
   "execution_count": 41,
   "metadata": {},
   "outputs": [
    {
     "name": "stdout",
     "output_type": "stream",
     "text": [
      "To load \"liebler\":\n",
      "  Load 1 ASDF system:\n",
      "    liebler\n",
      "\n",
      "; Loading \"liebler\"\n",
      "\n",
      "To load \"cytoscape-clj\":\n",
      "  Load 1 ASDF system:\n",
      "    cytoscape-clj\n",
      "\n",
      "; Loading \"cytoscape-clj\"\n",
      "\n",
      "To load \"trivial-do\":\n",
      "  Load 1 ASDF system:\n",
      "    trivial-do\n"
     ]
    },
    {
     "data": {
      "text/plain": [
       "(:LIEBLER :CYTOSCAPE-CLJ :TRIVIAL-DO)"
      ]
     },
     "execution_count": 41,
     "metadata": {},
     "output_type": "execute_result"
    },
    {
     "name": "stdout",
     "output_type": "stream",
     "text": [
      "\n",
      "; Loading \"trivial-do\"\n",
      "\n"
     ]
    }
   ],
   "source": [
    "(ql:quickload '(:liebler :cytoscape-clj :trivial-do))"
   ]
  },
  {
   "cell_type": "code",
   "execution_count": 2,
   "metadata": {},
   "outputs": [
    {
     "data": {
      "text/plain": [
       "#<STANDARD-METHOD CYTOSCAPE:ADD-GRAPH (T T) {1003AF7CE3}>"
      ]
     },
     "execution_count": 2,
     "metadata": {},
     "output_type": "execute_result"
    }
   ],
   "source": [
    "(defmethod cytoscape:add-graph (instance graph &rest args)\n",
    "  (declare (ignore args))\n",
    "  (let ((id (jupyter:make-uuid)))\n",
    "    (setf (cytoscape:elements instance)\n",
    "          (append (cytoscape:elements instance)\n",
    "                  (map 'list\n",
    "                       (lambda (vertex)\n",
    "                         (make-instance 'cytoscape:element\n",
    "                                        :group \"nodes\"\n",
    "                                        :classes (list (format nil \"color~3,'0d\" (liebler:color graph vertex)))\n",
    "                                        :data (shasht:make-object \"id\" (format nil \"~A-~A\" id vertex)\n",
    "                                                                  \"label\" (format nil \"~A\" vertex))))\n",
    "                       (liebler:vertices graph))\n",
    "                  (map 'list\n",
    "                       (lambda (edge)\n",
    "                         (make-instance 'cytoscape:element\n",
    "                                        :group \"edges\"\n",
    "                                        :data (shasht:make-object \"source\" (format nil \"~A-~A\" id (car edge))\n",
    "                                                                  \"target\" (format nil \"~A-~A\" id (cdr edge)))))\n",
    "                       (liebler:edges graph)))))\n",
    "  (values))"
   ]
  },
  {
   "cell_type": "code",
   "execution_count": 3,
   "metadata": {},
   "outputs": [
    {
     "data": {
      "text/plain": [
       "*COLORS*"
      ]
     },
     "execution_count": 3,
     "metadata": {},
     "output_type": "execute_result"
    },
    {
     "data": {
      "text/plain": [
       "NSHUFFLE"
      ]
     },
     "execution_count": 3,
     "metadata": {},
     "output_type": "execute_result"
    },
    {
     "data": {
      "text/plain": [
       "COLOR-STYLES"
      ]
     },
     "execution_count": 3,
     "metadata": {},
     "output_type": "execute_result"
    }
   ],
   "source": [
    "(defparameter *colors* '(\"maroon\" \"red\" \"purple\" \"fuchsia\" \"green\" \"lime\" \"olive\" \"yellow\" \"navy\" \"blue\" \"teal\" \"aqua\" \"aquamarine\"))\n",
    "\n",
    "\n",
    "(defun nshuffle (sequence)\n",
    "  (loop for i from (length sequence) downto 2\n",
    "        do (rotatef (elt sequence (random i))\n",
    "                    (elt sequence (1- i))))\n",
    "  sequence)\n",
    "\n",
    "(defun color-styles ()\n",
    "  (with-output-to-string (stream)\n",
    "    (trivial-do:dolist* (index color (nshuffle *colors*))\n",
    "      (format stream \"node.color~3,'0D { background-color: ~A; }~%\" index color))))"
   ]
  },
  {
   "cell_type": "code",
   "execution_count": 4,
   "metadata": {},
   "outputs": [
    {
     "data": {
      "text/plain": [
       "C"
      ]
     },
     "execution_count": 4,
     "metadata": {},
     "output_type": "execute_result"
    },
    {
     "data": {
      "application/vnd.jupyter.widget-view+json": {
       "model_id": "bfdb72d9680547aacc22aa45d1bde4c8",
       "version_major": 2,
       "version_minor": 0
      },
      "text/plain": [
       "A Jupyter Widget"
      ]
     },
     "metadata": {},
     "output_type": "display_data"
    }
   ],
   "source": [
    "(defparameter c (make-instance 'cytoscape:cytoscape-widget\n",
    "                               :graph-layouts (list (make-instance 'cytoscape:cose-layout))\n",
    "                               :graph-style (concatenate 'string \"node { label: data(label); }\" (color-styles))))\n",
    "c"
   ]
  },
  {
   "cell_type": "code",
   "execution_count": 5,
   "metadata": {},
   "outputs": [
    {
     "data": {
      "text/plain": [
       "G"
      ]
     },
     "execution_count": 5,
     "metadata": {},
     "output_type": "execute_result"
    }
   ],
   "source": [
    "(defparameter g (liebler:make-adjacency-matrix 6\n",
    "                                               :edges '((0 . 1) (0 . 2) (0 . 3) (0 . 4) (0 . 5) \n",
    "                                                        (1 . 2) (1 . 3) (1 . 4)\n",
    "                                                        (2 . 3))))"
   ]
  },
  {
   "cell_type": "code",
   "execution_count": 18,
   "metadata": {},
   "outputs": [],
   "source": [
    "(cytoscape:add-graph c g)"
   ]
  },
  {
   "cell_type": "code",
   "execution_count": 7,
   "metadata": {},
   "outputs": [
    {
     "data": {
      "text/plain": [
       "S"
      ]
     },
     "execution_count": 7,
     "metadata": {},
     "output_type": "execute_result"
    }
   ],
   "source": [
    "(defparameter s (liebler:bron-kerbosch g))"
   ]
  },
  {
   "cell_type": "code",
   "execution_count": 8,
   "metadata": {},
   "outputs": [
    {
     "data": {
      "text/plain": [
       "NIL"
      ]
     },
     "execution_count": 8,
     "metadata": {},
     "output_type": "execute_result"
    }
   ],
   "source": [
    "(dolist (g s)\n",
    "  (cytoscape:add-graph c g))"
   ]
  },
  {
   "cell_type": "code",
   "execution_count": 9,
   "metadata": {},
   "outputs": [
    {
     "data": {
      "text/plain": [
       "(#<LIEBLER::COLORED-ADJACENCY-MATRIX {100317B933}>\n",
       " #<LIEBLER::COLORED-ADJACENCY-MATRIX {100317D523}>\n",
       " #<LIEBLER::COLORED-ADJACENCY-MATRIX {100317E503}>)"
      ]
     },
     "execution_count": 9,
     "metadata": {},
     "output_type": "execute_result"
    }
   ],
   "source": [
    "s"
   ]
  },
  {
   "cell_type": "code",
   "execution_count": 47,
   "metadata": {},
   "outputs": [
    {
     "data": {
      "text/plain": [
       "NIL"
      ]
     },
     "execution_count": 47,
     "metadata": {},
     "output_type": "execute_result"
    }
   ],
   "source": [
    "(dolist (g (liebler:bron-kerbosch-2-queue g)) (cytoscape:add-graph c g))"
   ]
  },
  {
   "cell_type": "code",
   "execution_count": 12,
   "metadata": {},
   "outputs": [
    {
     "data": {
      "text/plain": [
       "#<LIEBLER::COLORED-ADJACENCY-MATRIX {10053D65C3}>"
      ]
     },
     "execution_count": 12,
     "metadata": {},
     "output_type": "execute_result"
    }
   ],
   "source": [
    "(liebler:color-graph g 4 :color 2)"
   ]
  },
  {
   "cell_type": "code",
   "execution_count": 46,
   "metadata": {},
   "outputs": [
    {
     "data": {
      "text/plain": [
       "NIL"
      ]
     },
     "execution_count": 46,
     "metadata": {},
     "output_type": "execute_result"
    }
   ],
   "source": [
    "(setf (cytoscape:elements c) nil)"
   ]
  },
  {
   "cell_type": "code",
   "execution_count": 29,
   "metadata": {},
   "outputs": [
    {
     "name": "stdout",
     "output_type": "stream",
     "text": [
      "To load \"the-cost-of-nothing\":\n",
      "  Load 1 ASDF system:\n",
      "    the-cost-of-nothing\n"
     ]
    },
    {
     "data": {
      "text/plain": [
       "(:THE-COST-OF-NOTHING)"
      ]
     },
     "execution_count": 29,
     "metadata": {},
     "output_type": "execute_result"
    },
    {
     "name": "stdout",
     "output_type": "stream",
     "text": [
      "\n",
      "; Loading \"the-cost-of-nothing\"\n",
      "\n"
     ]
    }
   ],
   "source": [
    "(ql:quickload :the-cost-of-nothing)"
   ]
  },
  {
   "cell_type": "code",
   "execution_count": 43,
   "metadata": {},
   "outputs": [
    {
     "data": {
      "text/plain": [
       "4.8697967779417157d-5"
      ]
     },
     "execution_count": 43,
     "metadata": {},
     "output_type": "execute_result"
    }
   ],
   "source": [
    "(the-cost-of-nothing:benchmark (liebler:bron-kerbosch g))"
   ]
  },
  {
   "cell_type": "code",
   "execution_count": 44,
   "metadata": {},
   "outputs": [
    {
     "data": {
      "text/plain": [
       "4.568611646842327d-5"
      ]
     },
     "execution_count": 44,
     "metadata": {},
     "output_type": "execute_result"
    }
   ],
   "source": [
    "(the-cost-of-nothing:benchmark (liebler:bron-kerbosch-1-queue g))"
   ]
  },
  {
   "cell_type": "code",
   "execution_count": 45,
   "metadata": {},
   "outputs": [
    {
     "data": {
      "text/plain": [
       "2.2878190429811507d-5"
      ]
     },
     "execution_count": 45,
     "metadata": {},
     "output_type": "execute_result"
    }
   ],
   "source": [
    "(the-cost-of-nothing:benchmark (liebler:bron-kerbosch-2-queue g))"
   ]
  },
  {
   "cell_type": "code",
   "execution_count": 38,
   "metadata": {},
   "outputs": [
    {
     "data": {
      "text/plain": [
       "NIL"
      ]
     },
     "execution_count": 38,
     "metadata": {},
     "output_type": "execute_result"
    },
    {
     "name": "stdout",
     "output_type": "stream",
     "text": [
      "1 NIL 1 1\n",
      "2 NIL 1 0\n",
      "3 NIL 1 -1\n"
     ]
    }
   ],
   "source": [
    "(do-bang:do! (b (c 1) (d 1 (1- d)) (a '(1 2 3) :sequence)) () (format t \"~A ~A ~A ~A~%\" a b c d))"
   ]
  },
  {
   "cell_type": "code",
   "execution_count": null,
   "metadata": {},
   "outputs": [],
   "source": []
  }
 ],
 "metadata": {
  "kernelspec": {
   "display_name": "Common Lisp (SBCL)",
   "language": "common-lisp",
   "name": "common-lisp_sbcl"
  },
  "language_info": {
   "codemirror_mode": "text/x-common-lisp",
   "file_extension": ".lisp",
   "mimetype": "text/x-common-lisp",
   "name": "common-lisp",
   "pygments_lexer": "common-lisp",
   "version": "2.1.1"
  },
  "widgets": {
   "application/vnd.jupyter.widget-state+json": {
    "state": {
     "007ba05e6a5647420294f75911009448": {
      "model_module": "cytoscape-clj",
      "model_module_version": "^0.4.0",
      "model_name": "ElementModel",
      "state": {
       "_model_module_version": "^0.4.0",
       "_view_module_version": "^0.4.0",
       "data": {
        "source": "9d5ea15987b0418284cad2c91a78be3b-3",
        "target": "9d5ea15987b0418284cad2c91a78be3b-0"
       },
       "group": "edges"
      }
     },
     "00fb9f1bbbe64ee6990941cf00a57499": {
      "model_module": "cytoscape-clj",
      "model_module_version": "^0.4.0",
      "model_name": "ElementModel",
      "state": {
       "_model_module_version": "^0.4.0",
       "_view_module_version": "^0.4.0",
       "classes": [
        "color000"
       ],
       "data": {
        "id": "cb5e6b4dc43340fab204b3cba34eec9d-1",
        "label": "1"
       },
       "position": {
        "x": 50.73821794491383,
        "y": 105.49691555068907
       }
      }
     },
     "011f8ba5b99a4b875b62cc582a8120b2": {
      "model_module": "cytoscape-clj",
      "model_module_version": "^0.4.0",
      "model_name": "ElementModel",
      "state": {
       "_model_module_version": "^0.4.0",
       "_view_module_version": "^0.4.0",
       "classes": [
        "color001"
       ],
       "data": {
        "id": "4b73936597d3416ce041749a57b1789e-0",
        "label": "0"
       },
       "position": {
        "x": 77.4074990615037,
        "y": 330.53683948211125
       }
      }
     },
     "01468e0cad204c75f65d05ca2d0091d4": {
      "model_module": "cytoscape-clj",
      "model_module_version": "^0.4.0",
      "model_name": "ElementModel",
      "state": {
       "_model_module_version": "^0.4.0",
       "_view_module_version": "^0.4.0",
       "data": {
        "source": "b4056304cf0c45e91c8a99f46518f6d1-2",
        "target": "b4056304cf0c45e91c8a99f46518f6d1-0"
       },
       "group": "edges"
      }
     },
     "01f3ca50cd9446b2e021c5a9eceea3d7": {
      "model_module": "cytoscape-clj",
      "model_module_version": "^0.4.0",
      "model_name": "ElementModel",
      "state": {
       "_model_module_version": "^0.4.0",
       "_view_module_version": "^0.4.0",
       "data": {
        "source": "c7566fdd468741773a31866413acaf86-2",
        "target": "c7566fdd468741773a31866413acaf86-0"
       },
       "group": "edges"
      }
     },
     "02bfd9512bbf4bc112406eb72fd60395": {
      "model_module": "cytoscape-clj",
      "model_module_version": "^0.4.0",
      "model_name": "ElementModel",
      "state": {
       "_model_module_version": "^0.4.0",
       "_view_module_version": "^0.4.0",
       "classes": [
        "color001"
       ],
       "data": {
        "id": "3a93299899564e27beeb053fd200bf16-5",
        "label": "5"
       },
       "position": {
        "x": 379.8183435308974,
        "y": 144.89525434279483
       }
      }
     },
     "03279f05c36f4cbd6bb151f1aa738ccd": {
      "model_module": "cytoscape-clj",
      "model_module_version": "^0.4.0",
      "model_name": "ElementModel",
      "state": {
       "_model_module_version": "^0.4.0",
       "_view_module_version": "^0.4.0",
       "data": {
        "source": "a85585faa2aa4f9801dc40adfd0df3c8-3",
        "target": "a85585faa2aa4f9801dc40adfd0df3c8-1"
       },
       "group": "edges"
      }
     },
     "038b9b818ff94117ecdad153b4b0568d": {
      "model_module": "cytoscape-clj",
      "model_module_version": "^0.4.0",
      "model_name": "ElementModel",
      "state": {
       "_model_module_version": "^0.4.0",
       "_view_module_version": "^0.4.0",
       "classes": [
        "color000"
       ],
       "data": {
        "id": "86f75ad39e144f5bf87397bf36fb8ed5-2",
        "label": "2"
       },
       "position": {
        "x": 344.35973569891837,
        "y": 15
       }
      }
     },
     "03ccb54b3f7940dabede2c3f13409f0f": {
      "model_module": "cytoscape-clj",
      "model_module_version": "^0.4.0",
      "model_name": "ElementModel",
      "state": {
       "_model_module_version": "^0.4.0",
       "_view_module_version": "^0.4.0",
       "data": {
        "source": "220a97e485a042ea362abeae58806717-2",
        "target": "220a97e485a042ea362abeae58806717-0"
       },
       "group": "edges"
      }
     },
     "03f40d868b1a4478444c0c6cc28ac0e0": {
      "model_module": "cytoscape-clj",
      "model_module_version": "^0.4.0",
      "model_name": "ElementModel",
      "state": {
       "_model_module_version": "^0.4.0",
       "_view_module_version": "^0.4.0",
       "classes": [
        "color001"
       ],
       "data": {
        "id": "0cf2b2d71c944ccc6bbfa56ca3ba60fb-1",
        "label": "1"
       },
       "position": {
        "x": 23.683651447280454,
        "y": 74.53300369818126
       }
      }
     },
     "04c12921cfef49ecfb184ff07b9bc930": {
      "model_module": "cytoscape-clj",
      "model_module_version": "^0.4.0",
      "model_name": "ElementModel",
      "state": {
       "_model_module_version": "^0.4.0",
       "_view_module_version": "^0.4.0",
       "data": {
        "source": "4b73936597d3416ce041749a57b1789e-3",
        "target": "4b73936597d3416ce041749a57b1789e-1"
       },
       "group": "edges"
      }
     },
     "0526dc9a602349b0340b1c66393062a0": {
      "model_module": "cytoscape-clj",
      "model_module_version": "^0.4.0",
      "model_name": "ElementModel",
      "state": {
       "_model_module_version": "^0.4.0",
       "_view_module_version": "^0.4.0",
       "classes": [
        "color000"
       ],
       "data": {
        "id": "b4056304cf0c45e91c8a99f46518f6d1-5",
        "label": "5"
       },
       "position": {
        "x": 167.50064748871034,
        "y": 111.97140862076557
       }
      }
     },
     "053525f464b34884184282ca98a19545": {
      "model_module": "cytoscape-clj",
      "model_module_version": "^0.4.0",
      "model_name": "ElementModel",
      "state": {
       "_model_module_version": "^0.4.0",
       "_view_module_version": "^0.4.0",
       "data": {
        "source": "f9f657df43d8459d47b6009cfd005dda-2",
        "target": "f9f657df43d8459d47b6009cfd005dda-1"
       },
       "group": "edges"
      }
     },
     "060113ddad6d49237181a9fed4487bba": {
      "model_module": "cytoscape-clj",
      "model_module_version": "^0.4.0",
      "model_name": "ElementModel",
      "state": {
       "_model_module_version": "^0.4.0",
       "_view_module_version": "^0.4.0",
       "classes": [
        "color001"
       ],
       "data": {
        "id": "7b63220e199141e4bb9b3e888260f92b-0",
        "label": "0"
       },
       "position": {
        "x": 83.01461008603604,
        "y": 73.79775295673754
       }
      }
     },
     "06a6bed2187e43a31cbb55ff893a2aba": {
      "model_module": "cytoscape-clj",
      "model_module_version": "^0.4.0",
      "model_name": "ElementModel",
      "state": {
       "_model_module_version": "^0.4.0",
       "_view_module_version": "^0.4.0",
       "classes": [
        "color001"
       ],
       "data": {
        "id": "cb5e6b4dc43340fab204b3cba34eec9d-5",
        "label": "5"
       },
       "position": {
        "x": 184.42622141323002,
        "y": 79.10652883449825
       }
      }
     },
     "081b1a9e02bd48a3fb5e26b7fa259d9e": {
      "model_module": "cytoscape-clj",
      "model_module_version": "^0.4.0",
      "model_name": "ElementModel",
      "state": {
       "_model_module_version": "^0.4.0",
       "_view_module_version": "^0.4.0",
       "data": {
        "source": "cb1a37cd0987478ae6937a4bbafd22db-3",
        "target": "cb1a37cd0987478ae6937a4bbafd22db-0"
       },
       "group": "edges"
      }
     },
     "08cf6ada0eb14151a7752b0461ffb113": {
      "model_module": "cytoscape-clj",
      "model_module_version": "^0.4.0",
      "model_name": "ElementModel",
      "state": {
       "_model_module_version": "^0.4.0",
       "_view_module_version": "^0.4.0",
       "classes": [
        "color001"
       ],
       "data": {
        "id": "c7566fdd468741773a31866413acaf86-3",
        "label": "3"
       },
       "position": {
        "x": 247.7466447527043,
        "y": 307.890812372156
       }
      }
     },
     "0acc727564e84be112dd03d497b1ddeb": {
      "model_module": "cytoscape-clj",
      "model_module_version": "^0.4.0",
      "model_name": "ElementModel",
      "state": {
       "_model_module_version": "^0.4.0",
       "_view_module_version": "^0.4.0",
       "classes": [
        "color001"
       ],
       "data": {
        "id": "4b73936597d3416ce041749a57b1789e-1",
        "label": "1"
       },
       "position": {
        "x": 15,
        "y": 323.7108668149483
       }
      }
     },
     "0d0bae9f368844525f161fdc34b38a94": {
      "model_module": "cytoscape-clj",
      "model_module_version": "^0.4.0",
      "model_name": "ElementModel",
      "state": {
       "_model_module_version": "^0.4.0",
       "_view_module_version": "^0.4.0",
       "data": {
        "source": "0441ed88a01b4949d0e49ef66a30a4f2-2",
        "target": "0441ed88a01b4949d0e49ef66a30a4f2-1"
       },
       "group": "edges"
      }
     },
     "0d974c4f769348f25e821522bd7f84de": {
      "model_module": "cytoscape-clj",
      "model_module_version": "^0.4.0",
      "model_name": "ElementModel",
      "state": {
       "_model_module_version": "^0.4.0",
       "_view_module_version": "^0.4.0",
       "classes": [
        "color001"
       ],
       "data": {
        "id": "4b73936597d3416ce041749a57b1789e-3",
        "label": "3"
       },
       "position": {
        "x": 81.402561214966,
        "y": 266.00884786283905
       }
      }
     },
     "0e07223f15f54a2b20e4e12a728f321c": {
      "model_module": "cytoscape-clj",
      "model_module_version": "^0.4.0",
      "model_name": "ElementModel",
      "state": {
       "_model_module_version": "^0.4.0",
       "_view_module_version": "^0.4.0",
       "data": {
        "source": "b4056304cf0c45e91c8a99f46518f6d1-3",
        "target": "b4056304cf0c45e91c8a99f46518f6d1-0"
       },
       "group": "edges"
      }
     },
     "0e219aa6f6564173b05f7a7223120118": {
      "model_module": "cytoscape-clj",
      "model_module_version": "^0.4.0",
      "model_name": "ElementModel",
      "state": {
       "_model_module_version": "^0.4.0",
       "_view_module_version": "^0.4.0",
       "classes": [
        "color001"
       ],
       "data": {
        "id": "0441ed88a01b4949d0e49ef66a30a4f2-2",
        "label": "2"
       },
       "position": {
        "x": 326.2222590680738,
        "y": 310.97404596026297
       }
      }
     },
     "0fce9b81d8c245be0b62148349f30486": {
      "model_module": "cytoscape-clj",
      "model_module_version": "^0.4.0",
      "model_name": "ElementModel",
      "state": {
       "_model_module_version": "^0.4.0",
       "_view_module_version": "^0.4.0",
       "data": {
        "source": "3a93299899564e27beeb053fd200bf16-2",
        "target": "3a93299899564e27beeb053fd200bf16-0"
       },
       "group": "edges"
      }
     },
     "1021b1e4ee7b42fc87573c55c65113f1": {
      "model_module": "cytoscape-clj",
      "model_module_version": "^0.4.0",
      "model_name": "ElementModel",
      "state": {
       "_model_module_version": "^0.4.0",
       "_view_module_version": "^0.4.0",
       "data": {
        "source": "3c7ac0885c0b4db2065f7354b22e08bd-3",
        "target": "3c7ac0885c0b4db2065f7354b22e08bd-1"
       },
       "group": "edges"
      }
     },
     "10f9db5b26524d1dd80b04d147ef9fe7": {
      "model_module": "cytoscape-clj",
      "model_module_version": "^0.4.0",
      "model_name": "ElementModel",
      "state": {
       "_model_module_version": "^0.4.0",
       "_view_module_version": "^0.4.0",
       "data": {
        "source": "c7566fdd468741773a31866413acaf86-2",
        "target": "c7566fdd468741773a31866413acaf86-1"
       },
       "group": "edges"
      }
     },
     "11139dd6d666423977419332cb98e440": {
      "model_module": "cytoscape-clj",
      "model_module_version": "^0.4.0",
      "model_name": "ElementModel",
      "state": {
       "_model_module_version": "^0.4.0",
       "_view_module_version": "^0.4.0",
       "data": {
        "source": "9023687454a2454e8a2e402943aaf265-3",
        "target": "9023687454a2454e8a2e402943aaf265-2"
       },
       "group": "edges"
      }
     },
     "125512e0e755446ada6ba515dcbeb727": {
      "model_module": "cytoscape-clj",
      "model_module_version": "^0.4.0",
      "model_name": "ElementModel",
      "state": {
       "_model_module_version": "^0.4.0",
       "_view_module_version": "^0.4.0",
       "data": {
        "source": "3a93299899564e27beeb053fd200bf16-3",
        "target": "3a93299899564e27beeb053fd200bf16-2"
       },
       "group": "edges"
      }
     },
     "13705e5b7ff9459d7e23058d3972d31f": {
      "model_module": "cytoscape-clj",
      "model_module_version": "^0.4.0",
      "model_name": "ElementModel",
      "state": {
       "_model_module_version": "^0.4.0",
       "_view_module_version": "^0.4.0",
       "data": {
        "source": "0441ed88a01b4949d0e49ef66a30a4f2-1",
        "target": "0441ed88a01b4949d0e49ef66a30a4f2-0"
       },
       "group": "edges"
      }
     },
     "1525abd23ab64ed6476a71348640372b": {
      "model_module": "cytoscape-clj",
      "model_module_version": "^0.4.0",
      "model_name": "ElementModel",
      "state": {
       "_model_module_version": "^0.4.0",
       "_view_module_version": "^0.4.0",
       "data": {
        "source": "9023687454a2454e8a2e402943aaf265-3",
        "target": "9023687454a2454e8a2e402943aaf265-0"
       },
       "group": "edges"
      }
     },
     "16310791a95c4a9c39e2c48fb75a4b78": {
      "model_module": "cytoscape-clj",
      "model_module_version": "^0.4.0",
      "model_name": "ElementModel",
      "state": {
       "_model_module_version": "^0.4.0",
       "_view_module_version": "^0.4.0",
       "data": {
        "source": "5a9248f0cf1a435bbd3eda799945f6a7-3",
        "target": "5a9248f0cf1a435bbd3eda799945f6a7-1"
       },
       "group": "edges"
      }
     },
     "163813abee51457ed3311bbd2add0d6a": {
      "model_module": "cytoscape-clj",
      "model_module_version": "^0.4.0",
      "model_name": "ElementModel",
      "state": {
       "_model_module_version": "^0.4.0",
       "_view_module_version": "^0.4.0",
       "data": {
        "source": "c7566fdd468741773a31866413acaf86-3",
        "target": "c7566fdd468741773a31866413acaf86-2"
       },
       "group": "edges"
      }
     },
     "16fd824c2f8645744e556f39367356f8": {
      "model_module": "cytoscape-clj",
      "model_module_version": "^0.4.0",
      "model_name": "ElementModel",
      "state": {
       "_model_module_version": "^0.4.0",
       "_view_module_version": "^0.4.0",
       "data": {
        "source": "86f75ad39e144f5bf87397bf36fb8ed5-5",
        "target": "86f75ad39e144f5bf87397bf36fb8ed5-0"
       },
       "group": "edges"
      }
     },
     "17ac38172aca4a1a883e084f4fcc8ccd": {
      "model_module": "cytoscape-clj",
      "model_module_version": "^0.4.0",
      "model_name": "ElementModel",
      "state": {
       "_model_module_version": "^0.4.0",
       "_view_module_version": "^0.4.0",
       "data": {
        "source": "7809096b75bd47a8aeeef25912f4a38c-2",
        "target": "7809096b75bd47a8aeeef25912f4a38c-0"
       },
       "group": "edges"
      }
     },
     "188cc6ed9d984b4be9b41eb1d8639ff6": {
      "model_module": "cytoscape-clj",
      "model_module_version": "^0.4.0",
      "model_name": "ElementModel",
      "state": {
       "_model_module_version": "^0.4.0",
       "_view_module_version": "^0.4.0",
       "classes": [
        "color000"
       ],
       "data": {
        "id": "64d3f67cac4f41036f568892daa181bf-4",
        "label": "4"
       },
       "position": {
        "x": 535.5275508156484,
        "y": 359.93692354474194
       }
      }
     },
     "18c5afba02d647b957c7e71950834477": {
      "model_module": "cytoscape-clj",
      "model_module_version": "^0.4.0",
      "model_name": "ElementModel",
      "state": {
       "_model_module_version": "^0.4.0",
       "_view_module_version": "^0.4.0",
       "data": {
        "source": "3c7ac0885c0b4db2065f7354b22e08bd-5",
        "target": "3c7ac0885c0b4db2065f7354b22e08bd-0"
       },
       "group": "edges"
      }
     },
     "199e57a29d8546db3e6d7b59ef8795d2": {
      "model_module": "cytoscape-clj",
      "model_module_version": "^0.4.0",
      "model_name": "ElementModel",
      "state": {
       "_model_module_version": "^0.4.0",
       "_view_module_version": "^0.4.0",
       "classes": [
        "color000"
       ],
       "data": {
        "id": "9d5ea15987b0418284cad2c91a78be3b-5",
        "label": "5"
       },
       "position": {
        "x": 321.4635096163823,
        "y": 193.4438675935463
       }
      }
     },
     "1bf5f669d05345b75b21e2bb5e0d33fb": {
      "model_module": "cytoscape-clj",
      "model_module_version": "^0.4.0",
      "model_name": "ElementModel",
      "state": {
       "_model_module_version": "^0.4.0",
       "_view_module_version": "^0.4.0",
       "data": {
        "source": "bb29137c638f4c8dba4c0499e8ac7c96-1",
        "target": "bb29137c638f4c8dba4c0499e8ac7c96-0"
       },
       "group": "edges"
      }
     },
     "1c3d11f0257148fd53e338410c1a7dca": {
      "model_module": "cytoscape-clj",
      "model_module_version": "^0.4.0",
      "model_name": "ElementModel",
      "state": {
       "_model_module_version": "^0.4.0",
       "_view_module_version": "^0.4.0",
       "data": {
        "source": "7809096b75bd47a8aeeef25912f4a38c-1",
        "target": "7809096b75bd47a8aeeef25912f4a38c-0"
       },
       "group": "edges"
      }
     },
     "1cd209cb77864b5deef44f3929a09165": {
      "model_module": "cytoscape-clj",
      "model_module_version": "^0.4.0",
      "model_name": "ElementModel",
      "state": {
       "_model_module_version": "^0.4.0",
       "_view_module_version": "^0.4.0",
       "data": {
        "source": "0cf2b2d71c944ccc6bbfa56ca3ba60fb-3",
        "target": "0cf2b2d71c944ccc6bbfa56ca3ba60fb-2"
       },
       "group": "edges"
      }
     },
     "1d65fb8487e342fe130d4b6d801ed490": {
      "model_module": "cytoscape-clj",
      "model_module_version": "^0.4.0",
      "model_name": "ElementModel",
      "state": {
       "_model_module_version": "^0.4.0",
       "_view_module_version": "^0.4.0",
       "data": {
        "source": "0441ed88a01b4949d0e49ef66a30a4f2-4",
        "target": "0441ed88a01b4949d0e49ef66a30a4f2-1"
       },
       "group": "edges"
      }
     },
     "1dd8f287e0b24203d012cd75b030bd4f": {
      "model_module": "cytoscape-clj",
      "model_module_version": "^0.4.0",
      "model_name": "ElementModel",
      "state": {
       "_model_module_version": "^0.4.0",
       "_view_module_version": "^0.4.0",
       "classes": [
        "color000"
       ],
       "data": {
        "id": "64d3f67cac4f41036f568892daa181bf-3",
        "label": "3"
       },
       "position": {
        "x": 421.50335474173363,
        "y": 285.072341551807
       }
      }
     },
     "1fbdf1c4ad3d4e66d4dfdb86a57fc78f": {
      "model_module": "cytoscape-clj",
      "model_module_version": "^0.4.0",
      "model_name": "ElementModel",
      "state": {
       "_model_module_version": "^0.4.0",
       "_view_module_version": "^0.4.0",
       "data": {
        "source": "3c7ac0885c0b4db2065f7354b22e08bd-4",
        "target": "3c7ac0885c0b4db2065f7354b22e08bd-1"
       },
       "group": "edges"
      }
     },
     "20fc3dfa427b4700b4128145a8231222": {
      "model_module": "cytoscape-clj",
      "model_module_version": "^0.4.0",
      "model_name": "ElementModel",
      "state": {
       "_model_module_version": "^0.4.0",
       "_view_module_version": "^0.4.0",
       "classes": [
        "color000"
       ],
       "data": {
        "id": "9023687454a2454e8a2e402943aaf265-3",
        "label": "3"
       },
       "position": {
        "x": 186.4078237365282,
        "y": 95.92061722949231
       }
      }
     },
     "21824edfe1404a02103b22f90fc51374": {
      "model_module": "cytoscape-clj",
      "model_module_version": "^0.4.0",
      "model_name": "ElementModel",
      "state": {
       "_model_module_version": "^0.4.0",
       "_view_module_version": "^0.4.0",
       "data": {
        "source": "0cf2b2d71c944ccc6bbfa56ca3ba60fb-3",
        "target": "0cf2b2d71c944ccc6bbfa56ca3ba60fb-1"
       },
       "group": "edges"
      }
     },
     "21d23c1d12ee439528e38242387cfd14": {
      "model_module": "cytoscape-clj",
      "model_module_version": "^0.4.0",
      "model_name": "ElementModel",
      "state": {
       "_model_module_version": "^0.4.0",
       "_view_module_version": "^0.4.0",
       "data": {
        "source": "5a9248f0cf1a435bbd3eda799945f6a7-4",
        "target": "5a9248f0cf1a435bbd3eda799945f6a7-0"
       },
       "group": "edges"
      }
     },
     "2372e2af54c549557f60eacb2abc4f90": {
      "model_module": "cytoscape-clj",
      "model_module_version": "^0.4.0",
      "model_name": "ElementModel",
      "state": {
       "_model_module_version": "^0.4.0",
       "_view_module_version": "^0.4.0",
       "classes": [
        "color000"
       ],
       "data": {
        "id": "9d5ea15987b0418284cad2c91a78be3b-2",
        "label": "2"
       },
       "position": {
        "x": 359.80324221230694,
        "y": 93.94200904882942
       }
      }
     },
     "23a00ad606534decb3771c7261f14d3b": {
      "model_module": "cytoscape-clj",
      "model_module_version": "^0.4.0",
      "model_name": "ElementModel",
      "state": {
       "_model_module_version": "^0.4.0",
       "_view_module_version": "^0.4.0",
       "classes": [
        "color001"
       ],
       "data": {
        "id": "64d3f67cac4f41036f568892daa181bf-5",
        "label": "5"
       },
       "position": {
        "x": 546.7742099877262,
        "y": 251.66425611635157
       }
      }
     },
     "245496c1b3604a68945f4eae245dddbf": {
      "model_module": "cytoscape-clj",
      "model_module_version": "^0.4.0",
      "model_name": "ElementModel",
      "state": {
       "_model_module_version": "^0.4.0",
       "_view_module_version": "^0.4.0",
       "data": {
        "source": "9d5ea15987b0418284cad2c91a78be3b-3",
        "target": "9d5ea15987b0418284cad2c91a78be3b-1"
       },
       "group": "edges"
      }
     },
     "24c4199b1cf54f082993474e43bad0d3": {
      "model_module": "cytoscape-clj",
      "model_module_version": "^0.4.0",
      "model_name": "ElementModel",
      "state": {
       "_model_module_version": "^0.4.0",
       "_view_module_version": "^0.4.0",
       "classes": [
        "color001"
       ],
       "data": {
        "id": "0cf2b2d71c944ccc6bbfa56ca3ba60fb-2",
        "label": "2"
       },
       "position": {
        "x": 72.20363862407515,
        "y": 15
       }
      }
     },
     "24c7ae6899784389f3c0b10ed92264c0": {
      "model_module": "cytoscape-clj",
      "model_module_version": "^0.4.0",
      "model_name": "ElementModel",
      "state": {
       "_model_module_version": "^0.4.0",
       "_view_module_version": "^0.4.0",
       "data": {
        "source": "0cf2b2d71c944ccc6bbfa56ca3ba60fb-2",
        "target": "0cf2b2d71c944ccc6bbfa56ca3ba60fb-1"
       },
       "group": "edges"
      }
     },
     "253426bc7b924363686c8b1729cb1382": {
      "model_module": "cytoscape-clj",
      "model_module_version": "^0.4.0",
      "model_name": "ElementModel",
      "state": {
       "_model_module_version": "^0.4.0",
       "_view_module_version": "^0.4.0",
       "data": {
        "source": "3a93299899564e27beeb053fd200bf16-3",
        "target": "3a93299899564e27beeb053fd200bf16-1"
       },
       "group": "edges"
      }
     },
     "25d03f47ffee4de4ce6cd90b297779d3": {
      "model_module": "cytoscape-clj",
      "model_module_version": "^0.4.0",
      "model_name": "ElementModel",
      "state": {
       "_model_module_version": "^0.4.0",
       "_view_module_version": "^0.4.0",
       "classes": [
        "color000"
       ],
       "data": {
        "id": "7b63220e199141e4bb9b3e888260f92b-2",
        "label": "2"
       },
       "position": {
        "x": 126.68504295146236,
        "y": 15
       }
      }
     },
     "25fdcf1e055c4f4472806e34d7680338": {
      "model_module": "cytoscape-clj",
      "model_module_version": "^0.4.0",
      "model_name": "ElementModel",
      "state": {
       "_model_module_version": "^0.4.0",
       "_view_module_version": "^0.4.0",
       "data": {
        "source": "f9f657df43d8459d47b6009cfd005dda-3",
        "target": "f9f657df43d8459d47b6009cfd005dda-0"
       },
       "group": "edges"
      }
     },
     "26f4b6fd922d4e900b33f3cc1d5a2ed6": {
      "model_module": "cytoscape-clj",
      "model_module_version": "^0.4.0",
      "model_name": "ElementModel",
      "state": {
       "_model_module_version": "^0.4.0",
       "_view_module_version": "^0.4.0",
       "data": {
        "source": "bb29137c638f4c8dba4c0499e8ac7c96-3",
        "target": "bb29137c638f4c8dba4c0499e8ac7c96-2"
       },
       "group": "edges"
      }
     },
     "2785708d3b934612463274cb2e7ef8e9": {
      "model_module": "cytoscape-clj",
      "model_module_version": "^0.4.0",
      "model_name": "ElementModel",
      "state": {
       "_model_module_version": "^0.4.0",
       "_view_module_version": "^0.4.0",
       "data": {
        "source": "0441ed88a01b4949d0e49ef66a30a4f2-5",
        "target": "0441ed88a01b4949d0e49ef66a30a4f2-0"
       },
       "group": "edges"
      }
     },
     "27c3855ccd0e4dc04e60c092cf21b4d3": {
      "model_module": "cytoscape-clj",
      "model_module_version": "^0.4.0",
      "model_name": "ElementModel",
      "state": {
       "_model_module_version": "^0.4.0",
       "_view_module_version": "^0.4.0",
       "classes": [
        "color000"
       ],
       "data": {
        "id": "3a93299899564e27beeb053fd200bf16-2",
        "label": "2"
       },
       "position": {
        "x": 237.50064748871034,
        "y": 51.99773234545991
       }
      }
     },
     "281c2012d6604b0288651b2f19f65814": {
      "model_module": "cytoscape-clj",
      "model_module_version": "^0.4.0",
      "model_name": "ElementModel",
      "state": {
       "_model_module_version": "^0.4.0",
       "_view_module_version": "^0.4.0",
       "classes": [
        "color000"
       ],
       "data": {
        "id": "f9f657df43d8459d47b6009cfd005dda-4",
        "label": "4"
       },
       "position": {
        "x": 24.47135576851008,
        "y": 348.9099333934379
       }
      }
     },
     "282d15705abc477cb721e513b38b830d": {
      "model_module": "cytoscape-clj",
      "model_module_version": "^0.4.0",
      "model_name": "ElementModel",
      "state": {
       "_model_module_version": "^0.4.0",
       "_view_module_version": "^0.4.0",
       "classes": [
        "color000"
       ],
       "data": {
        "id": "3c7ac0885c0b4db2065f7354b22e08bd-2",
        "label": "2"
       },
       "position": {
        "x": 251.29772046010913,
        "y": 75.88808160781022
       }
      }
     },
     "2a941bf71e474e435cac171fb031005c": {
      "model_module": "cytoscape-clj",
      "model_module_version": "^0.4.0",
      "model_name": "ElementModel",
      "state": {
       "_model_module_version": "^0.4.0",
       "_view_module_version": "^0.4.0",
       "classes": [
        "color000"
       ],
       "data": {
        "id": "974b8f7dbb2a4b9dc51539d5fdecf009-3",
        "label": "3"
       },
       "position": {
        "x": 15,
        "y": 346.1139158893978
       }
      }
     },
     "2ada757adbd8490cde0c483bf8aa60e3": {
      "model_module": "cytoscape-clj",
      "model_module_version": "^0.4.0",
      "model_name": "ElementModel",
      "state": {
       "_model_module_version": "^0.4.0",
       "_view_module_version": "^0.4.0",
       "data": {
        "source": "240e5e5fbfdd4612083799b0eb50f950-2",
        "target": "240e5e5fbfdd4612083799b0eb50f950-1"
       },
       "group": "edges"
      }
     },
     "2b6631dbd44c43d3b69804fecaf820c8": {
      "model_module": "cytoscape-clj",
      "model_module_version": "^0.4.0",
      "model_name": "ElementModel",
      "state": {
       "_model_module_version": "^0.4.0",
       "_view_module_version": "^0.4.0",
       "data": {
        "source": "7809096b75bd47a8aeeef25912f4a38c-4",
        "target": "7809096b75bd47a8aeeef25912f4a38c-1"
       },
       "group": "edges"
      }
     },
     "2b6ed9e387d14e925bd48d98e13293c4": {
      "model_module": "cytoscape-clj",
      "model_module_version": "^0.4.0",
      "model_name": "ElementModel",
      "state": {
       "_model_module_version": "^0.4.0",
       "_view_module_version": "^0.4.0",
       "classes": [
        "color000"
       ],
       "data": {
        "id": "ea43278941434a58fa6172c582f2701c-4",
        "label": "4"
       },
       "position": {
        "x": 128.09493937729462,
        "y": 227.05793611875706
       }
      }
     },
     "2c209747ddb84107f2faefdaa440db79": {
      "model_module": "cytoscape-clj",
      "model_module_version": "^0.4.0",
      "model_name": "ElementModel",
      "state": {
       "_model_module_version": "^0.4.0",
       "_view_module_version": "^0.4.0",
       "data": {
        "source": "3a93299899564e27beeb053fd200bf16-5",
        "target": "3a93299899564e27beeb053fd200bf16-0"
       },
       "group": "edges"
      }
     },
     "2d364d3aa8b341c3c53bcf9bc208a234": {
      "model_module": "cytoscape-clj",
      "model_module_version": "^0.4.0",
      "model_name": "ElementModel",
      "state": {
       "_model_module_version": "^0.4.0",
       "_view_module_version": "^0.4.0",
       "data": {
        "source": "cb5e6b4dc43340fab204b3cba34eec9d-4",
        "target": "cb5e6b4dc43340fab204b3cba34eec9d-0"
       },
       "group": "edges"
      }
     },
     "2dc2c26d8e5e4b7963ebf8f35a51d6fb": {
      "model_module": "cytoscape-clj",
      "model_module_version": "^0.4.0",
      "model_name": "ElementModel",
      "state": {
       "_model_module_version": "^0.4.0",
       "_view_module_version": "^0.4.0",
       "data": {
        "source": "86f75ad39e144f5bf87397bf36fb8ed5-3",
        "target": "86f75ad39e144f5bf87397bf36fb8ed5-1"
       },
       "group": "edges"
      }
     },
     "2f46483708e247f1ef9faa534677937d": {
      "model_module": "cytoscape-clj",
      "model_module_version": "^0.4.0",
      "model_name": "ElementModel",
      "state": {
       "_model_module_version": "^0.4.0",
       "_view_module_version": "^0.4.0",
       "data": {
        "source": "7809096b75bd47a8aeeef25912f4a38c-4",
        "target": "7809096b75bd47a8aeeef25912f4a38c-0"
       },
       "group": "edges"
      }
     },
     "3030ec58554540774371729e6f569769": {
      "model_module": "cytoscape-clj",
      "model_module_version": "^0.4.0",
      "model_name": "ElementModel",
      "state": {
       "_model_module_version": "^0.4.0",
       "_view_module_version": "^0.4.0",
       "data": {
        "source": "86f75ad39e144f5bf87397bf36fb8ed5-2",
        "target": "86f75ad39e144f5bf87397bf36fb8ed5-0"
       },
       "group": "edges"
      }
     },
     "3046386205ba40eed6624871bf36926f": {
      "model_module": "cytoscape-clj",
      "model_module_version": "^0.4.0",
      "model_name": "ElementModel",
      "state": {
       "_model_module_version": "^0.4.0",
       "_view_module_version": "^0.4.0",
       "data": {
        "source": "f9f657df43d8459d47b6009cfd005dda-1",
        "target": "f9f657df43d8459d47b6009cfd005dda-0"
       },
       "group": "edges"
      }
     },
     "31981657c97a452e728b8d137fdbcea3": {
      "model_module": "cytoscape-clj",
      "model_module_version": "^0.4.0",
      "model_name": "ElementModel",
      "state": {
       "_model_module_version": "^0.4.0",
       "_view_module_version": "^0.4.0",
       "data": {
        "source": "9023687454a2454e8a2e402943aaf265-5",
        "target": "9023687454a2454e8a2e402943aaf265-0"
       },
       "group": "edges"
      }
     },
     "3233ce0e155745de3388b38942bbc9ee": {
      "model_module": "cytoscape-clj",
      "model_module_version": "^0.4.0",
      "model_name": "ElementModel",
      "state": {
       "_model_module_version": "^0.4.0",
       "_view_module_version": "^0.4.0",
       "data": {
        "source": "974b8f7dbb2a4b9dc51539d5fdecf009-3",
        "target": "974b8f7dbb2a4b9dc51539d5fdecf009-2"
       },
       "group": "edges"
      }
     },
     "32961f6979d84e49d82c742746eaf670": {
      "model_module": "cytoscape-clj",
      "model_module_version": "^0.4.0",
      "model_name": "ElementModel",
      "state": {
       "_model_module_version": "^0.4.0",
       "_view_module_version": "^0.4.0",
       "data": {
        "source": "7b63220e199141e4bb9b3e888260f92b-4",
        "target": "7b63220e199141e4bb9b3e888260f92b-1"
       },
       "group": "edges"
      }
     },
     "337915eb06d74e04e644821a07f0b46b": {
      "model_module": "cytoscape-clj",
      "model_module_version": "^0.4.0",
      "model_name": "ElementModel",
      "state": {
       "_model_module_version": "^0.4.0",
       "_view_module_version": "^0.4.0",
       "classes": [
        "color001"
       ],
       "data": {
        "id": "974b8f7dbb2a4b9dc51539d5fdecf009-4",
        "label": "4"
       },
       "position": {
        "x": 114.70846782663784,
        "y": 248.91274191610484
       }
      }
     },
     "338223d838f54930a428d2ba1d39d151": {
      "model_module": "cytoscape-clj",
      "model_module_version": "^0.4.0",
      "model_name": "ElementModel",
      "state": {
       "_model_module_version": "^0.4.0",
       "_view_module_version": "^0.4.0",
       "data": {
        "source": "240e5e5fbfdd4612083799b0eb50f950-2",
        "target": "240e5e5fbfdd4612083799b0eb50f950-0"
       },
       "group": "edges"
      }
     },
     "33cd8733b86442dc88265ad5048cc6a1": {
      "model_module": "cytoscape-clj",
      "model_module_version": "^0.4.0",
      "model_name": "ElementModel",
      "state": {
       "_model_module_version": "^0.4.0",
       "_view_module_version": "^0.4.0",
       "data": {
        "source": "64d3f67cac4f41036f568892daa181bf-4",
        "target": "64d3f67cac4f41036f568892daa181bf-0"
       },
       "group": "edges"
      }
     },
     "348a3d13a4764aad03b07ceedce8a96a": {
      "model_module": "cytoscape-clj",
      "model_module_version": "^0.4.0",
      "model_name": "ElementModel",
      "state": {
       "_model_module_version": "^0.4.0",
       "_view_module_version": "^0.4.0",
       "data": {
        "source": "cb5e6b4dc43340fab204b3cba34eec9d-2",
        "target": "cb5e6b4dc43340fab204b3cba34eec9d-0"
       },
       "group": "edges"
      }
     },
     "35b36953c65a466e1c8b0d7a01490610": {
      "model_module": "cytoscape-clj",
      "model_module_version": "^0.4.0",
      "model_name": "ElementModel",
      "state": {
       "_model_module_version": "^0.4.0",
       "_view_module_version": "^0.4.0",
       "classes": [
        "color001"
       ],
       "data": {
        "id": "974b8f7dbb2a4b9dc51539d5fdecf009-0",
        "label": "0"
       },
       "position": {
        "x": 107.7248253125412,
        "y": 319.59095701989486
       }
      }
     },
     "372c8fefa9a84970065822d887fac374": {
      "model_module": "cytoscape-clj",
      "model_module_version": "^0.4.0",
      "model_name": "ElementModel",
      "state": {
       "_model_module_version": "^0.4.0",
       "_view_module_version": "^0.4.0",
       "data": {
        "source": "cb1a37cd0987478ae6937a4bbafd22db-2",
        "target": "cb1a37cd0987478ae6937a4bbafd22db-1"
       },
       "group": "edges"
      }
     },
     "37b410a76f0b4eba59ae972f1a293dfc": {
      "model_module": "cytoscape-clj",
      "model_module_version": "^0.4.0",
      "model_name": "ElementModel",
      "state": {
       "_model_module_version": "^0.4.0",
       "_view_module_version": "^0.4.0",
       "data": {
        "source": "a85585faa2aa4f9801dc40adfd0df3c8-4",
        "target": "a85585faa2aa4f9801dc40adfd0df3c8-0"
       },
       "group": "edges"
      }
     },
     "38c91f1340d04eb1683706fc56572e30": {
      "model_module": "cytoscape-clj",
      "model_module_version": "^0.4.0",
      "model_name": "ElementModel",
      "state": {
       "_model_module_version": "^0.4.0",
       "_view_module_version": "^0.4.0",
       "data": {
        "source": "ea43278941434a58fa6172c582f2701c-3",
        "target": "ea43278941434a58fa6172c582f2701c-1"
       },
       "group": "edges"
      }
     },
     "393f2fe3a43b4b7fa80b7268919adf91": {
      "model_module": "cytoscape-clj",
      "model_module_version": "^0.4.0",
      "model_name": "ElementModel",
      "state": {
       "_model_module_version": "^0.4.0",
       "_view_module_version": "^0.4.0",
       "classes": [
        "color001"
       ],
       "data": {
        "id": "7809096b75bd47a8aeeef25912f4a38c-0",
        "label": "0"
       },
       "position": {
        "x": 23.77090710793319,
        "y": 308.42195177088456
       }
      }
     },
     "3ad4953b4e6440a29df89b7805780d77": {
      "model_module": "cytoscape-clj",
      "model_module_version": "^0.4.0",
      "model_name": "ElementModel",
      "state": {
       "_model_module_version": "^0.4.0",
       "_view_module_version": "^0.4.0",
       "data": {
        "source": "64d3f67cac4f41036f568892daa181bf-2",
        "target": "64d3f67cac4f41036f568892daa181bf-0"
       },
       "group": "edges"
      }
     },
     "3bf300c69830410edca0889b183e86e7": {
      "model_module": "cytoscape-clj",
      "model_module_version": "^0.4.0",
      "model_name": "ElementModel",
      "state": {
       "_model_module_version": "^0.4.0",
       "_view_module_version": "^0.4.0",
       "classes": [
        "color001"
       ],
       "data": {
        "id": "220a97e485a042ea362abeae58806717-4",
        "label": "4"
       },
       "position": {
        "x": 146.31496996309505,
        "y": 565.0197481036655
       }
      }
     },
     "3c5ade35ceed4cb10505dd001ca92d85": {
      "model_module": "cytoscape-clj",
      "model_module_version": "^0.4.0",
      "model_name": "ElementModel",
      "state": {
       "_model_module_version": "^0.4.0",
       "_view_module_version": "^0.4.0",
       "data": {
        "source": "ea43278941434a58fa6172c582f2701c-4",
        "target": "ea43278941434a58fa6172c582f2701c-0"
       },
       "group": "edges"
      }
     },
     "3e11829412c145fc1b787a5981a681a7": {
      "model_module": "cytoscape-clj",
      "model_module_version": "^0.4.0",
      "model_name": "ElementModel",
      "state": {
       "_model_module_version": "^0.4.0",
       "_view_module_version": "^0.4.0",
       "classes": [
        "color000"
       ],
       "data": {
        "id": "3c7ac0885c0b4db2065f7354b22e08bd-5",
        "label": "5"
       },
       "position": {
        "x": 335.4788051588492,
        "y": 157.05793611875706
       }
      }
     },
     "3e3b3c9c0d6340bd1d0b8aa2117e13ae": {
      "model_module": "cytoscape-clj",
      "model_module_version": "^0.4.0",
      "model_name": "ElementModel",
      "state": {
       "_model_module_version": "^0.4.0",
       "_view_module_version": "^0.4.0",
       "data": {
        "source": "974b8f7dbb2a4b9dc51539d5fdecf009-2",
        "target": "974b8f7dbb2a4b9dc51539d5fdecf009-0"
       },
       "group": "edges"
      }
     },
     "3e4e3b93b41d414549e23f5d9ed72f75": {
      "model_module": "cytoscape-clj",
      "model_module_version": "^0.4.0",
      "model_name": "ElementModel",
      "state": {
       "_model_module_version": "^0.4.0",
       "_view_module_version": "^0.4.0",
       "data": {
        "source": "0cf2b2d71c944ccc6bbfa56ca3ba60fb-1",
        "target": "0cf2b2d71c944ccc6bbfa56ca3ba60fb-0"
       },
       "group": "edges"
      }
     },
     "3f7521d99fc74c634ee3257258adb140": {
      "model_module": "cytoscape-clj",
      "model_module_version": "^0.4.0",
      "model_name": "ElementModel",
      "state": {
       "_model_module_version": "^0.4.0",
       "_view_module_version": "^0.4.0",
       "data": {
        "source": "0441ed88a01b4949d0e49ef66a30a4f2-2",
        "target": "0441ed88a01b4949d0e49ef66a30a4f2-0"
       },
       "group": "edges"
      }
     },
     "4004e90d83b040974ecd139a9d7e6306": {
      "model_module": "cytoscape-clj",
      "model_module_version": "^0.4.0",
      "model_name": "ElementModel",
      "state": {
       "_model_module_version": "^0.4.0",
       "_view_module_version": "^0.4.0",
       "classes": [
        "color000"
       ],
       "data": {
        "id": "b4056304cf0c45e91c8a99f46518f6d1-2",
        "label": "2"
       },
       "position": {
        "x": 15,
        "y": 123.85776864887984
       }
      }
     },
     "40ca900622fd483cc2439e659f19c93c": {
      "model_module": "cytoscape-clj",
      "model_module_version": "^0.4.0",
      "model_name": "ElementModel",
      "state": {
       "_model_module_version": "^0.4.0",
       "_view_module_version": "^0.4.0",
       "data": {
        "source": "4b73936597d3416ce041749a57b1789e-5",
        "target": "4b73936597d3416ce041749a57b1789e-0"
       },
       "group": "edges"
      }
     },
     "411cf8817eb6491390ce8345ae3b0cd8": {
      "model_module": "cytoscape-clj",
      "model_module_version": "^0.4.0",
      "model_name": "ElementModel",
      "state": {
       "_model_module_version": "^0.4.0",
       "_view_module_version": "^0.4.0",
       "data": {
        "source": "cb1a37cd0987478ae6937a4bbafd22db-5",
        "target": "cb1a37cd0987478ae6937a4bbafd22db-0"
       },
       "group": "edges"
      }
     },
     "42465bd4259f4d0109379194db88edd4": {
      "model_module": "cytoscape-clj",
      "model_module_version": "^0.4.0",
      "model_name": "ElementModel",
      "state": {
       "_model_module_version": "^0.4.0",
       "_view_module_version": "^0.4.0",
       "classes": [
        "color001"
       ],
       "data": {
        "id": "5a9248f0cf1a435bbd3eda799945f6a7-0",
        "label": "0"
       },
       "position": {
        "x": 260.279957760947,
        "y": 302.4016940436806
       }
      }
     },
     "4254ac33c3364b28c4105d27199d16c7": {
      "model_module": "cytoscape-clj",
      "model_module_version": "^0.4.0",
      "model_name": "ElementModel",
      "state": {
       "_model_module_version": "^0.4.0",
       "_view_module_version": "^0.4.0",
       "classes": [
        "color001"
       ],
       "data": {
        "id": "b4056304cf0c45e91c8a99f46518f6d1-1",
        "label": "1"
       },
       "position": {
        "x": 35.54802680955005,
        "y": 63.4775990115523
       }
      }
     },
     "431609fa1bfa45f53bf5a3fcd05ec270": {
      "model_module": "cytoscape-clj",
      "model_module_version": "^0.4.0",
      "model_name": "ElementModel",
      "state": {
       "_model_module_version": "^0.4.0",
       "_view_module_version": "^0.4.0",
       "classes": [
        "color001"
       ],
       "data": {
        "id": "c7566fdd468741773a31866413acaf86-2",
        "label": "2"
       },
       "position": {
        "x": 259.1155020805434,
        "y": 248.91274191610478
       }
      }
     },
     "43488b8e79174c1d1eb10c318cc9cafc": {
      "model_module": "cytoscape-clj",
      "model_module_version": "^0.4.0",
      "model_name": "ElementModel",
      "state": {
       "_model_module_version": "^0.4.0",
       "_view_module_version": "^0.4.0",
       "data": {
        "source": "7809096b75bd47a8aeeef25912f4a38c-2",
        "target": "7809096b75bd47a8aeeef25912f4a38c-1"
       },
       "group": "edges"
      }
     },
     "446b38a3459b4c6424881475428c7c9c": {
      "model_module": "cytoscape-clj",
      "model_module_version": "^0.4.0",
      "model_name": "ElementModel",
      "state": {
       "_model_module_version": "^0.4.0",
       "_view_module_version": "^0.4.0",
       "data": {
        "source": "a85585faa2aa4f9801dc40adfd0df3c8-3",
        "target": "a85585faa2aa4f9801dc40adfd0df3c8-0"
       },
       "group": "edges"
      }
     },
     "452b0985330a4ec15808099ce7d8b168": {
      "model_module": "cytoscape-clj",
      "model_module_version": "^0.4.0",
      "model_name": "ElementModel",
      "state": {
       "_model_module_version": "^0.4.0",
       "_view_module_version": "^0.4.0",
       "classes": [
        "color000"
       ],
       "data": {
        "id": "7b63220e199141e4bb9b3e888260f92b-3",
        "label": "3"
       },
       "position": {
        "x": 185.01208679683225,
        "y": 56.23664151634489
       }
      }
     },
     "4761f0158bf1405bb2b35af12e226018": {
      "model_module": "cytoscape-clj",
      "model_module_version": "^0.4.0",
      "model_name": "ElementModel",
      "state": {
       "_model_module_version": "^0.4.0",
       "_view_module_version": "^0.4.0",
       "data": {
        "source": "4b73936597d3416ce041749a57b1789e-2",
        "target": "4b73936597d3416ce041749a57b1789e-0"
       },
       "group": "edges"
      }
     },
     "478b1ca53097416ed73a1a18ead711a3": {
      "model_module": "cytoscape-clj",
      "model_module_version": "^0.4.0",
      "model_name": "ElementModel",
      "state": {
       "_model_module_version": "^0.4.0",
       "_view_module_version": "^0.4.0",
       "classes": [
        "color000"
       ],
       "data": {
        "id": "ea43278941434a58fa6172c582f2701c-3",
        "label": "3"
       },
       "position": {
        "x": 147.6704162565178,
        "y": 357.6094890885537
       }
      }
     },
     "47df24624e97402296914ba8b5075cb1": {
      "model_module": "cytoscape-clj",
      "model_module_version": "^0.4.0",
      "model_name": "ElementModel",
      "state": {
       "_model_module_version": "^0.4.0",
       "_view_module_version": "^0.4.0",
       "data": {
        "source": "4b73936597d3416ce041749a57b1789e-3",
        "target": "4b73936597d3416ce041749a57b1789e-0"
       },
       "group": "edges"
      }
     },
     "488a902d62dc427c25d768de5985a6f8": {
      "model_module": "cytoscape-clj",
      "model_module_version": "^0.4.0",
      "model_name": "ElementModel",
      "state": {
       "_model_module_version": "^0.4.0",
       "_view_module_version": "^0.4.0",
       "data": {
        "source": "64d3f67cac4f41036f568892daa181bf-3",
        "target": "64d3f67cac4f41036f568892daa181bf-2"
       },
       "group": "edges"
      }
     },
     "490a741af5f147c7401e3abe4183656d": {
      "model_module": "cytoscape-clj",
      "model_module_version": "^0.4.0",
      "model_name": "ElementModel",
      "state": {
       "_model_module_version": "^0.4.0",
       "_view_module_version": "^0.4.0",
       "data": {
        "source": "ea43278941434a58fa6172c582f2701c-3",
        "target": "ea43278941434a58fa6172c582f2701c-0"
       },
       "group": "edges"
      }
     },
     "493096de95f94e04941486e7ce7bb59c": {
      "model_module": "cytoscape-clj",
      "model_module_version": "^0.4.0",
      "model_name": "ElementModel",
      "state": {
       "_model_module_version": "^0.4.0",
       "_view_module_version": "^0.4.0",
       "data": {
        "source": "4b73936597d3416ce041749a57b1789e-1",
        "target": "4b73936597d3416ce041749a57b1789e-0"
       },
       "group": "edges"
      }
     },
     "49a00ffaaf3846d8648be5e2325940c4": {
      "model_module": "cytoscape-clj",
      "model_module_version": "^0.4.0",
      "model_name": "ElementModel",
      "state": {
       "_model_module_version": "^0.4.0",
       "_view_module_version": "^0.4.0",
       "data": {
        "source": "ea43278941434a58fa6172c582f2701c-3",
        "target": "ea43278941434a58fa6172c582f2701c-2"
       },
       "group": "edges"
      }
     },
     "49d5dc6100404d541400d8761df25b62": {
      "model_module": "cytoscape-clj",
      "model_module_version": "^0.4.0",
      "model_name": "ElementModel",
      "state": {
       "_model_module_version": "^0.4.0",
       "_view_module_version": "^0.4.0",
       "data": {
        "source": "64d3f67cac4f41036f568892daa181bf-1",
        "target": "64d3f67cac4f41036f568892daa181bf-0"
       },
       "group": "edges"
      }
     },
     "4a17709e29754747bfa1c6d0e78f7d19": {
      "model_module": "cytoscape-clj",
      "model_module_version": "^0.4.0",
      "model_name": "ElementModel",
      "state": {
       "_model_module_version": "^0.4.0",
       "_view_module_version": "^0.4.0",
       "data": {
        "source": "bb29137c638f4c8dba4c0499e8ac7c96-5",
        "target": "bb29137c638f4c8dba4c0499e8ac7c96-0"
       },
       "group": "edges"
      }
     },
     "4a6f50f776a64360634e2f2908558c0a": {
      "model_module": "cytoscape-clj",
      "model_module_version": "^0.4.0",
      "model_name": "ElementModel",
      "state": {
       "_model_module_version": "^0.4.0",
       "_view_module_version": "^0.4.0",
       "classes": [
        "color000"
       ],
       "data": {
        "id": "cb5e6b4dc43340fab204b3cba34eec9d-4",
        "label": "4"
       },
       "position": {
        "x": 113.88631458961564,
        "y": 148.67598988917584
       }
      }
     },
     "4a71a3164ccd479667dba78ecb9fc8f5": {
      "model_module": "cytoscape-clj",
      "model_module_version": "^0.4.0",
      "model_name": "ElementModel",
      "state": {
       "_model_module_version": "^0.4.0",
       "_view_module_version": "^0.4.0",
       "classes": [
        "color001"
       ],
       "data": {
        "id": "9023687454a2454e8a2e402943aaf265-0",
        "label": "0"
       },
       "position": {
        "x": 264.1455430454872,
        "y": 51.36365074964809
       }
      }
     },
     "4b5bd9c919be43144456655acca9951e": {
      "model_module": "cytoscape-clj",
      "model_module_version": "^0.4.0",
      "model_name": "ElementModel",
      "state": {
       "_model_module_version": "^0.4.0",
       "_view_module_version": "^0.4.0",
       "data": {
        "source": "4b73936597d3416ce041749a57b1789e-3",
        "target": "4b73936597d3416ce041749a57b1789e-2"
       },
       "group": "edges"
      }
     },
     "4b61ee98ad1f4ad73c3376e74a23efef": {
      "model_module": "cytoscape-clj",
      "model_module_version": "^0.4.0",
      "model_name": "ElementModel",
      "state": {
       "_model_module_version": "^0.4.0",
       "_view_module_version": "^0.4.0",
       "data": {
        "source": "3a93299899564e27beeb053fd200bf16-1",
        "target": "3a93299899564e27beeb053fd200bf16-0"
       },
       "group": "edges"
      }
     },
     "4cbe91bd0e774c8174631fa58a0b2ffa": {
      "model_module": "cytoscape-clj",
      "model_module_version": "^0.4.0",
      "model_name": "ElementModel",
      "state": {
       "_model_module_version": "^0.4.0",
       "_view_module_version": "^0.4.0",
       "data": {
        "source": "cb1a37cd0987478ae6937a4bbafd22db-2",
        "target": "cb1a37cd0987478ae6937a4bbafd22db-0"
       },
       "group": "edges"
      }
     },
     "4d6b6f6676414a00a07fa7a24145e666": {
      "model_module": "cytoscape-clj",
      "model_module_version": "^0.4.0",
      "model_name": "ElementModel",
      "state": {
       "_model_module_version": "^0.4.0",
       "_view_module_version": "^0.4.0",
       "classes": [
        "color000"
       ],
       "data": {
        "id": "cb5e6b4dc43340fab204b3cba34eec9d-3",
        "label": "3"
       },
       "position": {
        "x": 75.33301984582371,
        "y": 15.000000000000002
       }
      }
     },
     "4d927815d2f947ed3792619b05760da1": {
      "model_module": "cytoscape-clj",
      "model_module_version": "^0.4.0",
      "model_name": "ElementModel",
      "state": {
       "_model_module_version": "^0.4.0",
       "_view_module_version": "^0.4.0",
       "data": {
        "source": "974b8f7dbb2a4b9dc51539d5fdecf009-4",
        "target": "974b8f7dbb2a4b9dc51539d5fdecf009-0"
       },
       "group": "edges"
      }
     },
     "4dec71a8da71469d441bbe4ebb2f0013": {
      "model_module": "cytoscape-clj",
      "model_module_version": "^0.4.0",
      "model_name": "ElementModel",
      "state": {
       "_model_module_version": "^0.4.0",
       "_view_module_version": "^0.4.0",
       "data": {
        "source": "c7566fdd468741773a31866413acaf86-4",
        "target": "c7566fdd468741773a31866413acaf86-1"
       },
       "group": "edges"
      }
     },
     "4dfe51573e3e4bb988e82ef9a805d8a3": {
      "model_module": "cytoscape-clj",
      "model_module_version": "^0.4.0",
      "model_name": "ElementModel",
      "state": {
       "_model_module_version": "^0.4.0",
       "_view_module_version": "^0.4.0",
       "data": {
        "source": "7b63220e199141e4bb9b3e888260f92b-5",
        "target": "7b63220e199141e4bb9b3e888260f92b-0"
       },
       "group": "edges"
      }
     },
     "4ee655f0bdb24ffa63ac27d14b389269": {
      "model_module": "cytoscape-clj",
      "model_module_version": "^0.4.0",
      "model_name": "ElementModel",
      "state": {
       "_model_module_version": "^0.4.0",
       "_view_module_version": "^0.4.0",
       "classes": [
        "color000"
       ],
       "data": {
        "id": "64d3f67cac4f41036f568892daa181bf-2",
        "label": "2"
       },
       "position": {
        "x": 405.09364488052535,
        "y": 345.2015544819941
       }
      }
     },
     "4f94b0068e314fead82f0b937fc660d0": {
      "model_module": "cytoscape-clj",
      "model_module_version": "^0.4.0",
      "model_name": "ElementModel",
      "state": {
       "_model_module_version": "^0.4.0",
       "_view_module_version": "^0.4.0",
       "data": {
        "source": "240e5e5fbfdd4612083799b0eb50f950-3",
        "target": "240e5e5fbfdd4612083799b0eb50f950-0"
       },
       "group": "edges"
      }
     },
     "5010d8ef3b8046afca12e0d54ca69693": {
      "model_module": "cytoscape-clj",
      "model_module_version": "^0.4.0",
      "model_name": "ElementModel",
      "state": {
       "_model_module_version": "^0.4.0",
       "_view_module_version": "^0.4.0",
       "data": {
        "source": "5a9248f0cf1a435bbd3eda799945f6a7-5",
        "target": "5a9248f0cf1a435bbd3eda799945f6a7-0"
       },
       "group": "edges"
      }
     },
     "528abeec96c14a68a44d03bba9c3e034": {
      "model_module": "cytoscape-clj",
      "model_module_version": "^0.4.0",
      "model_name": "ElementModel",
      "state": {
       "_model_module_version": "^0.4.0",
       "_view_module_version": "^0.4.0",
       "data": {
        "source": "0cf2b2d71c944ccc6bbfa56ca3ba60fb-2",
        "target": "0cf2b2d71c944ccc6bbfa56ca3ba60fb-0"
       },
       "group": "edges"
      }
     },
     "533dc2f1dd52443d74d8c6042224465f": {
      "model_module": "cytoscape-clj",
      "model_module_version": "^0.4.0",
      "model_name": "ElementModel",
      "state": {
       "_model_module_version": "^0.4.0",
       "_view_module_version": "^0.4.0",
       "classes": [
        "color000"
       ],
       "data": {
        "id": "3c7ac0885c0b4db2065f7354b22e08bd-3",
        "label": "3"
       },
       "position": {
        "x": 259.5445736998909,
        "y": 15
       }
      }
     },
     "543ef4a6bafd4a5758b56c7b0c52f78d": {
      "model_module": "cytoscape-clj",
      "model_module_version": "^0.4.0",
      "model_name": "ElementModel",
      "state": {
       "_model_module_version": "^0.4.0",
       "_view_module_version": "^0.4.0",
       "data": {
        "source": "7809096b75bd47a8aeeef25912f4a38c-5",
        "target": "7809096b75bd47a8aeeef25912f4a38c-0"
       },
       "group": "edges"
      }
     },
     "54771ee5da1e41a6aa57f7431a540219": {
      "model_module": "cytoscape-clj",
      "model_module_version": "^0.4.0",
      "model_name": "ElementModel",
      "state": {
       "_model_module_version": "^0.4.0",
       "_view_module_version": "^0.4.0",
       "classes": [
        "color001"
       ],
       "data": {
        "id": "86f75ad39e144f5bf87397bf36fb8ed5-1",
        "label": "1"
       },
       "position": {
        "x": 322.4969364423224,
        "y": 113.89077849619562
       }
      }
     },
     "54958e1b19354b23066889815cb0c5a2": {
      "model_module": "cytoscape-clj",
      "model_module_version": "^0.4.0",
      "model_name": "ElementModel",
      "state": {
       "_model_module_version": "^0.4.0",
       "_view_module_version": "^0.4.0",
       "data": {
        "source": "9d5ea15987b0418284cad2c91a78be3b-1",
        "target": "9d5ea15987b0418284cad2c91a78be3b-0"
       },
       "group": "edges"
      }
     },
     "55d45c44ff7c4ac081009747e3680e76": {
      "model_module": "cytoscape-clj",
      "model_module_version": "^0.4.0",
      "model_name": "ElementModel",
      "state": {
       "_model_module_version": "^0.4.0",
       "_view_module_version": "^0.4.0",
       "data": {
        "source": "5a9248f0cf1a435bbd3eda799945f6a7-3",
        "target": "5a9248f0cf1a435bbd3eda799945f6a7-2"
       },
       "group": "edges"
      }
     },
     "570f6b7f177746ab180e23ac1d9a5ff4": {
      "model_module": "cytoscape-clj",
      "model_module_version": "^0.4.0",
      "model_name": "ElementModel",
      "state": {
       "_model_module_version": "^0.4.0",
       "_view_module_version": "^0.4.0",
       "data": {
        "source": "b4056304cf0c45e91c8a99f46518f6d1-3",
        "target": "b4056304cf0c45e91c8a99f46518f6d1-1"
       },
       "group": "edges"
      }
     },
     "582cc8d0275b44e70ba2df513f91993c": {
      "model_module": "cytoscape-clj",
      "model_module_version": "^0.4.0",
      "model_name": "ElementModel",
      "state": {
       "_model_module_version": "^0.4.0",
       "_view_module_version": "^0.4.0",
       "data": {
        "source": "cb5e6b4dc43340fab204b3cba34eec9d-3",
        "target": "cb5e6b4dc43340fab204b3cba34eec9d-2"
       },
       "group": "edges"
      }
     },
     "590ebec117744fa25c791888dd548657": {
      "model_module": "cytoscape-clj",
      "model_module_version": "^0.4.0",
      "model_name": "ElementModel",
      "state": {
       "_model_module_version": "^0.4.0",
       "_view_module_version": "^0.4.0",
       "data": {
        "source": "ea43278941434a58fa6172c582f2701c-2",
        "target": "ea43278941434a58fa6172c582f2701c-1"
       },
       "group": "edges"
      }
     },
     "5956e1ddfa1b4aaea8f45751e6f0e2d1": {
      "model_module": "cytoscape-clj",
      "model_module_version": "^0.4.0",
      "model_name": "ElementModel",
      "state": {
       "_model_module_version": "^0.4.0",
       "_view_module_version": "^0.4.0",
       "classes": [
        "color001"
       ],
       "data": {
        "id": "cb1a37cd0987478ae6937a4bbafd22db-3",
        "label": "3"
       },
       "position": {
        "x": 75.67984540341882,
        "y": 145.231464034336
       }
      }
     },
     "5c081b90de534109eaba3ecfe59e449a": {
      "model_module": "cytoscape-clj",
      "model_module_version": "^0.4.0",
      "model_name": "ElementModel",
      "state": {
       "_model_module_version": "^0.4.0",
       "_view_module_version": "^0.4.0",
       "classes": [
        "color001"
       ],
       "data": {
        "id": "9d5ea15987b0418284cad2c91a78be3b-4",
        "label": "4"
       },
       "position": {
        "x": 343.35480318881946,
        "y": 32.84470777858547
       }
      }
     },
     "5e1002eb46764d3a14d6fda53494e376": {
      "model_module": "cytoscape-clj",
      "model_module_version": "^0.4.0",
      "model_name": "ElementModel",
      "state": {
       "_model_module_version": "^0.4.0",
       "_view_module_version": "^0.4.0",
       "data": {
        "source": "3c7ac0885c0b4db2065f7354b22e08bd-3",
        "target": "3c7ac0885c0b4db2065f7354b22e08bd-2"
       },
       "group": "edges"
      }
     },
     "5f82512ec16445e9fa209c9db6ff677a": {
      "model_module": "cytoscape-clj",
      "model_module_version": "^0.4.0",
      "model_name": "ElementModel",
      "state": {
       "_model_module_version": "^0.4.0",
       "_view_module_version": "^0.4.0",
       "data": {
        "source": "cb5e6b4dc43340fab204b3cba34eec9d-5",
        "target": "cb5e6b4dc43340fab204b3cba34eec9d-0"
       },
       "group": "edges"
      }
     },
     "6033e2d1222144eeef70f9b55bf9d79b": {
      "model_module": "cytoscape-clj",
      "model_module_version": "^0.4.0",
      "model_name": "ElementModel",
      "state": {
       "_model_module_version": "^0.4.0",
       "_view_module_version": "^0.4.0",
       "data": {
        "source": "cb1a37cd0987478ae6937a4bbafd22db-4",
        "target": "cb1a37cd0987478ae6937a4bbafd22db-1"
       },
       "group": "edges"
      }
     },
     "6069a4a0d52e4a422b29b19ffe3fd926": {
      "model_module": "cytoscape-clj",
      "model_module_version": "^0.4.0",
      "model_name": "ElementModel",
      "state": {
       "_model_module_version": "^0.4.0",
       "_view_module_version": "^0.4.0",
       "classes": [
        "color001"
       ],
       "data": {
        "id": "b4056304cf0c45e91c8a99f46518f6d1-4",
        "label": "4"
       },
       "position": {
        "x": 98.66081697080787,
        "y": 15
       }
      }
     },
     "6094568fb5a94c16fca65968deedd75d": {
      "model_module": "cytoscape-clj",
      "model_module_version": "^0.4.0",
      "model_name": "ElementModel",
      "state": {
       "_model_module_version": "^0.4.0",
       "_view_module_version": "^0.4.0",
       "classes": [
        "color001"
       ],
       "data": {
        "id": "9023687454a2454e8a2e402943aaf265-5",
        "label": "5"
       },
       "position": {
        "x": 331.7618100496221,
        "y": 15
       }
      }
     },
     "612d8f7f77c944f92048e2238b2d92e2": {
      "model_module": "cytoscape-clj",
      "model_module_version": "^0.4.0",
      "model_name": "ElementModel",
      "state": {
       "_model_module_version": "^0.4.0",
       "_view_module_version": "^0.4.0",
       "data": {
        "source": "f9f657df43d8459d47b6009cfd005dda-4",
        "target": "f9f657df43d8459d47b6009cfd005dda-0"
       },
       "group": "edges"
      }
     },
     "615179c4d8474458aae316a96cb8af03": {
      "model_module": "cytoscape-clj",
      "model_module_version": "^0.4.0",
      "model_name": "ElementModel",
      "state": {
       "_model_module_version": "^0.4.0",
       "_view_module_version": "^0.4.0",
       "classes": [
        "color000"
       ],
       "data": {
        "id": "5a9248f0cf1a435bbd3eda799945f6a7-2",
        "label": "2"
       },
       "position": {
        "x": 246.74409329604248,
        "y": 242.05591626979236
       }
      }
     },
     "616abd2a25b5489eaa055be2d5da82da": {
      "model_module": "cytoscape-clj",
      "model_module_version": "^0.4.0",
      "model_name": "ElementModel",
      "state": {
       "_model_module_version": "^0.4.0",
       "_view_module_version": "^0.4.0",
       "data": {
        "source": "cb5e6b4dc43340fab204b3cba34eec9d-3",
        "target": "cb5e6b4dc43340fab204b3cba34eec9d-0"
       },
       "group": "edges"
      }
     },
     "626c2cce90eb425f963cda0f9c6a84e3": {
      "model_module": "cytoscape-clj",
      "model_module_version": "^0.4.0",
      "model_name": "ElementModel",
      "state": {
       "_model_module_version": "^0.4.0",
       "_view_module_version": "^0.4.0",
       "data": {
        "source": "5a9248f0cf1a435bbd3eda799945f6a7-2",
        "target": "5a9248f0cf1a435bbd3eda799945f6a7-1"
       },
       "group": "edges"
      }
     },
     "64088f4cadf041c875f1ae30608fb04d": {
      "model_module": "cytoscape-clj",
      "model_module_version": "^0.4.0",
      "model_name": "ElementModel",
      "state": {
       "_model_module_version": "^0.4.0",
       "_view_module_version": "^0.4.0",
       "data": {
        "source": "240e5e5fbfdd4612083799b0eb50f950-3",
        "target": "240e5e5fbfdd4612083799b0eb50f950-2"
       },
       "group": "edges"
      }
     },
     "66529687adfd4af3027bd548686964ea": {
      "model_module": "cytoscape-clj",
      "model_module_version": "^0.4.0",
      "model_name": "ElementModel",
      "state": {
       "_model_module_version": "^0.4.0",
       "_view_module_version": "^0.4.0",
       "data": {
        "source": "9023687454a2454e8a2e402943aaf265-4",
        "target": "9023687454a2454e8a2e402943aaf265-0"
       },
       "group": "edges"
      }
     },
     "66b0b8baef994cf4590f2a61c43791a0": {
      "model_module": "cytoscape-clj",
      "model_module_version": "^0.4.0",
      "model_name": "ElementModel",
      "state": {
       "_model_module_version": "^0.4.0",
       "_view_module_version": "^0.4.0",
       "data": {
        "source": "c7566fdd468741773a31866413acaf86-4",
        "target": "c7566fdd468741773a31866413acaf86-0"
       },
       "group": "edges"
      }
     },
     "66be4b67a5a64c63e12b948ba60707f5": {
      "model_module": "cytoscape-clj",
      "model_module_version": "^0.4.0",
      "model_name": "ElementModel",
      "state": {
       "_model_module_version": "^0.4.0",
       "_view_module_version": "^0.4.0",
       "data": {
        "source": "5a9248f0cf1a435bbd3eda799945f6a7-4",
        "target": "5a9248f0cf1a435bbd3eda799945f6a7-1"
       },
       "group": "edges"
      }
     },
     "67a42c7f60fb476bca702e284f858cd9": {
      "model_module": "cytoscape-clj",
      "model_module_version": "^0.4.0",
      "model_name": "ElementModel",
      "state": {
       "_model_module_version": "^0.4.0",
       "_view_module_version": "^0.4.0",
       "classes": [
        "color000"
       ],
       "data": {
        "id": "9023687454a2454e8a2e402943aaf265-1",
        "label": "1"
       },
       "position": {
        "x": 247.23748901447726,
        "y": 112.11678895256043
       }
      }
     },
     "684dd39b408c4958366d7f53032b2902": {
      "model_module": "cytoscape-clj",
      "model_module_version": "^0.4.0",
      "model_name": "ElementModel",
      "state": {
       "_model_module_version": "^0.4.0",
       "_view_module_version": "^0.4.0",
       "classes": [
        "color000"
       ],
       "data": {
        "id": "bb29137c638f4c8dba4c0499e8ac7c96-2",
        "label": "2"
       },
       "position": {
        "x": 348.5866858847786,
        "y": 15
       }
      }
     },
     "6a95839fd40346508ecf2fef11c592b2": {
      "model_module": "cytoscape-clj",
      "model_module_version": "^0.4.0",
      "model_name": "ElementModel",
      "state": {
       "_model_module_version": "^0.4.0",
       "_view_module_version": "^0.4.0",
       "classes": [
        "color000"
       ],
       "data": {
        "id": "86f75ad39e144f5bf87397bf36fb8ed5-3",
        "label": "3"
       },
       "position": {
        "x": 383.8541389208375,
        "y": 75.67125378134295
       }
      }
     },
     "6b3424e6bb8a4efb298cc50906b981dc": {
      "model_module": "cytoscape-clj",
      "model_module_version": "^0.4.0",
      "model_name": "ElementModel",
      "state": {
       "_model_module_version": "^0.4.0",
       "_view_module_version": "^0.4.0",
       "data": {
        "source": "86f75ad39e144f5bf87397bf36fb8ed5-3",
        "target": "86f75ad39e144f5bf87397bf36fb8ed5-0"
       },
       "group": "edges"
      }
     },
     "6b64bbf0efeb4caf0acf0a583e50ab42": {
      "model_module": "cytoscape-clj",
      "model_module_version": "^0.4.0",
      "model_name": "ElementModel",
      "state": {
       "_model_module_version": "^0.4.0",
       "_view_module_version": "^0.4.0",
       "data": {
        "source": "9023687454a2454e8a2e402943aaf265-3",
        "target": "9023687454a2454e8a2e402943aaf265-1"
       },
       "group": "edges"
      }
     },
     "6b7320c64ae84d05a91b603d0c951f4e": {
      "model_module": "cytoscape-clj",
      "model_module_version": "^0.4.0",
      "model_name": "ElementModel",
      "state": {
       "_model_module_version": "^0.4.0",
       "_view_module_version": "^0.4.0",
       "classes": [
        "color001"
       ],
       "data": {
        "id": "a85585faa2aa4f9801dc40adfd0df3c8-1",
        "label": "1"
       },
       "position": {
        "x": 50.230113727955775,
        "y": 35.10346690253889
       }
      }
     },
     "6eac04c1aea940c06ae5f86246e6af2e": {
      "model_module": "cytoscape-clj",
      "model_module_version": "^0.4.0",
      "model_name": "ElementModel",
      "state": {
       "_model_module_version": "^0.4.0",
       "_view_module_version": "^0.4.0",
       "data": {
        "source": "9d5ea15987b0418284cad2c91a78be3b-4",
        "target": "9d5ea15987b0418284cad2c91a78be3b-0"
       },
       "group": "edges"
      }
     },
     "6f61351decdc4fbd084177c572890367": {
      "model_module": "cytoscape-clj",
      "model_module_version": "^0.4.0",
      "model_name": "ElementModel",
      "state": {
       "_model_module_version": "^0.4.0",
       "_view_module_version": "^0.4.0",
       "classes": [
        "color001"
       ],
       "data": {
        "id": "240e5e5fbfdd4612083799b0eb50f950-0",
        "label": "0"
       },
       "position": {
        "x": 45.521897633843594,
        "y": 323.8121712737002
       }
      }
     },
     "6f8843aeb9a64896142bd72fed0126ed": {
      "model_module": "cytoscape-clj",
      "model_module_version": "^0.4.0",
      "model_name": "ElementModel",
      "state": {
       "_model_module_version": "^0.4.0",
       "_view_module_version": "^0.4.0",
       "classes": [
        "color001"
       ],
       "data": {
        "id": "c7566fdd468741773a31866413acaf86-0",
        "label": "0"
       },
       "position": {
        "x": 306.7567801613886,
        "y": 320.7060221019344
       }
      }
     },
     "70489417d0624041b77719ebee646dfb": {
      "model_module": "cytoscape-clj",
      "model_module_version": "^0.4.0",
      "model_name": "ElementModel",
      "state": {
       "_model_module_version": "^0.4.0",
       "_view_module_version": "^0.4.0",
       "data": {
        "source": "b4056304cf0c45e91c8a99f46518f6d1-2",
        "target": "b4056304cf0c45e91c8a99f46518f6d1-1"
       },
       "group": "edges"
      }
     },
     "710661a6be3c4039808e8aefe04283da": {
      "model_module": "cytoscape-clj",
      "model_module_version": "^0.4.0",
      "model_name": "ElementModel",
      "state": {
       "_model_module_version": "^0.4.0",
       "_view_module_version": "^0.4.0",
       "classes": [
        "color000"
       ],
       "data": {
        "id": "9d5ea15987b0418284cad2c91a78be3b-3",
        "label": "3"
       },
       "position": {
        "x": 282.81961817046067,
        "y": 15
       }
      }
     },
     "71335cb59e7740a70ffd1812646e225f": {
      "model_module": "cytoscape-clj",
      "model_module_version": "^0.4.0",
      "model_name": "ElementModel",
      "state": {
       "_model_module_version": "^0.4.0",
       "_view_module_version": "^0.4.0",
       "data": {
        "source": "0cf2b2d71c944ccc6bbfa56ca3ba60fb-5",
        "target": "0cf2b2d71c944ccc6bbfa56ca3ba60fb-0"
       },
       "group": "edges"
      }
     },
     "732fb85532b246eda77fc55d4c7a59b9": {
      "model_module": "cytoscape-clj",
      "model_module_version": "^0.4.0",
      "model_name": "ElementModel",
      "state": {
       "_model_module_version": "^0.4.0",
       "_view_module_version": "^0.4.0",
       "data": {
        "source": "974b8f7dbb2a4b9dc51539d5fdecf009-5",
        "target": "974b8f7dbb2a4b9dc51539d5fdecf009-0"
       },
       "group": "edges"
      }
     },
     "73b3d8d10937421deac715f3d2de20e8": {
      "model_module": "cytoscape-clj",
      "model_module_version": "^0.4.0",
      "model_name": "ElementModel",
      "state": {
       "_model_module_version": "^0.4.0",
       "_view_module_version": "^0.4.0",
       "classes": [
        "color000"
       ],
       "data": {
        "id": "0441ed88a01b4949d0e49ef66a30a4f2-5",
        "label": "5"
       },
       "position": {
        "x": 236.56860136989974,
        "y": 251.66425611635157
       }
      }
     },
     "7428a83065c9413eb6167b3e26a812fb": {
      "model_module": "cytoscape-clj",
      "model_module_version": "^0.4.0",
      "model_name": "ElementModel",
      "state": {
       "_model_module_version": "^0.4.0",
       "_view_module_version": "^0.4.0",
       "data": {
        "source": "9023687454a2454e8a2e402943aaf265-2",
        "target": "9023687454a2454e8a2e402943aaf265-1"
       },
       "group": "edges"
      }
     },
     "74a3f7a0f3af458ddc827a8caccaf87d": {
      "model_module": "cytoscape-clj",
      "model_module_version": "^0.4.0",
      "model_name": "ElementModel",
      "state": {
       "_model_module_version": "^0.4.0",
       "_view_module_version": "^0.4.0",
       "data": {
        "source": "bb29137c638f4c8dba4c0499e8ac7c96-4",
        "target": "bb29137c638f4c8dba4c0499e8ac7c96-0"
       },
       "group": "edges"
      }
     },
     "74bcee29bc484d87bf15a6b35582ca06": {
      "model_module": "cytoscape-clj",
      "model_module_version": "^0.4.0",
      "model_name": "ElementModel",
      "state": {
       "_model_module_version": "^0.4.0",
       "_view_module_version": "^0.4.0",
       "data": {
        "source": "220a97e485a042ea362abeae58806717-1",
        "target": "220a97e485a042ea362abeae58806717-0"
       },
       "group": "edges"
      }
     },
     "74be9db9093b4d16b6d438b1ceebe9e0": {
      "model_module": "cytoscape-clj",
      "model_module_version": "^0.4.0",
      "model_name": "ElementModel",
      "state": {
       "_model_module_version": "^0.4.0",
       "_view_module_version": "^0.4.0",
       "classes": [
        "color001"
       ],
       "data": {
        "id": "974b8f7dbb2a4b9dc51539d5fdecf009-1",
        "label": "1"
       },
       "position": {
        "x": 48.12503784865541,
        "y": 287.46888483152355
       }
      }
     },
     "751a5e7c7a394a2e245236a48b0aea2e": {
      "model_module": "cytoscape-clj",
      "model_module_version": "^0.4.0",
      "model_name": "ElementModel",
      "state": {
       "_model_module_version": "^0.4.0",
       "_view_module_version": "^0.4.0",
       "data": {
        "source": "86f75ad39e144f5bf87397bf36fb8ed5-4",
        "target": "86f75ad39e144f5bf87397bf36fb8ed5-0"
       },
       "group": "edges"
      }
     },
     "7559401a99b14ebfca5c907601cecbef": {
      "model_module": "cytoscape-clj",
      "model_module_version": "^0.4.0",
      "model_name": "ElementModel",
      "state": {
       "_model_module_version": "^0.4.0",
       "_view_module_version": "^0.4.0",
       "data": {
        "source": "3a93299899564e27beeb053fd200bf16-4",
        "target": "3a93299899564e27beeb053fd200bf16-0"
       },
       "group": "edges"
      }
     },
     "75cd02111be94e3b09ff29c7d95c85bc": {
      "model_module": "cytoscape-clj",
      "model_module_version": "^0.4.0",
      "model_name": "ElementModel",
      "state": {
       "_model_module_version": "^0.4.0",
       "_view_module_version": "^0.4.0",
       "data": {
        "source": "c7566fdd468741773a31866413acaf86-3",
        "target": "c7566fdd468741773a31866413acaf86-1"
       },
       "group": "edges"
      }
     },
     "763174b8f219495641cf1eb68d2a61be": {
      "model_module": "cytoscape-clj",
      "model_module_version": "^0.4.0",
      "model_name": "ElementModel",
      "state": {
       "_model_module_version": "^0.4.0",
       "_view_module_version": "^0.4.0",
       "classes": [
        "color000"
       ],
       "data": {
        "id": "7b63220e199141e4bb9b3e888260f92b-4",
        "label": "4"
       },
       "position": {
        "x": 77.84892564487647,
        "y": 147.144559407153
       }
      }
     },
     "76449bac6baf4f547af9ddac4c327ca1": {
      "model_module": "cytoscape-clj",
      "model_module_version": "^0.4.0",
      "model_name": "ElementModel",
      "state": {
       "_model_module_version": "^0.4.0",
       "_view_module_version": "^0.4.0",
       "data": {
        "source": "4b73936597d3416ce041749a57b1789e-4",
        "target": "4b73936597d3416ce041749a57b1789e-1"
       },
       "group": "edges"
      }
     },
     "7761244c0a61452d7301d86b786f07f1": {
      "model_module": "cytoscape-clj",
      "model_module_version": "^0.4.0",
      "model_name": "ElementModel",
      "state": {
       "_model_module_version": "^0.4.0",
       "_view_module_version": "^0.4.0",
       "data": {
        "source": "7b63220e199141e4bb9b3e888260f92b-1",
        "target": "7b63220e199141e4bb9b3e888260f92b-0"
       },
       "group": "edges"
      }
     },
     "7824b80d18d340fd4aaf12f14b5353b0": {
      "model_module": "cytoscape-clj",
      "model_module_version": "^0.4.0",
      "model_name": "ElementModel",
      "state": {
       "_model_module_version": "^0.4.0",
       "_view_module_version": "^0.4.0",
       "classes": [
        "color000"
       ],
       "data": {
        "id": "240e5e5fbfdd4612083799b0eb50f950-2",
        "label": "2"
       },
       "position": {
        "x": 15,
        "y": 383.04620754114956
       }
      }
     },
     "78ffa1da45f24b1d0b6e689b44860b07": {
      "model_module": "cytoscape-clj",
      "model_module_version": "^0.4.0",
      "model_name": "ElementModel",
      "state": {
       "_model_module_version": "^0.4.0",
       "_view_module_version": "^0.4.0",
       "classes": [
        "color001"
       ],
       "data": {
        "id": "7809096b75bd47a8aeeef25912f4a38c-2",
        "label": "2"
       },
       "position": {
        "x": 114.90866022578295,
        "y": 355.24697122548935
       }
      }
     },
     "79e7999154f84eee8cd4a999397b2626": {
      "model_module": "cytoscape-clj",
      "model_module_version": "^0.4.0",
      "model_name": "ElementModel",
      "state": {
       "_model_module_version": "^0.4.0",
       "_view_module_version": "^0.4.0",
       "classes": [
        "color000"
       ],
       "data": {
        "id": "5a9248f0cf1a435bbd3eda799945f6a7-4",
        "label": "4"
       },
       "position": {
        "x": 323.58036594614146,
        "y": 358.4424470314388
       }
      }
     },
     "7c00b4f71d7e4d085d3e195e56e869b0": {
      "model_module": "cytoscape-clj",
      "model_module_version": "^0.4.0",
      "model_name": "ElementModel",
      "state": {
       "_model_module_version": "^0.4.0",
       "_view_module_version": "^0.4.0",
       "data": {
        "source": "a85585faa2aa4f9801dc40adfd0df3c8-2",
        "target": "a85585faa2aa4f9801dc40adfd0df3c8-1"
       },
       "group": "edges"
      }
     },
     "7c11aea59adc458c30523e885e0a209b": {
      "model_module": "cytoscape-clj",
      "model_module_version": "^0.4.0",
      "model_name": "ElementModel",
      "state": {
       "_model_module_version": "^0.4.0",
       "_view_module_version": "^0.4.0",
       "data": {
        "source": "974b8f7dbb2a4b9dc51539d5fdecf009-4",
        "target": "974b8f7dbb2a4b9dc51539d5fdecf009-1"
       },
       "group": "edges"
      }
     },
     "7c69486090e247e09e24a273d38e1490": {
      "model_module": "cytoscape-clj",
      "model_module_version": "^0.4.0",
      "model_name": "ElementModel",
      "state": {
       "_model_module_version": "^0.4.0",
       "_view_module_version": "^0.4.0",
       "data": {
        "source": "240e5e5fbfdd4612083799b0eb50f950-1",
        "target": "240e5e5fbfdd4612083799b0eb50f950-0"
       },
       "group": "edges"
      }
     },
     "7c6a5a1eac8a4e9e3de75393f316ba57": {
      "model_module": "cytoscape-clj",
      "model_module_version": "^0.4.0",
      "model_name": "ElementModel",
      "state": {
       "_model_module_version": "^0.4.0",
       "_view_module_version": "^0.4.0",
       "classes": [
        "color000"
       ],
       "data": {
        "id": "c7566fdd468741773a31866413acaf86-4",
        "label": "4"
       },
       "position": {
        "x": 379.7923820097631,
        "y": 317.83352475940785
       }
      }
     },
     "7c8dfd880d794b0aa67e43421d767d4f": {
      "model_module": "cytoscape-clj",
      "model_module_version": "^0.4.0",
      "model_name": "ElementModel",
      "state": {
       "_model_module_version": "^0.4.0",
       "_view_module_version": "^0.4.0",
       "data": {
        "source": "3c7ac0885c0b4db2065f7354b22e08bd-4",
        "target": "3c7ac0885c0b4db2065f7354b22e08bd-0"
       },
       "group": "edges"
      }
     },
     "7ca8829a8d7747db7b4e248386b23c1b": {
      "model_module": "cytoscape-clj",
      "model_module_version": "^0.4.0",
      "model_name": "ElementModel",
      "state": {
       "_model_module_version": "^0.4.0",
       "_view_module_version": "^0.4.0",
       "data": {
        "source": "cb1a37cd0987478ae6937a4bbafd22db-3",
        "target": "cb1a37cd0987478ae6937a4bbafd22db-1"
       },
       "group": "edges"
      }
     },
     "7dc249b86e374c91b4977ea56049bdf8": {
      "model_module": "cytoscape-clj",
      "model_module_version": "^0.4.0",
      "model_name": "ElementModel",
      "state": {
       "_model_module_version": "^0.4.0",
       "_view_module_version": "^0.4.0",
       "data": {
        "source": "3c7ac0885c0b4db2065f7354b22e08bd-1",
        "target": "3c7ac0885c0b4db2065f7354b22e08bd-0"
       },
       "group": "edges"
      }
     },
     "7e87d207007d4376ea2e07722126b123": {
      "model_module": "cytoscape-clj",
      "model_module_version": "^0.4.0",
      "model_name": "ElementModel",
      "state": {
       "_model_module_version": "^0.4.0",
       "_view_module_version": "^0.4.0",
       "classes": [
        "color000"
       ],
       "data": {
        "id": "bb29137c638f4c8dba4c0499e8ac7c96-1",
        "label": "1"
       },
       "position": {
        "x": 288.2314941307243,
        "y": 50.78308012653429
       }
      }
     },
     "7f3e681b1a594a138b7a8b4d912459b6": {
      "model_module": "cytoscape-clj",
      "model_module_version": "^0.4.0",
      "model_name": "ElementModel",
      "state": {
       "_model_module_version": "^0.4.0",
       "_view_module_version": "^0.4.0",
       "data": {
        "source": "b4056304cf0c45e91c8a99f46518f6d1-5",
        "target": "b4056304cf0c45e91c8a99f46518f6d1-0"
       },
       "group": "edges"
      }
     },
     "7fbeb85e884f43dec383fce408392045": {
      "model_module": "cytoscape-clj",
      "model_module_version": "^0.4.0",
      "model_name": "ElementModel",
      "state": {
       "_model_module_version": "^0.4.0",
       "_view_module_version": "^0.4.0",
       "classes": [
        "color000"
       ],
       "data": {
        "id": "a85585faa2aa4f9801dc40adfd0df3c8-2",
        "label": "2"
       },
       "position": {
        "x": 110.04863312087193,
        "y": 15
       }
      }
     },
     "810e8cc73c914f8361a871f3519c6f2a": {
      "model_module": "cytoscape-clj",
      "model_module_version": "^0.4.0",
      "model_name": "ElementModel",
      "state": {
       "_model_module_version": "^0.4.0",
       "_view_module_version": "^0.4.0",
       "data": {
        "source": "7809096b75bd47a8aeeef25912f4a38c-3",
        "target": "7809096b75bd47a8aeeef25912f4a38c-1"
       },
       "group": "edges"
      }
     },
     "8116fcb16b3d426ee1c456b9716ed51b": {
      "model_module": "cytoscape-clj",
      "model_module_version": "^0.4.0",
      "model_name": "ElementModel",
      "state": {
       "_model_module_version": "^0.4.0",
       "_view_module_version": "^0.4.0",
       "data": {
        "source": "974b8f7dbb2a4b9dc51539d5fdecf009-2",
        "target": "974b8f7dbb2a4b9dc51539d5fdecf009-1"
       },
       "group": "edges"
      }
     },
     "82318e772b28431d4294dcea8686dc1f": {
      "model_module": "cytoscape-clj",
      "model_module_version": "^0.4.0",
      "model_name": "CoseLayoutModel",
      "state": {
       "_model_module_version": "^0.4.0",
       "_view_module_version": "^0.4.0",
       "animation_duration": 250,
       "refresh": 10
      }
     },
     "8370713f43cb44e7a0b2908794cef37d": {
      "model_module": "cytoscape-clj",
      "model_module_version": "^0.4.0",
      "model_name": "ElementModel",
      "state": {
       "_model_module_version": "^0.4.0",
       "_view_module_version": "^0.4.0",
       "classes": [
        "color000"
       ],
       "data": {
        "id": "4b73936597d3416ce041749a57b1789e-4",
        "label": "4"
       },
       "position": {
        "x": 29.80182648686423,
        "y": 393.9613680530459
       }
      }
     },
     "848592a8e5d941c925484a608618c438": {
      "model_module": "cytoscape-clj",
      "model_module_version": "^0.4.0",
      "model_name": "ElementModel",
      "state": {
       "_model_module_version": "^0.4.0",
       "_view_module_version": "^0.4.0",
       "classes": [
        "color000"
       ],
       "data": {
        "id": "3a93299899564e27beeb053fd200bf16-3",
        "label": "3"
       },
       "position": {
        "x": 270.8021474051206,
        "y": 112.98314190414419
       }
      }
     },
     "861f91ddb9d0425f219f84bc516112dd": {
      "model_module": "cytoscape-clj",
      "model_module_version": "^0.4.0",
      "model_name": "ElementModel",
      "state": {
       "_model_module_version": "^0.4.0",
       "_view_module_version": "^0.4.0",
       "classes": [
        "color000"
       ],
       "data": {
        "id": "7809096b75bd47a8aeeef25912f4a38c-5",
        "label": "5"
       },
       "position": {
        "x": 74.52387906933538,
        "y": 234.83934027833573
       }
      }
     },
     "87268f31476d46d013b35ceac2a1c722": {
      "model_module": "cytoscape-clj",
      "model_module_version": "^0.4.0",
      "model_name": "ElementModel",
      "state": {
       "_model_module_version": "^0.4.0",
       "_view_module_version": "^0.4.0",
       "data": {
        "source": "9d5ea15987b0418284cad2c91a78be3b-2",
        "target": "9d5ea15987b0418284cad2c91a78be3b-1"
       },
       "group": "edges"
      }
     },
     "8795e5435c6e48a3340b4411b6fa0ee2": {
      "model_module": "cytoscape-clj",
      "model_module_version": "^0.4.0",
      "model_name": "ElementModel",
      "state": {
       "_model_module_version": "^0.4.0",
       "_view_module_version": "^0.4.0",
       "data": {
        "source": "9023687454a2454e8a2e402943aaf265-1",
        "target": "9023687454a2454e8a2e402943aaf265-0"
       },
       "group": "edges"
      }
     },
     "87f7673bd87649df4ef59f50d1cbf0e6": {
      "model_module": "cytoscape-clj",
      "model_module_version": "^0.4.0",
      "model_name": "ElementModel",
      "state": {
       "_model_module_version": "^0.4.0",
       "_view_module_version": "^0.4.0",
       "data": {
        "source": "9023687454a2454e8a2e402943aaf265-2",
        "target": "9023687454a2454e8a2e402943aaf265-0"
       },
       "group": "edges"
      }
     },
     "882ae67e12774107816f821121fdfd82": {
      "model_module": "cytoscape-clj",
      "model_module_version": "^0.4.0",
      "model_name": "ElementModel",
      "state": {
       "_model_module_version": "^0.4.0",
       "_view_module_version": "^0.4.0",
       "data": {
        "source": "b4056304cf0c45e91c8a99f46518f6d1-4",
        "target": "b4056304cf0c45e91c8a99f46518f6d1-1"
       },
       "group": "edges"
      }
     },
     "88614d41d1ac42bdb66cfe89af20a7de": {
      "model_module": "cytoscape-clj",
      "model_module_version": "^0.4.0",
      "model_name": "ElementModel",
      "state": {
       "_model_module_version": "^0.4.0",
       "_view_module_version": "^0.4.0",
       "classes": [
        "color001"
       ],
       "data": {
        "id": "3c7ac0885c0b4db2065f7354b22e08bd-1",
        "label": "1"
       },
       "position": {
        "x": 321.0841045272567,
        "y": 24.279265455080917
       }
      }
     },
     "8acef81170b844beb0897b86b915fa4d": {
      "model_module": "cytoscape-clj",
      "model_module_version": "^0.4.0",
      "model_name": "ElementModel",
      "state": {
       "_model_module_version": "^0.4.0",
       "_view_module_version": "^0.4.0",
       "classes": [
        "color001"
       ],
       "data": {
        "id": "3c7ac0885c0b4db2065f7354b22e08bd-4",
        "label": "4"
       },
       "position": {
        "x": 384.6900776013823,
        "y": 67.74139392205859
       }
      }
     },
     "8bc18a53f080424c61cb091c2273ccda": {
      "model_module": "cytoscape-clj",
      "model_module_version": "^0.4.0",
      "model_name": "ElementModel",
      "state": {
       "_model_module_version": "^0.4.0",
       "_view_module_version": "^0.4.0",
       "classes": [
        "color001"
       ],
       "data": {
        "id": "cb1a37cd0987478ae6937a4bbafd22db-1",
        "label": "1"
       },
       "position": {
        "x": 53.408045074368204,
        "y": 49.03548073873063
       }
      }
     },
     "8bd691c266f74aced9fc4f837e519c91": {
      "model_module": "cytoscape-clj",
      "model_module_version": "^0.4.0",
      "model_name": "ElementModel",
      "state": {
       "_model_module_version": "^0.4.0",
       "_view_module_version": "^0.4.0",
       "classes": [
        "color000"
       ],
       "data": {
        "id": "974b8f7dbb2a4b9dc51539d5fdecf009-5",
        "label": "5"
       },
       "position": {
        "x": 177.7466447527043,
        "y": 354.8465319244172
       }
      }
     },
     "8c9e895823cd463c6b6372cd7b83b135": {
      "model_module": "cytoscape-clj",
      "model_module_version": "^0.4.0",
      "model_name": "ElementModel",
      "state": {
       "_model_module_version": "^0.4.0",
       "_view_module_version": "^0.4.0",
       "data": {
        "source": "b4056304cf0c45e91c8a99f46518f6d1-4",
        "target": "b4056304cf0c45e91c8a99f46518f6d1-0"
       },
       "group": "edges"
      }
     },
     "8d880da7e58a496c1b8ac876bb25cbaf": {
      "model_module": "cytoscape-clj",
      "model_module_version": "^0.4.0",
      "model_name": "ElementModel",
      "state": {
       "_model_module_version": "^0.4.0",
       "_view_module_version": "^0.4.0",
       "data": {
        "source": "7b63220e199141e4bb9b3e888260f92b-3",
        "target": "7b63220e199141e4bb9b3e888260f92b-2"
       },
       "group": "edges"
      }
     },
     "8dd559dd12e0498da5335bce09b75891": {
      "model_module": "cytoscape-clj",
      "model_module_version": "^0.4.0",
      "model_name": "ElementModel",
      "state": {
       "_model_module_version": "^0.4.0",
       "_view_module_version": "^0.4.0",
       "data": {
        "source": "3a93299899564e27beeb053fd200bf16-4",
        "target": "3a93299899564e27beeb053fd200bf16-1"
       },
       "group": "edges"
      }
     },
     "8df3eb8abf9c43622f1ddaa43bb4c914": {
      "model_module": "cytoscape-clj",
      "model_module_version": "^0.4.0",
      "model_name": "ElementModel",
      "state": {
       "_model_module_version": "^0.4.0",
       "_view_module_version": "^0.4.0",
       "data": {
        "source": "0cf2b2d71c944ccc6bbfa56ca3ba60fb-4",
        "target": "0cf2b2d71c944ccc6bbfa56ca3ba60fb-1"
       },
       "group": "edges"
      }
     },
     "8ed395f83e184fb5db1d86277bf1eede": {
      "model_module": "cytoscape-clj",
      "model_module_version": "^0.4.0",
      "model_name": "ElementModel",
      "state": {
       "_model_module_version": "^0.4.0",
       "_view_module_version": "^0.4.0",
       "classes": [
        "color000"
       ],
       "data": {
        "id": "bb29137c638f4c8dba4c0499e8ac7c96-3",
        "label": "3"
       },
       "position": {
        "x": 384.85461057064583,
        "y": 75.42042334436772
       }
      }
     },
     "90d3445eec124933af235f405c969b8d": {
      "model_module": "cytoscape-clj",
      "model_module_version": "^0.4.0",
      "model_name": "ElementModel",
      "state": {
       "_model_module_version": "^0.4.0",
       "_view_module_version": "^0.4.0",
       "data": {
        "source": "bb29137c638f4c8dba4c0499e8ac7c96-3",
        "target": "bb29137c638f4c8dba4c0499e8ac7c96-1"
       },
       "group": "edges"
      }
     },
     "93b0e4b97240458631eeb09d1b723976": {
      "model_module": "cytoscape-clj",
      "model_module_version": "^0.4.0",
      "model_name": "ElementModel",
      "state": {
       "_model_module_version": "^0.4.0",
       "_view_module_version": "^0.4.0",
       "classes": [
        "color000"
       ],
       "data": {
        "id": "4b73936597d3416ce041749a57b1789e-5",
        "label": "5"
       },
       "position": {
        "x": 142.73347538872662,
        "y": 375.5904297845497
       }
      }
     },
     "93b9129375804248f10c3c1ee46d5eba": {
      "model_module": "cytoscape-clj",
      "model_module_version": "^0.4.0",
      "model_name": "ElementModel",
      "state": {
       "_model_module_version": "^0.4.0",
       "_view_module_version": "^0.4.0",
       "data": {
        "source": "0cf2b2d71c944ccc6bbfa56ca3ba60fb-4",
        "target": "0cf2b2d71c944ccc6bbfa56ca3ba60fb-0"
       },
       "group": "edges"
      }
     },
     "93cda39b8d144e3bf4ca5006e9c4d7b8": {
      "model_module": "cytoscape-clj",
      "model_module_version": "^0.4.0",
      "model_name": "ElementModel",
      "state": {
       "_model_module_version": "^0.4.0",
       "_view_module_version": "^0.4.0",
       "classes": [
        "color001"
       ],
       "data": {
        "id": "f9f657df43d8459d47b6009cfd005dda-1",
        "label": "1"
       },
       "position": {
        "x": 15,
        "y": 277.06741656639605
       }
      }
     },
     "946efaa32d144900784753c35aea1907": {
      "model_module": "cytoscape-clj",
      "model_module_version": "^0.4.0",
      "model_name": "ElementModel",
      "state": {
       "_model_module_version": "^0.4.0",
       "_view_module_version": "^0.4.0",
       "data": {
        "source": "86f75ad39e144f5bf87397bf36fb8ed5-1",
        "target": "86f75ad39e144f5bf87397bf36fb8ed5-0"
       },
       "group": "edges"
      }
     },
     "955bb52b4b84451dc2c023507144af67": {
      "model_module": "cytoscape-clj",
      "model_module_version": "^0.4.0",
      "model_name": "ElementModel",
      "state": {
       "_model_module_version": "^0.4.0",
       "_view_module_version": "^0.4.0",
       "data": {
        "source": "9d5ea15987b0418284cad2c91a78be3b-2",
        "target": "9d5ea15987b0418284cad2c91a78be3b-0"
       },
       "group": "edges"
      }
     },
     "95e9e4139ed84ddc52d0b86d8d952815": {
      "model_module": "cytoscape-clj",
      "model_module_version": "^0.4.0",
      "model_name": "ElementModel",
      "state": {
       "_model_module_version": "^0.4.0",
       "_view_module_version": "^0.4.0",
       "classes": [
        "color000"
       ],
       "data": {
        "id": "a85585faa2aa4f9801dc40adfd0df3c8-3",
        "label": "3"
       },
       "position": {
        "x": 116.40782373652823,
        "y": 75.04042777462004
       }
      }
     },
     "969ae68e767f4c33eddb5e5f833ef350": {
      "model_module": "cytoscape-clj",
      "model_module_version": "^0.4.0",
      "model_name": "ElementModel",
      "state": {
       "_model_module_version": "^0.4.0",
       "_view_module_version": "^0.4.0",
       "data": {
        "source": "0441ed88a01b4949d0e49ef66a30a4f2-3",
        "target": "0441ed88a01b4949d0e49ef66a30a4f2-0"
       },
       "group": "edges"
      }
     },
     "96c5c696e9da457e1108a36b5985394b": {
      "model_module": "cytoscape-clj",
      "model_module_version": "^0.4.0",
      "model_name": "ElementModel",
      "state": {
       "_model_module_version": "^0.4.0",
       "_view_module_version": "^0.4.0",
       "classes": [
        "color001"
       ],
       "data": {
        "id": "3c7ac0885c0b4db2065f7354b22e08bd-0",
        "label": "0"
       },
       "position": {
        "x": 313.4802689519702,
        "y": 85.55779710808656
       }
      }
     },
     "978d9074488b44a78b5fb2b49a9b2bcc": {
      "model_module": "cytoscape-clj",
      "model_module_version": "^0.4.0",
      "model_name": "ElementModel",
      "state": {
       "_model_module_version": "^0.4.0",
       "_view_module_version": "^0.4.0",
       "classes": [
        "color001"
       ],
       "data": {
        "id": "0441ed88a01b4949d0e49ef66a30a4f2-0",
        "label": "0"
       },
       "position": {
        "x": 265.7831348489997,
        "y": 320.9371490190655
       }
      }
     },
     "97adecee734e49c00aa2e56cdea326fd": {
      "model_module": "cytoscape-clj",
      "model_module_version": "^0.4.0",
      "model_name": "ElementModel",
      "state": {
       "_model_module_version": "^0.4.0",
       "_view_module_version": "^0.4.0",
       "data": {
        "source": "5a9248f0cf1a435bbd3eda799945f6a7-1",
        "target": "5a9248f0cf1a435bbd3eda799945f6a7-0"
       },
       "group": "edges"
      }
     },
     "97f79005f11c4896b4c89e833f76da5c": {
      "model_module": "cytoscape-clj",
      "model_module_version": "^0.4.0",
      "model_name": "ElementModel",
      "state": {
       "_model_module_version": "^0.4.0",
       "_view_module_version": "^0.4.0",
       "data": {
        "source": "64d3f67cac4f41036f568892daa181bf-5",
        "target": "64d3f67cac4f41036f568892daa181bf-0"
       },
       "group": "edges"
      }
     },
     "980548204ff94dbf3734ae6032443161": {
      "model_module": "cytoscape-clj",
      "model_module_version": "^0.4.0",
      "model_name": "ElementModel",
      "state": {
       "_model_module_version": "^0.4.0",
       "_view_module_version": "^0.4.0",
       "classes": [
        "color000"
       ],
       "data": {
        "id": "bb29137c638f4c8dba4c0499e8ac7c96-5",
        "label": "5"
       },
       "position": {
        "x": 362.8584991313875,
        "y": 178.9127419161048
       }
      }
     },
     "98a3ea4ad602496fe96c8a8c2333f8d4": {
      "model_module": "cytoscape-clj",
      "model_module_version": "^0.4.0",
      "model_name": "ElementModel",
      "state": {
       "_model_module_version": "^0.4.0",
       "_view_module_version": "^0.4.0",
       "data": {
        "source": "bb29137c638f4c8dba4c0499e8ac7c96-2",
        "target": "bb29137c638f4c8dba4c0499e8ac7c96-0"
       },
       "group": "edges"
      }
     },
     "9914c633ba1a4eddfda521eb43fe8d71": {
      "model_module": "cytoscape-clj",
      "model_module_version": "^0.4.0",
      "model_name": "ElementModel",
      "state": {
       "_model_module_version": "^0.4.0",
       "_view_module_version": "^0.4.0",
       "data": {
        "source": "7b63220e199141e4bb9b3e888260f92b-2",
        "target": "7b63220e199141e4bb9b3e888260f92b-0"
       },
       "group": "edges"
      }
     },
     "9954d5e0f1bb4696f5515464253d21c0": {
      "model_module": "cytoscape-clj",
      "model_module_version": "^0.4.0",
      "model_name": "ElementModel",
      "state": {
       "_model_module_version": "^0.4.0",
       "_view_module_version": "^0.4.0",
       "data": {
        "source": "3c7ac0885c0b4db2065f7354b22e08bd-2",
        "target": "3c7ac0885c0b4db2065f7354b22e08bd-1"
       },
       "group": "edges"
      }
     },
     "9c01e61569a745bdce73222b37eaf92f": {
      "model_module": "cytoscape-clj",
      "model_module_version": "^0.4.0",
      "model_name": "ElementModel",
      "state": {
       "_model_module_version": "^0.4.0",
       "_view_module_version": "^0.4.0",
       "classes": [
        "color000"
       ],
       "data": {
        "id": "bb29137c638f4c8dba4c0499e8ac7c96-0",
        "label": "0"
       },
       "position": {
        "x": 325.97243929713864,
        "y": 110.80801240978454
       }
      }
     },
     "9c7f6221bcfd4dd6b84111fcf56dfe3d": {
      "model_module": "cytoscape-clj",
      "model_module_version": "^0.4.0",
      "model_name": "ElementModel",
      "state": {
       "_model_module_version": "^0.4.0",
       "_view_module_version": "^0.4.0",
       "classes": [
        "color001"
       ],
       "data": {
        "id": "f9f657df43d8459d47b6009cfd005dda-3",
        "label": "3"
       },
       "position": {
        "x": 22.656233010088954,
        "y": 216.08215328039967
       }
      }
     },
     "9ddd95a0f92f407cdf078c57b894e5f7": {
      "model_module": "cytoscape-clj",
      "model_module_version": "^0.4.0",
      "model_name": "ElementModel",
      "state": {
       "_model_module_version": "^0.4.0",
       "_view_module_version": "^0.4.0",
       "classes": [
        "color000"
       ],
       "data": {
        "id": "64d3f67cac4f41036f568892daa181bf-1",
        "label": "1"
       },
       "position": {
        "x": 465.3752060846341,
        "y": 357.3250652993852
       }
      }
     },
     "9fa8dc36a07f456cb427e7547717af58": {
      "model_module": "cytoscape-clj",
      "model_module_version": "^0.4.0",
      "model_name": "ElementModel",
      "state": {
       "_model_module_version": "^0.4.0",
       "_view_module_version": "^0.4.0",
       "data": {
        "source": "220a97e485a042ea362abeae58806717-3",
        "target": "220a97e485a042ea362abeae58806717-0"
       },
       "group": "edges"
      }
     },
     "9ffb29a3a6c845efda08d31a995eeb80": {
      "model_module": "cytoscape-clj",
      "model_module_version": "^0.4.0",
      "model_name": "ElementModel",
      "state": {
       "_model_module_version": "^0.4.0",
       "_view_module_version": "^0.4.0",
       "classes": [
        "color001"
       ],
       "data": {
        "id": "0cf2b2d71c944ccc6bbfa56ca3ba60fb-3",
        "label": "3"
       },
       "position": {
        "x": 132.2487144714743,
        "y": 63.32545728401418
       }
      }
     },
     "a137f7f6bdeb49e0f3a2ed83c8a35aa3": {
      "model_module": "cytoscape-clj",
      "model_module_version": "^0.4.0",
      "model_name": "ElementModel",
      "state": {
       "_model_module_version": "^0.4.0",
       "_view_module_version": "^0.4.0",
       "data": {
        "source": "7809096b75bd47a8aeeef25912f4a38c-3",
        "target": "7809096b75bd47a8aeeef25912f4a38c-2"
       },
       "group": "edges"
      }
     },
     "a13a2c98d92e4a6b4e24b3367fbfc687": {
      "model_module": "cytoscape-clj",
      "model_module_version": "^0.4.0",
      "model_name": "ElementModel",
      "state": {
       "_model_module_version": "^0.4.0",
       "_view_module_version": "^0.4.0",
       "classes": [
        "color000"
       ],
       "data": {
        "id": "240e5e5fbfdd4612083799b0eb50f950-1",
        "label": "1"
       },
       "position": {
        "x": 105.4289166316077,
        "y": 326.01306645943976
       }
      }
     },
     "a1c24c4466a2453f850c9c93918dbda0": {
      "model_module": "cytoscape-clj",
      "model_module_version": "^0.4.0",
      "model_name": "ElementModel",
      "state": {
       "_model_module_version": "^0.4.0",
       "_view_module_version": "^0.4.0",
       "data": {
        "source": "a85585faa2aa4f9801dc40adfd0df3c8-2",
        "target": "a85585faa2aa4f9801dc40adfd0df3c8-0"
       },
       "group": "edges"
      }
     },
     "a1cb2f789f4b4b57a12c1c882a2fe247": {
      "model_module": "cytoscape-clj",
      "model_module_version": "^0.4.0",
      "model_name": "ElementModel",
      "state": {
       "_model_module_version": "^0.4.0",
       "_view_module_version": "^0.4.0",
       "data": {
        "source": "3a93299899564e27beeb053fd200bf16-3",
        "target": "3a93299899564e27beeb053fd200bf16-0"
       },
       "group": "edges"
      }
     },
     "a2a08534707b4c8d9b7926a2068a9878": {
      "model_module": "cytoscape-clj",
      "model_module_version": "^0.4.0",
      "model_name": "ElementModel",
      "state": {
       "_model_module_version": "^0.4.0",
       "_view_module_version": "^0.4.0",
       "data": {
        "source": "f9f657df43d8459d47b6009cfd005dda-4",
        "target": "f9f657df43d8459d47b6009cfd005dda-1"
       },
       "group": "edges"
      }
     },
     "a3ff7bee05644ff87fd59d2273cf20a0": {
      "model_module": "cytoscape-clj",
      "model_module_version": "^0.4.0",
      "model_name": "ElementModel",
      "state": {
       "_model_module_version": "^0.4.0",
       "_view_module_version": "^0.4.0",
       "classes": [
        "color000"
       ],
       "data": {
        "id": "0cf2b2d71c944ccc6bbfa56ca3ba60fb-4",
        "label": "4"
       },
       "position": {
        "x": 15,
        "y": 147.02685965157886
       }
      }
     },
     "a406ad1ba63c4540d5a72a5d4c4335b4": {
      "model_module": "cytoscape-clj",
      "model_module_version": "^0.4.0",
      "model_name": "ElementModel",
      "state": {
       "_model_module_version": "^0.4.0",
       "_view_module_version": "^0.4.0",
       "data": {
        "source": "7b63220e199141e4bb9b3e888260f92b-3",
        "target": "7b63220e199141e4bb9b3e888260f92b-0"
       },
       "group": "edges"
      }
     },
     "a43873dd27544990ad167923fd2c8907": {
      "model_module": "cytoscape-clj",
      "model_module_version": "^0.4.0",
      "model_name": "ElementModel",
      "state": {
       "_model_module_version": "^0.4.0",
       "_view_module_version": "^0.4.0",
       "data": {
        "source": "7b63220e199141e4bb9b3e888260f92b-2",
        "target": "7b63220e199141e4bb9b3e888260f92b-1"
       },
       "group": "edges"
      }
     },
     "a44c2f01668744d10dd76d00f2dc5721": {
      "model_module": "cytoscape-clj",
      "model_module_version": "^0.4.0",
      "model_name": "ElementModel",
      "state": {
       "_model_module_version": "^0.4.0",
       "_view_module_version": "^0.4.0",
       "data": {
        "source": "3c7ac0885c0b4db2065f7354b22e08bd-3",
        "target": "3c7ac0885c0b4db2065f7354b22e08bd-0"
       },
       "group": "edges"
      }
     },
     "a72090bea1da4ef7d479437041d20e80": {
      "model_module": "cytoscape-clj",
      "model_module_version": "^0.4.0",
      "model_name": "ElementModel",
      "state": {
       "_model_module_version": "^0.4.0",
       "_view_module_version": "^0.4.0",
       "data": {
        "source": "b4056304cf0c45e91c8a99f46518f6d1-1",
        "target": "b4056304cf0c45e91c8a99f46518f6d1-0"
       },
       "group": "edges"
      }
     },
     "a7a682d705d14bfc653abe09f42cde87": {
      "model_module": "cytoscape-clj",
      "model_module_version": "^0.4.0",
      "model_name": "ElementModel",
      "state": {
       "_model_module_version": "^0.4.0",
       "_view_module_version": "^0.4.0",
       "data": {
        "source": "0cf2b2d71c944ccc6bbfa56ca3ba60fb-3",
        "target": "0cf2b2d71c944ccc6bbfa56ca3ba60fb-0"
       },
       "group": "edges"
      }
     },
     "a7e5c78057464f25114b7a0739d1d64e": {
      "model_module": "cytoscape-clj",
      "model_module_version": "^0.4.0",
      "model_name": "ElementModel",
      "state": {
       "_model_module_version": "^0.4.0",
       "_view_module_version": "^0.4.0",
       "classes": [
        "color001"
       ],
       "data": {
        "id": "f9f657df43d8459d47b6009cfd005dda-2",
        "label": "2"
       },
       "position": {
        "x": 84.38152729704211,
        "y": 225.7851677402124
       }
      }
     },
     "a81a087fb39a41cacab0219fb79c4dab": {
      "model_module": "cytoscape-clj",
      "model_module_version": "^0.4.0",
      "model_name": "ElementModel",
      "state": {
       "_model_module_version": "^0.4.0",
       "_view_module_version": "^0.4.0",
       "data": {
        "source": "c7566fdd468741773a31866413acaf86-5",
        "target": "c7566fdd468741773a31866413acaf86-0"
       },
       "group": "edges"
      }
     },
     "a8efe7754aa84e739856309b42104a3c": {
      "model_module": "cytoscape-clj",
      "model_module_version": "^0.4.0",
      "model_name": "ElementModel",
      "state": {
       "_model_module_version": "^0.4.0",
       "_view_module_version": "^0.4.0",
       "classes": [
        "color000"
       ],
       "data": {
        "id": "9023687454a2454e8a2e402943aaf265-4",
        "label": "4"
       },
       "position": {
        "x": 317.9757678185184,
        "y": 114.72037718532053
       }
      }
     },
     "a92c7f4a550642def11164faac252ac1": {
      "model_module": "cytoscape-clj",
      "model_module_version": "^0.4.0",
      "model_name": "ElementModel",
      "state": {
       "_model_module_version": "^0.4.0",
       "_view_module_version": "^0.4.0",
       "data": {
        "source": "f9f657df43d8459d47b6009cfd005dda-5",
        "target": "f9f657df43d8459d47b6009cfd005dda-0"
       },
       "group": "edges"
      }
     },
     "aa2e6626b39841e168eef3f87df175d7": {
      "model_module": "cytoscape-clj",
      "model_module_version": "^0.4.0",
      "model_name": "ElementModel",
      "state": {
       "_model_module_version": "^0.4.0",
       "_view_module_version": "^0.4.0",
       "data": {
        "source": "240e5e5fbfdd4612083799b0eb50f950-5",
        "target": "240e5e5fbfdd4612083799b0eb50f950-0"
       },
       "group": "edges"
      }
     },
     "ab0e10d146bc4441e4a6e80da01c7db7": {
      "model_module": "cytoscape-clj",
      "model_module_version": "^0.4.0",
      "model_name": "ElementModel",
      "state": {
       "_model_module_version": "^0.4.0",
       "_view_module_version": "^0.4.0",
       "data": {
        "source": "cb1a37cd0987478ae6937a4bbafd22db-3",
        "target": "cb1a37cd0987478ae6937a4bbafd22db-2"
       },
       "group": "edges"
      }
     },
     "ac3af85aef244261ef1e552a6db979c9": {
      "model_module": "cytoscape-clj",
      "model_module_version": "^0.4.0",
      "model_name": "ElementModel",
      "state": {
       "_model_module_version": "^0.4.0",
       "_view_module_version": "^0.4.0",
       "classes": [
        "color001"
       ],
       "data": {
        "id": "9d5ea15987b0418284cad2c91a78be3b-0",
        "label": "0"
       },
       "position": {
        "x": 299.78406496020915,
        "y": 121.27450838071704
       }
      }
     },
     "ad5deb4abdf1466d7e46ca03f13f83a8": {
      "model_module": "cytoscape-clj",
      "model_module_version": "^0.4.0",
      "model_name": "ElementModel",
      "state": {
       "_model_module_version": "^0.4.0",
       "_view_module_version": "^0.4.0",
       "data": {
        "source": "64d3f67cac4f41036f568892daa181bf-3",
        "target": "64d3f67cac4f41036f568892daa181bf-1"
       },
       "group": "edges"
      }
     },
     "ade93a65826648015d5ad127023a03f7": {
      "model_module": "cytoscape-clj",
      "model_module_version": "^0.4.0",
      "model_name": "ElementModel",
      "state": {
       "_model_module_version": "^0.4.0",
       "_view_module_version": "^0.4.0",
       "data": {
        "source": "240e5e5fbfdd4612083799b0eb50f950-4",
        "target": "240e5e5fbfdd4612083799b0eb50f950-0"
       },
       "group": "edges"
      }
     },
     "aec69e75327a443426ef39ccd9daea88": {
      "model_module": "cytoscape-clj",
      "model_module_version": "^0.4.0",
      "model_name": "ElementModel",
      "state": {
       "_model_module_version": "^0.4.0",
       "_view_module_version": "^0.4.0",
       "classes": [
        "color000"
       ],
       "data": {
        "id": "220a97e485a042ea362abeae58806717-5",
        "label": "5"
       },
       "position": {
        "x": 159.76631934982328,
        "y": 463.2698148761434
       }
      }
     },
     "afde4d86b663449793cb6f1c3f7543bd": {
      "model_module": "cytoscape-clj",
      "model_module_version": "^0.4.0",
      "model_name": "ElementModel",
      "state": {
       "_model_module_version": "^0.4.0",
       "_view_module_version": "^0.4.0",
       "classes": [
        "color000"
       ],
       "data": {
        "id": "ea43278941434a58fa6172c582f2701c-0",
        "label": "0"
       },
       "position": {
        "x": 86.47219245621977,
        "y": 292.5245557407611
       }
      }
     },
     "b080da3f1e684544f8ec0503b21d64f5": {
      "model_module": "cytoscape-clj",
      "model_module_version": "^0.4.0",
      "model_name": "ElementModel",
      "state": {
       "_model_module_version": "^0.4.0",
       "_view_module_version": "^0.4.0",
       "data": {
        "source": "a85585faa2aa4f9801dc40adfd0df3c8-3",
        "target": "a85585faa2aa4f9801dc40adfd0df3c8-2"
       },
       "group": "edges"
      }
     },
     "b0b26910890f49a1249148316d42fa6e": {
      "model_module": "cytoscape-clj",
      "model_module_version": "^0.4.0",
      "model_name": "ElementModel",
      "state": {
       "_model_module_version": "^0.4.0",
       "_view_module_version": "^0.4.0",
       "data": {
        "source": "64d3f67cac4f41036f568892daa181bf-3",
        "target": "64d3f67cac4f41036f568892daa181bf-0"
       },
       "group": "edges"
      }
     },
     "b1a2a7874c5741cffd8987b311b50f61": {
      "model_module": "cytoscape-clj",
      "model_module_version": "^0.4.0",
      "model_name": "ElementModel",
      "state": {
       "_model_module_version": "^0.4.0",
       "_view_module_version": "^0.4.0",
       "data": {
        "source": "5a9248f0cf1a435bbd3eda799945f6a7-2",
        "target": "5a9248f0cf1a435bbd3eda799945f6a7-0"
       },
       "group": "edges"
      }
     },
     "b2767fd29e414be609fee2fb59841e70": {
      "model_module": "cytoscape-clj",
      "model_module_version": "^0.4.0",
      "model_name": "ElementModel",
      "state": {
       "_model_module_version": "^0.4.0",
       "_view_module_version": "^0.4.0",
       "data": {
        "source": "9023687454a2454e8a2e402943aaf265-4",
        "target": "9023687454a2454e8a2e402943aaf265-1"
       },
       "group": "edges"
      }
     },
     "b2d586bdbf134520665fdf77dd5edffa": {
      "model_module": "cytoscape-clj",
      "model_module_version": "^0.4.0",
      "model_name": "ElementModel",
      "state": {
       "_model_module_version": "^0.4.0",
       "_view_module_version": "^0.4.0",
       "classes": [
        "color001"
       ],
       "data": {
        "id": "9d5ea15987b0418284cad2c91a78be3b-1",
        "label": "1"
       },
       "position": {
        "x": 255.01208679683225,
        "y": 76.23799113750027
       }
      }
     },
     "b361572dadb743d76511e83c592dd28f": {
      "model_module": "cytoscape-clj",
      "model_module_version": "^0.4.0",
      "model_name": "ElementModel",
      "state": {
       "_model_module_version": "^0.4.0",
       "_view_module_version": "^0.4.0",
       "classes": [
        "color000"
       ],
       "data": {
        "id": "0441ed88a01b4949d0e49ef66a30a4f2-4",
        "label": "4"
       },
       "position": {
        "x": 205.41511282443605,
        "y": 380.9004780945095
       }
      }
     },
     "b42f4b3ccedc4498f23a0627b14a948a": {
      "model_module": "cytoscape-clj",
      "model_module_version": "^0.4.0",
      "model_name": "ElementModel",
      "state": {
       "_model_module_version": "^0.4.0",
       "_view_module_version": "^0.4.0",
       "data": {
        "source": "a85585faa2aa4f9801dc40adfd0df3c8-1",
        "target": "a85585faa2aa4f9801dc40adfd0df3c8-0"
       },
       "group": "edges"
      }
     },
     "b469740b87d349a270359140cc3ef089": {
      "model_module": "cytoscape-clj",
      "model_module_version": "^0.4.0",
      "model_name": "ElementModel",
      "state": {
       "_model_module_version": "^0.4.0",
       "_view_module_version": "^0.4.0",
       "classes": [
        "color001"
       ],
       "data": {
        "id": "0cf2b2d71c944ccc6bbfa56ca3ba60fb-0",
        "label": "0"
       },
       "position": {
        "x": 83.8395276936298,
        "y": 123.11750367653977
       }
      }
     },
     "b471fca1c7304c08195725a7a5652640": {
      "model_module": "cytoscape-clj",
      "model_module_version": "^0.4.0",
      "model_name": "ElementModel",
      "state": {
       "_model_module_version": "^0.4.0",
       "_view_module_version": "^0.4.0",
       "classes": [
        "color000"
       ],
       "data": {
        "id": "cb1a37cd0987478ae6937a4bbafd22db-4",
        "label": "4"
       },
       "position": {
        "x": 121.02239006239398,
        "y": 15
       }
      }
     },
     "b4a8dc8c3c1b4a529e3a8290481d4eb8": {
      "model_module": "cytoscape-clj",
      "model_module_version": "^0.4.0",
      "model_name": "ElementModel",
      "state": {
       "_model_module_version": "^0.4.0",
       "_view_module_version": "^0.4.0",
       "classes": [
        "color000"
       ],
       "data": {
        "id": "220a97e485a042ea362abeae58806717-3",
        "label": "3"
       },
       "position": {
        "x": 31.360815571482846,
        "y": 487.8409227143778
       }
      }
     },
     "b5796adf9707421abcb4d34009ee79da": {
      "model_module": "cytoscape-clj",
      "model_module_version": "^0.4.0",
      "model_name": "ElementModel",
      "state": {
       "_model_module_version": "^0.4.0",
       "_view_module_version": "^0.4.0",
       "classes": [
        "color001"
       ],
       "data": {
        "id": "b4056304cf0c45e91c8a99f46518f6d1-0",
        "label": "0"
       },
       "position": {
        "x": 95.20426717966103,
        "y": 86.38125086675508
       }
      }
     },
     "b5b659681cda49f410920efbe6062d10": {
      "model_module": "cytoscape-clj",
      "model_module_version": "^0.4.0",
      "model_name": "ElementModel",
      "state": {
       "_model_module_version": "^0.4.0",
       "_view_module_version": "^0.4.0",
       "classes": [
        "color001"
       ],
       "data": {
        "id": "86f75ad39e144f5bf87397bf36fb8ed5-0",
        "label": "0"
       },
       "position": {
        "x": 285.7399912710016,
        "y": 54.00628180086344
       }
      }
     },
     "b696a65bf8214ccf951c5114ae67af10": {
      "model_module": "cytoscape-clj",
      "model_module_version": "^0.4.0",
      "model_name": "ElementModel",
      "state": {
       "_model_module_version": "^0.4.0",
       "_view_module_version": "^0.4.0",
       "data": {
        "source": "220a97e485a042ea362abeae58806717-4",
        "target": "220a97e485a042ea362abeae58806717-0"
       },
       "group": "edges"
      }
     },
     "b6d400e4d55143aa43489baca3b132cc": {
      "model_module": "cytoscape-clj",
      "model_module_version": "^0.4.0",
      "model_name": "ElementModel",
      "state": {
       "_model_module_version": "^0.4.0",
       "_view_module_version": "^0.4.0",
       "data": {
        "source": "64d3f67cac4f41036f568892daa181bf-4",
        "target": "64d3f67cac4f41036f568892daa181bf-1"
       },
       "group": "edges"
      }
     },
     "b6f07d428a79479acb56aea63e11428b": {
      "model_module": "cytoscape-clj",
      "model_module_version": "^0.4.0",
      "model_name": "ElementModel",
      "state": {
       "_model_module_version": "^0.4.0",
       "_view_module_version": "^0.4.0",
       "classes": [
        "color000"
       ],
       "data": {
        "id": "c7566fdd468741773a31866413acaf86-5",
        "label": "5"
       },
       "position": {
        "x": 312.86846155128393,
        "y": 395.0225541693777
       }
      }
     },
     "b8181a6f1a7a4bb94d469b884f42dd57": {
      "model_module": "cytoscape-clj",
      "model_module_version": "^0.4.0",
      "model_name": "ElementModel",
      "state": {
       "_model_module_version": "^0.4.0",
       "_view_module_version": "^0.4.0",
       "data": {
        "source": "f9f657df43d8459d47b6009cfd005dda-3",
        "target": "f9f657df43d8459d47b6009cfd005dda-2"
       },
       "group": "edges"
      }
     },
     "b83df267a4cd4d79cd1ecfbda676e94b": {
      "model_module": "cytoscape-clj",
      "model_module_version": "^0.4.0",
      "model_name": "ElementModel",
      "state": {
       "_model_module_version": "^0.4.0",
       "_view_module_version": "^0.4.0",
       "data": {
        "source": "cb5e6b4dc43340fab204b3cba34eec9d-3",
        "target": "cb5e6b4dc43340fab204b3cba34eec9d-1"
       },
       "group": "edges"
      }
     },
     "b8a495adee4a4825838ab8d10a16f0bc": {
      "model_module": "cytoscape-clj",
      "model_module_version": "^0.4.0",
      "model_name": "ElementModel",
      "state": {
       "_model_module_version": "^0.4.0",
       "_view_module_version": "^0.4.0",
       "classes": [
        "color001"
       ],
       "data": {
        "id": "7809096b75bd47a8aeeef25912f4a38c-1",
        "label": "1"
       },
       "position": {
        "x": 84.88763325459294,
        "y": 295.7938897107631
       }
      }
     },
     "b8b7a0a6b0b44b05bf4fc5560eb748de": {
      "model_module": "cytoscape-clj",
      "model_module_version": "^0.4.0",
      "model_name": "ElementModel",
      "state": {
       "_model_module_version": "^0.4.0",
       "_view_module_version": "^0.4.0",
       "classes": [
        "color001"
       ],
       "data": {
        "id": "240e5e5fbfdd4612083799b0eb50f950-5",
        "label": "5"
       },
       "position": {
        "x": 33.37035160567231,
        "y": 251.66425611635157
       }
      }
     },
     "b8c0ef275f3947ca14267a9186a4ab68": {
      "model_module": "cytoscape-clj",
      "model_module_version": "^0.4.0",
      "model_name": "ElementModel",
      "state": {
       "_model_module_version": "^0.4.0",
       "_view_module_version": "^0.4.0",
       "classes": [
        "color001"
       ],
       "data": {
        "id": "0441ed88a01b4949d0e49ef66a30a4f2-1",
        "label": "1"
       },
       "position": {
        "x": 275.7385150235283,
        "y": 381.0324812038185
       }
      }
     },
     "b902ac585a6e47f7d6d807f4a78df29f": {
      "model_module": "cytoscape-clj",
      "model_module_version": "^0.4.0",
      "model_name": "ElementModel",
      "state": {
       "_model_module_version": "^0.4.0",
       "_view_module_version": "^0.4.0",
       "classes": [
        "color000"
       ],
       "data": {
        "id": "ea43278941434a58fa6172c582f2701c-5",
        "label": "5"
       },
       "position": {
        "x": 15,
        "y": 273.0310848960529
       }
      }
     },
     "b91d5c70b0534550b7301c6c36770fe8": {
      "model_module": "cytoscape-clj",
      "model_module_version": "^0.4.0",
      "model_name": "ElementModel",
      "state": {
       "_model_module_version": "^0.4.0",
       "_view_module_version": "^0.4.0",
       "classes": [
        "color001"
       ],
       "data": {
        "id": "220a97e485a042ea362abeae58806717-1",
        "label": "1"
       },
       "position": {
        "x": 76.61479393322736,
        "y": 562.6575251790564
       }
      }
     },
     "bbe608dd699648bbd53d9e990befcd6d": {
      "model_module": "cytoscape-clj",
      "model_module_version": "^0.4.0",
      "model_name": "ElementModel",
      "state": {
       "_model_module_version": "^0.4.0",
       "_view_module_version": "^0.4.0",
       "data": {
        "source": "9d5ea15987b0418284cad2c91a78be3b-4",
        "target": "9d5ea15987b0418284cad2c91a78be3b-1"
       },
       "group": "edges"
      }
     },
     "bd31a46389b2449e3763e812932e5a6f": {
      "model_module": "cytoscape-clj",
      "model_module_version": "^0.4.0",
      "model_name": "ElementModel",
      "state": {
       "_model_module_version": "^0.4.0",
       "_view_module_version": "^0.4.0",
       "classes": [
        "color001"
       ],
       "data": {
        "id": "a85585faa2aa4f9801dc40adfd0df3c8-0",
        "label": "0"
       },
       "position": {
        "x": 44.43317260287377,
        "y": 95.70387137941334
       }
      }
     },
     "be8bdfb499064d892b84a277868fb1ae": {
      "model_module": "cytoscape-clj",
      "model_module_version": "^0.4.0",
      "model_name": "ElementModel",
      "state": {
       "_model_module_version": "^0.4.0",
       "_view_module_version": "^0.4.0",
       "data": {
        "source": "bb29137c638f4c8dba4c0499e8ac7c96-2",
        "target": "bb29137c638f4c8dba4c0499e8ac7c96-1"
       },
       "group": "edges"
      }
     },
     "bfdb72d9680547aacc22aa45d1bde4c8": {
      "model_module": "cytoscape-clj",
      "model_module_version": "^0.4.0",
      "model_name": "CytoscapeModel",
      "state": {
       "_model_module_version": "^0.4.0",
       "_view_module_version": "^0.4.0",
       "box_selection_enabled": true,
       "desktop_tap_threshold": 4,
       "elements": [
        "IPY_MODEL_393f2fe3a43b4b7fa80b7268919adf91",
        "IPY_MODEL_b8a495adee4a4825838ab8d10a16f0bc",
        "IPY_MODEL_78ffa1da45f24b1d0b6e689b44860b07",
        "IPY_MODEL_e994373077e24ef0dbf586aa3ae4f82b",
        "IPY_MODEL_c5cf62237db44b394c4c7a6dead95e24",
        "IPY_MODEL_861f91ddb9d0425f219f84bc516112dd",
        "IPY_MODEL_1c3d11f0257148fd53e338410c1a7dca",
        "IPY_MODEL_17ac38172aca4a1a883e084f4fcc8ccd",
        "IPY_MODEL_43488b8e79174c1d1eb10c318cc9cafc",
        "IPY_MODEL_e642411e0d1f4070de50d3c6c55d936d",
        "IPY_MODEL_810e8cc73c914f8361a871f3519c6f2a",
        "IPY_MODEL_a137f7f6bdeb49e0f3a2ed83c8a35aa3",
        "IPY_MODEL_2f46483708e247f1ef9faa534677937d",
        "IPY_MODEL_2b6631dbd44c43d3b69804fecaf820c8",
        "IPY_MODEL_543ef4a6bafd4a5758b56c7b0c52f78d",
        "IPY_MODEL_bd31a46389b2449e3763e812932e5a6f",
        "IPY_MODEL_6b7320c64ae84d05a91b603d0c951f4e",
        "IPY_MODEL_7fbeb85e884f43dec383fce408392045",
        "IPY_MODEL_95e9e4139ed84ddc52d0b86d8d952815",
        "IPY_MODEL_de06b0d0e6b4444e3f0de842bbf1686b",
        "IPY_MODEL_e98b15e1dad2487742fd978aea2146c3",
        "IPY_MODEL_b42f4b3ccedc4498f23a0627b14a948a",
        "IPY_MODEL_a1c24c4466a2453f850c9c93918dbda0",
        "IPY_MODEL_7c00b4f71d7e4d085d3e195e56e869b0",
        "IPY_MODEL_446b38a3459b4c6424881475428c7c9c",
        "IPY_MODEL_03279f05c36f4cbd6bb151f1aa738ccd",
        "IPY_MODEL_b080da3f1e684544f8ec0503b21d64f5",
        "IPY_MODEL_37b410a76f0b4eba59ae972f1a293dfc",
        "IPY_MODEL_d705c9965bf4401f0238488c76d7855f",
        "IPY_MODEL_dfbf8f56f9cb4537e426629916b245e0",
        "IPY_MODEL_4a71a3164ccd479667dba78ecb9fc8f5",
        "IPY_MODEL_67a42c7f60fb476bca702e284f858cd9",
        "IPY_MODEL_c461d3b3c26e41cc8ab4c6151b887677",
        "IPY_MODEL_20fc3dfa427b4700b4128145a8231222",
        "IPY_MODEL_a8efe7754aa84e739856309b42104a3c",
        "IPY_MODEL_6094568fb5a94c16fca65968deedd75d",
        "IPY_MODEL_8795e5435c6e48a3340b4411b6fa0ee2",
        "IPY_MODEL_87f7673bd87649df4ef59f50d1cbf0e6",
        "IPY_MODEL_7428a83065c9413eb6167b3e26a812fb",
        "IPY_MODEL_1525abd23ab64ed6476a71348640372b",
        "IPY_MODEL_6b64bbf0efeb4caf0acf0a583e50ab42",
        "IPY_MODEL_11139dd6d666423977419332cb98e440",
        "IPY_MODEL_66529687adfd4af3027bd548686964ea",
        "IPY_MODEL_b2767fd29e414be609fee2fb59841e70",
        "IPY_MODEL_31981657c97a452e728b8d137fdbcea3"
       ],
       "graph_layouts": [
        "IPY_MODEL_82318e772b28431d4294dcea8686dc1f"
       ],
       "graph_style": "node { label: data(label); }node.color000 { background-color: purple; }\nnode.color001 { background-color: blue; }\nnode.color002 { background-color: yellow; }\nnode.color003 { background-color: lime; }\nnode.color004 { background-color: olive; }\nnode.color005 { background-color: aqua; }\nnode.color006 { background-color: fuchsia; }\nnode.color007 { background-color: aquamarine; }\nnode.color008 { background-color: green; }\nnode.color009 { background-color: teal; }\nnode.color010 { background-color: maroon; }\nnode.color011 { background-color: navy; }\nnode.color012 { background-color: red; }\n",
       "layout": "IPY_MODEL_df7c24b07ea7440291f717ed6ede3e17",
       "max_zoom": 1.0000000000000003e+50,
       "min_zoom": 9.999999999999999e-51,
       "pan": {
        "x": 698.1237276146151,
        "y": 45.9858963415013
       },
       "zoom": 0.8413629653421743
      }
     },
     "c182878d33b9465fe5c757138bcae017": {
      "model_module": "cytoscape-clj",
      "model_module_version": "^0.4.0",
      "model_name": "ElementModel",
      "state": {
       "_model_module_version": "^0.4.0",
       "_view_module_version": "^0.4.0",
       "classes": [
        "color001"
       ],
       "data": {
        "id": "86f75ad39e144f5bf87397bf36fb8ed5-4",
        "label": "4"
       },
       "position": {
        "x": 254.7187156977453,
        "y": 124.38079338538226
       }
      }
     },
     "c36c059bfa7643b37a8955938054043c": {
      "model_module": "cytoscape-clj",
      "model_module_version": "^0.4.0",
      "model_name": "ElementModel",
      "state": {
       "_model_module_version": "^0.4.0",
       "_view_module_version": "^0.4.0",
       "data": {
        "source": "220a97e485a042ea362abeae58806717-3",
        "target": "220a97e485a042ea362abeae58806717-2"
       },
       "group": "edges"
      }
     },
     "c3f6d4be4d8e44ce889dadce09f8bee0": {
      "model_module": "cytoscape-clj",
      "model_module_version": "^0.4.0",
      "model_name": "ElementModel",
      "state": {
       "_model_module_version": "^0.4.0",
       "_view_module_version": "^0.4.0",
       "data": {
        "source": "220a97e485a042ea362abeae58806717-3",
        "target": "220a97e485a042ea362abeae58806717-1"
       },
       "group": "edges"
      }
     },
     "c461d3b3c26e41cc8ab4c6151b887677": {
      "model_module": "cytoscape-clj",
      "model_module_version": "^0.4.0",
      "model_name": "ElementModel",
      "state": {
       "_model_module_version": "^0.4.0",
       "_view_module_version": "^0.4.0",
       "classes": [
        "color000"
       ],
       "data": {
        "id": "9023687454a2454e8a2e402943aaf265-2",
        "label": "2"
       },
       "position": {
        "x": 203.14927765653312,
        "y": 35.94606829353242
       }
      }
     },
     "c5cab80bcbd54e681bd9f3ad48c12f08": {
      "model_module": "cytoscape-clj",
      "model_module_version": "^0.4.0",
      "model_name": "ElementModel",
      "state": {
       "_model_module_version": "^0.4.0",
       "_view_module_version": "^0.4.0",
       "data": {
        "source": "cb5e6b4dc43340fab204b3cba34eec9d-1",
        "target": "cb5e6b4dc43340fab204b3cba34eec9d-0"
       },
       "group": "edges"
      }
     },
     "c5cf62237db44b394c4c7a6dead95e24": {
      "model_module": "cytoscape-clj",
      "model_module_version": "^0.4.0",
      "model_name": "ElementModel",
      "state": {
       "_model_module_version": "^0.4.0",
       "_view_module_version": "^0.4.0",
       "classes": [
        "color000"
       ],
       "data": {
        "id": "7809096b75bd47a8aeeef25912f4a38c-4",
        "label": "4"
       },
       "position": {
        "x": 15,
        "y": 247.66458347433087
       }
      }
     },
     "c7a5c3723f5e44dae2100f1e96c98514": {
      "model_module": "cytoscape-clj",
      "model_module_version": "^0.4.0",
      "model_name": "ElementModel",
      "state": {
       "_model_module_version": "^0.4.0",
       "_view_module_version": "^0.4.0",
       "data": {
        "source": "9d5ea15987b0418284cad2c91a78be3b-3",
        "target": "9d5ea15987b0418284cad2c91a78be3b-2"
       },
       "group": "edges"
      }
     },
     "c83db668c0d1430a7546f72375cd1446": {
      "model_module": "cytoscape-clj",
      "model_module_version": "^0.4.0",
      "model_name": "ElementModel",
      "state": {
       "_model_module_version": "^0.4.0",
       "_view_module_version": "^0.4.0",
       "classes": [
        "color000"
       ],
       "data": {
        "id": "ea43278941434a58fa6172c582f2701c-2",
        "label": "2"
       },
       "position": {
        "x": 86.6508267055475,
        "y": 357.9437503034342
       }
      }
     },
     "c8723181d420401cc7790b63602d5abb": {
      "model_module": "cytoscape-clj",
      "model_module_version": "^0.4.0",
      "model_name": "ElementModel",
      "state": {
       "_model_module_version": "^0.4.0",
       "_view_module_version": "^0.4.0",
       "classes": [
        "color000"
       ],
       "data": {
        "id": "86f75ad39e144f5bf87397bf36fb8ed5-5",
        "label": "5"
       },
       "position": {
        "x": 214.6999991188063,
        "y": 31.78852497475401
       }
      }
     },
     "c99235f42fde406e27be116c1a8f0e04": {
      "model_module": "cytoscape-clj",
      "model_module_version": "^0.4.0",
      "model_name": "ElementModel",
      "state": {
       "_model_module_version": "^0.4.0",
       "_view_module_version": "^0.4.0",
       "data": {
        "source": "ea43278941434a58fa6172c582f2701c-1",
        "target": "ea43278941434a58fa6172c582f2701c-0"
       },
       "group": "edges"
      }
     },
     "c9d9a07295a24ad281efe588e8444ade": {
      "model_module": "cytoscape-clj",
      "model_module_version": "^0.4.0",
      "model_name": "ElementModel",
      "state": {
       "_model_module_version": "^0.4.0",
       "_view_module_version": "^0.4.0",
       "data": {
        "source": "64d3f67cac4f41036f568892daa181bf-2",
        "target": "64d3f67cac4f41036f568892daa181bf-1"
       },
       "group": "edges"
      }
     },
     "caa9705de65d46425d5cb7cb9b753cc6": {
      "model_module": "cytoscape-clj",
      "model_module_version": "^0.4.0",
      "model_name": "ElementModel",
      "state": {
       "_model_module_version": "^0.4.0",
       "_view_module_version": "^0.4.0",
       "data": {
        "source": "7b63220e199141e4bb9b3e888260f92b-3",
        "target": "7b63220e199141e4bb9b3e888260f92b-1"
       },
       "group": "edges"
      }
     },
     "cab4d90d3af5452c241dbca828002fde": {
      "model_module": "cytoscape-clj",
      "model_module_version": "^0.4.0",
      "model_name": "ElementModel",
      "state": {
       "_model_module_version": "^0.4.0",
       "_view_module_version": "^0.4.0",
       "classes": [
        "color000"
       ],
       "data": {
        "id": "240e5e5fbfdd4612083799b0eb50f950-4",
        "label": "4"
       },
       "position": {
        "x": 135.41511282443605,
        "y": 386.34731027759227
       }
      }
     },
     "cc2f3a86ca334f0863901a40267c4ab0": {
      "model_module": "cytoscape-clj",
      "model_module_version": "^0.4.0",
      "model_name": "ElementModel",
      "state": {
       "_model_module_version": "^0.4.0",
       "_view_module_version": "^0.4.0",
       "data": {
        "source": "cb1a37cd0987478ae6937a4bbafd22db-1",
        "target": "cb1a37cd0987478ae6937a4bbafd22db-0"
       },
       "group": "edges"
      }
     },
     "cd9bf9754efa41edd7623bf6fec36b31": {
      "model_module": "cytoscape-clj",
      "model_module_version": "^0.4.0",
      "model_name": "ElementModel",
      "state": {
       "_model_module_version": "^0.4.0",
       "_view_module_version": "^0.4.0",
       "data": {
        "source": "974b8f7dbb2a4b9dc51539d5fdecf009-1",
        "target": "974b8f7dbb2a4b9dc51539d5fdecf009-0"
       },
       "group": "edges"
      }
     },
     "d0b101853a0840adc55e96472347c838": {
      "model_module": "cytoscape-clj",
      "model_module_version": "^0.4.0",
      "model_name": "ElementModel",
      "state": {
       "_model_module_version": "^0.4.0",
       "_view_module_version": "^0.4.0",
       "data": {
        "source": "86f75ad39e144f5bf87397bf36fb8ed5-3",
        "target": "86f75ad39e144f5bf87397bf36fb8ed5-2"
       },
       "group": "edges"
      }
     },
     "d0e3c4ef4e254852ac32c50239fdd248": {
      "model_module": "cytoscape-clj",
      "model_module_version": "^0.4.0",
      "model_name": "ElementModel",
      "state": {
       "_model_module_version": "^0.4.0",
       "_view_module_version": "^0.4.0",
       "data": {
        "source": "ea43278941434a58fa6172c582f2701c-4",
        "target": "ea43278941434a58fa6172c582f2701c-1"
       },
       "group": "edges"
      }
     },
     "d108ef9eee434e243df9df1fef00745f": {
      "model_module": "cytoscape-clj",
      "model_module_version": "^0.4.0",
      "model_name": "ElementModel",
      "state": {
       "_model_module_version": "^0.4.0",
       "_view_module_version": "^0.4.0",
       "data": {
        "source": "c7566fdd468741773a31866413acaf86-3",
        "target": "c7566fdd468741773a31866413acaf86-0"
       },
       "group": "edges"
      }
     },
     "d176196aeefe466b4b016018bd2c2f65": {
      "model_module": "cytoscape-clj",
      "model_module_version": "^0.4.0",
      "model_name": "ElementModel",
      "state": {
       "_model_module_version": "^0.4.0",
       "_view_module_version": "^0.4.0",
       "data": {
        "source": "974b8f7dbb2a4b9dc51539d5fdecf009-3",
        "target": "974b8f7dbb2a4b9dc51539d5fdecf009-1"
       },
       "group": "edges"
      }
     },
     "d1860e8be4d142d75a1b67e33891cc5f": {
      "model_module": "cytoscape-clj",
      "model_module_version": "^0.4.0",
      "model_name": "ElementModel",
      "state": {
       "_model_module_version": "^0.4.0",
       "_view_module_version": "^0.4.0",
       "classes": [
        "color000"
       ],
       "data": {
        "id": "3a93299899564e27beeb053fd200bf16-4",
        "label": "4"
       },
       "position": {
        "x": 370.8445676370371,
        "y": 15
       }
      }
     },
     "d3b008cb85684fb8861c92dc75d311cb": {
      "model_module": "cytoscape-clj",
      "model_module_version": "^0.4.0",
      "model_name": "ElementModel",
      "state": {
       "_model_module_version": "^0.4.0",
       "_view_module_version": "^0.4.0",
       "classes": [
        "color001"
       ],
       "data": {
        "id": "7b63220e199141e4bb9b3e888260f92b-5",
        "label": "5"
       },
       "position": {
        "x": 15,
        "y": 47.7027830253831
       }
      }
     },
     "d3c75b0980cb4a4b9c4fe61293ea0930": {
      "model_module": "cytoscape-clj",
      "model_module_version": "^0.4.0",
      "model_name": "ElementModel",
      "state": {
       "_model_module_version": "^0.4.0",
       "_view_module_version": "^0.4.0",
       "data": {
        "source": "220a97e485a042ea362abeae58806717-4",
        "target": "220a97e485a042ea362abeae58806717-1"
       },
       "group": "edges"
      }
     },
     "d49947bfa66c40abda22f588a814f9c1": {
      "model_module": "cytoscape-clj",
      "model_module_version": "^0.4.0",
      "model_name": "ElementModel",
      "state": {
       "_model_module_version": "^0.4.0",
       "_view_module_version": "^0.4.0",
       "data": {
        "source": "220a97e485a042ea362abeae58806717-5",
        "target": "220a97e485a042ea362abeae58806717-0"
       },
       "group": "edges"
      }
     },
     "d6028bdbf157469d50f5efb5fd7bf1b9": {
      "model_module": "cytoscape-clj",
      "model_module_version": "^0.4.0",
      "model_name": "ElementModel",
      "state": {
       "_model_module_version": "^0.4.0",
       "_view_module_version": "^0.4.0",
       "classes": [
        "color001"
       ],
       "data": {
        "id": "cb1a37cd0987478ae6937a4bbafd22db-2",
        "label": "2"
       },
       "position": {
        "x": 15,
        "y": 107.46484300092246
       }
      }
     },
     "d6084771cc914d938b05ea16c12b1f47": {
      "model_module": "cytoscape-clj",
      "model_module_version": "^0.4.0",
      "model_name": "ElementModel",
      "state": {
       "_model_module_version": "^0.4.0",
       "_view_module_version": "^0.4.0",
       "data": {
        "source": "bb29137c638f4c8dba4c0499e8ac7c96-3",
        "target": "bb29137c638f4c8dba4c0499e8ac7c96-0"
       },
       "group": "edges"
      }
     },
     "d705c9965bf4401f0238488c76d7855f": {
      "model_module": "cytoscape-clj",
      "model_module_version": "^0.4.0",
      "model_name": "ElementModel",
      "state": {
       "_model_module_version": "^0.4.0",
       "_view_module_version": "^0.4.0",
       "data": {
        "source": "a85585faa2aa4f9801dc40adfd0df3c8-4",
        "target": "a85585faa2aa4f9801dc40adfd0df3c8-1"
       },
       "group": "edges"
      }
     },
     "da46329300d142338624668340881bb7": {
      "model_module": "cytoscape-clj",
      "model_module_version": "^0.4.0",
      "model_name": "ElementModel",
      "state": {
       "_model_module_version": "^0.4.0",
       "_view_module_version": "^0.4.0",
       "data": {
        "source": "4b73936597d3416ce041749a57b1789e-2",
        "target": "4b73936597d3416ce041749a57b1789e-1"
       },
       "group": "edges"
      }
     },
     "dbbcea0a25d54ef93ca4978d79836654": {
      "model_module": "cytoscape-clj",
      "model_module_version": "^0.4.0",
      "model_name": "ElementModel",
      "state": {
       "_model_module_version": "^0.4.0",
       "_view_module_version": "^0.4.0",
       "classes": [
        "color001"
       ],
       "data": {
        "id": "0441ed88a01b4949d0e49ef66a30a4f2-3",
        "label": "3"
       },
       "position": {
        "x": 335.09364488052535,
        "y": 370.5757017477979
       }
      }
     },
     "dbf95f74f6ec43d91862f4c5a664447e": {
      "model_module": "cytoscape-clj",
      "model_module_version": "^0.4.0",
      "model_name": "ElementModel",
      "state": {
       "_model_module_version": "^0.4.0",
       "_view_module_version": "^0.4.0",
       "data": {
        "source": "3a93299899564e27beeb053fd200bf16-2",
        "target": "3a93299899564e27beeb053fd200bf16-1"
       },
       "group": "edges"
      }
     },
     "dc136ee26be14b374e15b00d4a878a3a": {
      "model_module": "cytoscape-clj",
      "model_module_version": "^0.4.0",
      "model_name": "ElementModel",
      "state": {
       "_model_module_version": "^0.4.0",
       "_view_module_version": "^0.4.0",
       "classes": [
        "color001"
       ],
       "data": {
        "id": "3a93299899564e27beeb053fd200bf16-0",
        "label": "0"
       },
       "position": {
        "x": 331.7196482116538,
        "y": 79.0334529132325
       }
      }
     },
     "dc455f4d7bfd4395cf0a9976ef992cfd": {
      "model_module": "cytoscape-clj",
      "model_module_version": "^0.4.0",
      "model_name": "ElementModel",
      "state": {
       "_model_module_version": "^0.4.0",
       "_view_module_version": "^0.4.0",
       "classes": [
        "color000"
       ],
       "data": {
        "id": "220a97e485a042ea362abeae58806717-2",
        "label": "2"
       },
       "position": {
        "x": 15,
        "y": 547.3710177782244
       }
      }
     },
     "dc5f8008359349cd86bdbcdc1382550e": {
      "model_module": "cytoscape-clj",
      "model_module_version": "^0.4.0",
      "model_name": "ElementModel",
      "state": {
       "_model_module_version": "^0.4.0",
       "_view_module_version": "^0.4.0",
       "data": {
        "source": "3c7ac0885c0b4db2065f7354b22e08bd-2",
        "target": "3c7ac0885c0b4db2065f7354b22e08bd-0"
       },
       "group": "edges"
      }
     },
     "dd6d5cae65274eb597e1ee65e44625cd": {
      "model_module": "cytoscape-clj",
      "model_module_version": "^0.4.0",
      "model_name": "ElementModel",
      "state": {
       "_model_module_version": "^0.4.0",
       "_view_module_version": "^0.4.0",
       "data": {
        "source": "4b73936597d3416ce041749a57b1789e-4",
        "target": "4b73936597d3416ce041749a57b1789e-0"
       },
       "group": "edges"
      }
     },
     "dde60769484e468d98cfc6930f7c93a7": {
      "model_module": "cytoscape-clj",
      "model_module_version": "^0.4.0",
      "model_name": "ElementModel",
      "state": {
       "_model_module_version": "^0.4.0",
       "_view_module_version": "^0.4.0",
       "classes": [
        "color000"
       ],
       "data": {
        "id": "974b8f7dbb2a4b9dc51539d5fdecf009-2",
        "label": "2"
       },
       "position": {
        "x": 75.32272191499146,
        "y": 379.6786225847495
       }
      }
     },
     "de03f30e4d2b4d13daa25f8127567d86": {
      "model_module": "cytoscape-clj",
      "model_module_version": "^0.4.0",
      "model_name": "ElementModel",
      "state": {
       "_model_module_version": "^0.4.0",
       "_view_module_version": "^0.4.0",
       "classes": [
        "color000"
       ],
       "data": {
        "id": "cb1a37cd0987478ae6937a4bbafd22db-5",
        "label": "5"
       },
       "position": {
        "x": 181.29772046010913,
        "y": 127.20773952766183
       }
      }
     },
     "de06b0d0e6b4444e3f0de842bbf1686b": {
      "model_module": "cytoscape-clj",
      "model_module_version": "^0.4.0",
      "model_name": "ElementModel",
      "state": {
       "_model_module_version": "^0.4.0",
       "_view_module_version": "^0.4.0",
       "classes": [
        "color001"
       ],
       "data": {
        "id": "a85585faa2aa4f9801dc40adfd0df3c8-4",
        "label": "4"
       },
       "position": {
        "x": 105.12648329919008,
        "y": 136.81435653250128
       }
      }
     },
     "dee4569c21a24bfaae7636ad2ee8a76b": {
      "model_module": "cytoscape-clj",
      "model_module_version": "^0.4.0",
      "model_name": "ElementModel",
      "state": {
       "_model_module_version": "^0.4.0",
       "_view_module_version": "^0.4.0",
       "data": {
        "source": "7b63220e199141e4bb9b3e888260f92b-4",
        "target": "7b63220e199141e4bb9b3e888260f92b-0"
       },
       "group": "edges"
      }
     },
     "df207ba96c6e432f838ac70ec8826ea8": {
      "model_module": "cytoscape-clj",
      "model_module_version": "^0.4.0",
      "model_name": "ElementModel",
      "state": {
       "_model_module_version": "^0.4.0",
       "_view_module_version": "^0.4.0",
       "classes": [
        "color000"
       ],
       "data": {
        "id": "3a93299899564e27beeb053fd200bf16-1",
        "label": "1"
       },
       "position": {
        "x": 298.4674418662908,
        "y": 20.002256425208913
       }
      }
     },
     "df7c24b07ea7440291f717ed6ede3e17": {
      "model_module": "@jupyter-widgets/base",
      "model_module_version": "1.2.0",
      "model_name": "LayoutModel",
      "state": {}
     },
     "dfbf8f56f9cb4537e426629916b245e0": {
      "model_module": "cytoscape-clj",
      "model_module_version": "^0.4.0",
      "model_name": "ElementModel",
      "state": {
       "_model_module_version": "^0.4.0",
       "_view_module_version": "^0.4.0",
       "data": {
        "source": "a85585faa2aa4f9801dc40adfd0df3c8-5",
        "target": "a85585faa2aa4f9801dc40adfd0df3c8-0"
       },
       "group": "edges"
      }
     },
     "e063e3ce3aa54af4199a94253f0622fc": {
      "model_module": "cytoscape-clj",
      "model_module_version": "^0.4.0",
      "model_name": "ElementModel",
      "state": {
       "_model_module_version": "^0.4.0",
       "_view_module_version": "^0.4.0",
       "classes": [
        "color000"
       ],
       "data": {
        "id": "240e5e5fbfdd4612083799b0eb50f950-3",
        "label": "3"
       },
       "position": {
        "x": 75.10849090359534,
        "y": 393.2698148761434
       }
      }
     },
     "e139a3748b494664a74b89b05e7b7d49": {
      "model_module": "cytoscape-clj",
      "model_module_version": "^0.4.0",
      "model_name": "ElementModel",
      "state": {
       "_model_module_version": "^0.4.0",
       "_view_module_version": "^0.4.0",
       "data": {
        "source": "ea43278941434a58fa6172c582f2701c-5",
        "target": "ea43278941434a58fa6172c582f2701c-0"
       },
       "group": "edges"
      }
     },
     "e17edf29e8534826607fbd53a6f2d782": {
      "model_module": "cytoscape-clj",
      "model_module_version": "^0.4.0",
      "model_name": "ElementModel",
      "state": {
       "_model_module_version": "^0.4.0",
       "_view_module_version": "^0.4.0",
       "data": {
        "source": "c7566fdd468741773a31866413acaf86-1",
        "target": "c7566fdd468741773a31866413acaf86-0"
       },
       "group": "edges"
      }
     },
     "e23203799116457ac9b50b7970200dae": {
      "model_module": "cytoscape-clj",
      "model_module_version": "^0.4.0",
      "model_name": "ElementModel",
      "state": {
       "_model_module_version": "^0.4.0",
       "_view_module_version": "^0.4.0",
       "classes": [
        "color000"
       ],
       "data": {
        "id": "bb29137c638f4c8dba4c0499e8ac7c96-4",
        "label": "4"
       },
       "position": {
        "x": 254.42622141323002,
        "y": 119.15683489209252
       }
      }
     },
     "e263ebd563854e902e4a874d10ea2e27": {
      "model_module": "cytoscape-clj",
      "model_module_version": "^0.4.0",
      "model_name": "ElementModel",
      "state": {
       "_model_module_version": "^0.4.0",
       "_view_module_version": "^0.4.0",
       "data": {
        "source": "0441ed88a01b4949d0e49ef66a30a4f2-3",
        "target": "0441ed88a01b4949d0e49ef66a30a4f2-2"
       },
       "group": "edges"
      }
     },
     "e44bea0ac90e45a5a2a947f1e81f9a8d": {
      "model_module": "cytoscape-clj",
      "model_module_version": "^0.4.0",
      "model_name": "ElementModel",
      "state": {
       "_model_module_version": "^0.4.0",
       "_view_module_version": "^0.4.0",
       "data": {
        "source": "cb1a37cd0987478ae6937a4bbafd22db-4",
        "target": "cb1a37cd0987478ae6937a4bbafd22db-0"
       },
       "group": "edges"
      }
     },
     "e5362f9a5e0b48374b5f2e6693d29630": {
      "model_module": "cytoscape-clj",
      "model_module_version": "^0.4.0",
      "model_name": "ElementModel",
      "state": {
       "_model_module_version": "^0.4.0",
       "_view_module_version": "^0.4.0",
       "data": {
        "source": "974b8f7dbb2a4b9dc51539d5fdecf009-3",
        "target": "974b8f7dbb2a4b9dc51539d5fdecf009-0"
       },
       "group": "edges"
      }
     },
     "e57f19e73bc240daa395ce659e0a50af": {
      "model_module": "cytoscape-clj",
      "model_module_version": "^0.4.0",
      "model_name": "ElementModel",
      "state": {
       "_model_module_version": "^0.4.0",
       "_view_module_version": "^0.4.0",
       "classes": [
        "color000"
       ],
       "data": {
        "id": "cb5e6b4dc43340fab204b3cba34eec9d-2",
        "label": "2"
       },
       "position": {
        "x": 15,
        "y": 45.068044348076484
       }
      }
     },
     "e642411e0d1f4070de50d3c6c55d936d": {
      "model_module": "cytoscape-clj",
      "model_module_version": "^0.4.0",
      "model_name": "ElementModel",
      "state": {
       "_model_module_version": "^0.4.0",
       "_view_module_version": "^0.4.0",
       "data": {
        "source": "7809096b75bd47a8aeeef25912f4a38c-3",
        "target": "7809096b75bd47a8aeeef25912f4a38c-0"
       },
       "group": "edges"
      }
     },
     "e77994c4d5ca4e6882db27269eb98215": {
      "model_module": "cytoscape-clj",
      "model_module_version": "^0.4.0",
      "model_name": "ElementModel",
      "state": {
       "_model_module_version": "^0.4.0",
       "_view_module_version": "^0.4.0",
       "classes": [
        "color001"
       ],
       "data": {
        "id": "f9f657df43d8459d47b6009cfd005dda-0",
        "label": "0"
       },
       "position": {
        "x": 75.99364118572134,
        "y": 285.91018298341646
       }
      }
     },
     "e8eb150aa8914d81d8148cbf72b06706": {
      "model_module": "cytoscape-clj",
      "model_module_version": "^0.4.0",
      "model_name": "ElementModel",
      "state": {
       "_model_module_version": "^0.4.0",
       "_view_module_version": "^0.4.0",
       "data": {
        "source": "86f75ad39e144f5bf87397bf36fb8ed5-2",
        "target": "86f75ad39e144f5bf87397bf36fb8ed5-1"
       },
       "group": "edges"
      }
     },
     "e98b15e1dad2487742fd978aea2146c3": {
      "model_module": "cytoscape-clj",
      "model_module_version": "^0.4.0",
      "model_name": "ElementModel",
      "state": {
       "_model_module_version": "^0.4.0",
       "_view_module_version": "^0.4.0",
       "classes": [
        "color000"
       ],
       "data": {
        "id": "a85585faa2aa4f9801dc40adfd0df3c8-5",
        "label": "5"
       },
       "position": {
        "x": 15,
        "y": 164.83934027833573
       }
      }
     },
     "e994373077e24ef0dbf586aa3ae4f82b": {
      "model_module": "cytoscape-clj",
      "model_module_version": "^0.4.0",
      "model_name": "ElementModel",
      "state": {
       "_model_module_version": "^0.4.0",
       "_view_module_version": "^0.4.0",
       "classes": [
        "color001"
       ],
       "data": {
        "id": "7809096b75bd47a8aeeef25912f4a38c-3",
        "label": "3"
       },
       "position": {
        "x": 55.43439361086803,
        "y": 369.1062109998213
       }
      }
     },
     "eb94a9a865c94dd7420754434af2f813": {
      "model_module": "cytoscape-clj",
      "model_module_version": "^0.4.0",
      "model_name": "ElementModel",
      "state": {
       "_model_module_version": "^0.4.0",
       "_view_module_version": "^0.4.0",
       "classes": [
        "color000"
       ],
       "data": {
        "id": "0cf2b2d71c944ccc6bbfa56ca3ba60fb-5",
        "label": "5"
       },
       "position": {
        "x": 144.6999991188063,
        "y": 181.66425611635157
       }
      }
     },
     "eca155323b7d46145b85c961f992b02a": {
      "model_module": "cytoscape-clj",
      "model_module_version": "^0.4.0",
      "model_name": "ElementModel",
      "state": {
       "_model_module_version": "^0.4.0",
       "_view_module_version": "^0.4.0",
       "classes": [
        "color001"
       ],
       "data": {
        "id": "c7566fdd468741773a31866413acaf86-1",
        "label": "1"
       },
       "position": {
        "x": 319.0585598993202,
        "y": 259.6043815536559
       }
      }
     },
     "ed10223e73414f779a5c84da365a6380": {
      "model_module": "cytoscape-clj",
      "model_module_version": "^0.4.0",
      "model_name": "ElementModel",
      "state": {
       "_model_module_version": "^0.4.0",
       "_view_module_version": "^0.4.0",
       "data": {
        "source": "f9f657df43d8459d47b6009cfd005dda-3",
        "target": "f9f657df43d8459d47b6009cfd005dda-1"
       },
       "group": "edges"
      }
     },
     "ee406901bded4463923b51f71728b406": {
      "model_module": "cytoscape-clj",
      "model_module_version": "^0.4.0",
      "model_name": "ElementModel",
      "state": {
       "_model_module_version": "^0.4.0",
       "_view_module_version": "^0.4.0",
       "data": {
        "source": "ea43278941434a58fa6172c582f2701c-2",
        "target": "ea43278941434a58fa6172c582f2701c-0"
       },
       "group": "edges"
      }
     },
     "ee7d6c60a67c412e75a237b8ecddf077": {
      "model_module": "cytoscape-clj",
      "model_module_version": "^0.4.0",
      "model_name": "ElementModel",
      "state": {
       "_model_module_version": "^0.4.0",
       "_view_module_version": "^0.4.0",
       "classes": [
        "color001"
       ],
       "data": {
        "id": "cb1a37cd0987478ae6937a4bbafd22db-0",
        "label": "0"
       },
       "position": {
        "x": 114.18674912179472,
        "y": 84.34844270040662
       },
       "selected": true
      }
     },
     "ef33215b289a47823324118a691732c6": {
      "model_module": "cytoscape-clj",
      "model_module_version": "^0.4.0",
      "model_name": "ElementModel",
      "state": {
       "_model_module_version": "^0.4.0",
       "_view_module_version": "^0.4.0",
       "data": {
        "source": "bb29137c638f4c8dba4c0499e8ac7c96-4",
        "target": "bb29137c638f4c8dba4c0499e8ac7c96-1"
       },
       "group": "edges"
      }
     },
     "ef67751c57fe4895612f873c27a7e7cc": {
      "model_module": "cytoscape-clj",
      "model_module_version": "^0.4.0",
      "model_name": "ElementModel",
      "state": {
       "_model_module_version": "^0.4.0",
       "_view_module_version": "^0.4.0",
       "data": {
        "source": "0441ed88a01b4949d0e49ef66a30a4f2-4",
        "target": "0441ed88a01b4949d0e49ef66a30a4f2-0"
       },
       "group": "edges"
      }
     },
     "f054e30cc4d7473899b55757fc1eaf8c": {
      "model_module": "cytoscape-clj",
      "model_module_version": "^0.4.0",
      "model_name": "ElementModel",
      "state": {
       "_model_module_version": "^0.4.0",
       "_view_module_version": "^0.4.0",
       "data": {
        "source": "cb5e6b4dc43340fab204b3cba34eec9d-2",
        "target": "cb5e6b4dc43340fab204b3cba34eec9d-1"
       },
       "group": "edges"
      }
     },
     "f06daaf8da5e468ea703355c41b0ca9a": {
      "model_module": "cytoscape-clj",
      "model_module_version": "^0.4.0",
      "model_name": "ElementModel",
      "state": {
       "_model_module_version": "^0.4.0",
       "_view_module_version": "^0.4.0",
       "classes": [
        "color001"
       ],
       "data": {
        "id": "5a9248f0cf1a435bbd3eda799945f6a7-5",
        "label": "5"
       },
       "position": {
        "x": 220.8433474570828,
        "y": 369.38457072578495
       }
      }
     },
     "f0aa960f2a5d4f4030d335737c87b6ae": {
      "model_module": "cytoscape-clj",
      "model_module_version": "^0.4.0",
      "model_name": "ElementModel",
      "state": {
       "_model_module_version": "^0.4.0",
       "_view_module_version": "^0.4.0",
       "classes": [
        "color000"
       ],
       "data": {
        "id": "5a9248f0cf1a435bbd3eda799945f6a7-3",
        "label": "3"
       },
       "position": {
        "x": 307.8648926832177,
        "y": 227.05793611875706
       }
      }
     },
     "f17652ee68984e427bd478176c1a5083": {
      "model_module": "cytoscape-clj",
      "model_module_version": "^0.4.0",
      "model_name": "ElementModel",
      "state": {
       "_model_module_version": "^0.4.0",
       "_view_module_version": "^0.4.0",
       "classes": [
        "color000"
       ],
       "data": {
        "id": "ea43278941434a58fa6172c582f2701c-1",
        "label": "1"
       },
       "position": {
        "x": 150.8433474570828,
        "y": 295.4291562066401
       }
      }
     },
     "f1f6b3ec4bef424fe7959c1411df9191": {
      "model_module": "cytoscape-clj",
      "model_module_version": "^0.4.0",
      "model_name": "ElementModel",
      "state": {
       "_model_module_version": "^0.4.0",
       "_view_module_version": "^0.4.0",
       "data": {
        "source": "9d5ea15987b0418284cad2c91a78be3b-5",
        "target": "9d5ea15987b0418284cad2c91a78be3b-0"
       },
       "group": "edges"
      }
     },
     "f28127ca3c0b402697dcf265a920c669": {
      "model_module": "cytoscape-clj",
      "model_module_version": "^0.4.0",
      "model_name": "ElementModel",
      "state": {
       "_model_module_version": "^0.4.0",
       "_view_module_version": "^0.4.0",
       "data": {
        "source": "240e5e5fbfdd4612083799b0eb50f950-4",
        "target": "240e5e5fbfdd4612083799b0eb50f950-1"
       },
       "group": "edges"
      }
     },
     "f2b7a2f590204cbf8af342e9953a20a6": {
      "model_module": "cytoscape-clj",
      "model_module_version": "^0.4.0",
      "model_name": "ElementModel",
      "state": {
       "_model_module_version": "^0.4.0",
       "_view_module_version": "^0.4.0",
       "classes": [
        "color001"
       ],
       "data": {
        "id": "220a97e485a042ea362abeae58806717-0",
        "label": "0"
       },
       "position": {
        "x": 91.8712428129453,
        "y": 502.4914530032767
       }
      }
     },
     "f3ae6d4e5fca4641eb46497ffd1bab3c": {
      "model_module": "cytoscape-clj",
      "model_module_version": "^0.4.0",
      "model_name": "ElementModel",
      "state": {
       "_model_module_version": "^0.4.0",
       "_view_module_version": "^0.4.0",
       "data": {
        "source": "0441ed88a01b4949d0e49ef66a30a4f2-3",
        "target": "0441ed88a01b4949d0e49ef66a30a4f2-1"
       },
       "group": "edges"
      }
     },
     "f444a8ae945545895535bf388528402d": {
      "model_module": "cytoscape-clj",
      "model_module_version": "^0.4.0",
      "model_name": "ElementModel",
      "state": {
       "_model_module_version": "^0.4.0",
       "_view_module_version": "^0.4.0",
       "classes": [
        "color001"
       ],
       "data": {
        "id": "cb5e6b4dc43340fab204b3cba34eec9d-0",
        "label": "0"
       },
       "position": {
        "x": 109.54178903548959,
        "y": 74.66333115569651
       }
      }
     },
     "f4fa9df239a043019e497f6f58250309": {
      "model_module": "cytoscape-clj",
      "model_module_version": "^0.4.0",
      "model_name": "ElementModel",
      "state": {
       "_model_module_version": "^0.4.0",
       "_view_module_version": "^0.4.0",
       "classes": [
        "color000"
       ],
       "data": {
        "id": "b4056304cf0c45e91c8a99f46518f6d1-3",
        "label": "3"
       },
       "position": {
        "x": 74.69928825772057,
        "y": 146.08215328039967
       }
      }
     },
     "f734044d46d7440ddc24cde792a8498f": {
      "model_module": "cytoscape-clj",
      "model_module_version": "^0.4.0",
      "model_name": "ElementModel",
      "state": {
       "_model_module_version": "^0.4.0",
       "_view_module_version": "^0.4.0",
       "classes": [
        "color000"
       ],
       "data": {
        "id": "5a9248f0cf1a435bbd3eda799945f6a7-1",
        "label": "1"
       },
       "position": {
        "x": 320.80319032350883,
        "y": 287.77317310072823
       }
      }
     },
     "f91ba8e5750b48e615e2256a98064246": {
      "model_module": "cytoscape-clj",
      "model_module_version": "^0.4.0",
      "model_name": "ElementModel",
      "state": {
       "_model_module_version": "^0.4.0",
       "_view_module_version": "^0.4.0",
       "data": {
        "source": "f9f657df43d8459d47b6009cfd005dda-2",
        "target": "f9f657df43d8459d47b6009cfd005dda-0"
       },
       "group": "edges"
      }
     },
     "f9a97b36d1f84ca8001a802cad22c0ec": {
      "model_module": "cytoscape-clj",
      "model_module_version": "^0.4.0",
      "model_name": "ElementModel",
      "state": {
       "_model_module_version": "^0.4.0",
       "_view_module_version": "^0.4.0",
       "classes": [
        "color001"
       ],
       "data": {
        "id": "64d3f67cac4f41036f568892daa181bf-0",
        "label": "0"
       },
       "position": {
        "x": 482.24274431686814,
        "y": 296.2044422550203
       }
      }
     },
     "f9df719f64ec40cc1971d9c2a3e90203": {
      "model_module": "cytoscape-clj",
      "model_module_version": "^0.4.0",
      "model_name": "ElementModel",
      "state": {
       "_model_module_version": "^0.4.0",
       "_view_module_version": "^0.4.0",
       "data": {
        "source": "b4056304cf0c45e91c8a99f46518f6d1-3",
        "target": "b4056304cf0c45e91c8a99f46518f6d1-2"
       },
       "group": "edges"
      }
     },
     "f9f9e41717a14e64bb3191ccdfb57b0b": {
      "model_module": "cytoscape-clj",
      "model_module_version": "^0.4.0",
      "model_name": "ElementModel",
      "state": {
       "_model_module_version": "^0.4.0",
       "_view_module_version": "^0.4.0",
       "classes": [
        "color000"
       ],
       "data": {
        "id": "7b63220e199141e4bb9b3e888260f92b-1",
        "label": "1"
       },
       "position": {
        "x": 144.19440206243746,
        "y": 116.66041666539812
       }
      }
     },
     "fb3f051505c04e258b94b66728b85625": {
      "model_module": "cytoscape-clj",
      "model_module_version": "^0.4.0",
      "model_name": "ElementModel",
      "state": {
       "_model_module_version": "^0.4.0",
       "_view_module_version": "^0.4.0",
       "data": {
        "source": "220a97e485a042ea362abeae58806717-2",
        "target": "220a97e485a042ea362abeae58806717-1"
       },
       "group": "edges"
      }
     },
     "fc44eb8b3aa14c842aebde9eb4bc3d59": {
      "model_module": "cytoscape-clj",
      "model_module_version": "^0.4.0",
      "model_name": "ElementModel",
      "state": {
       "_model_module_version": "^0.4.0",
       "_view_module_version": "^0.4.0",
       "classes": [
        "color000"
       ],
       "data": {
        "id": "f9f657df43d8459d47b6009cfd005dda-5",
        "label": "5"
       },
       "position": {
        "x": 136.47656880889542,
        "y": 344.7789642780807
       }
      }
     },
     "fc54a2a25737486c0d8216b51b56e831": {
      "model_module": "cytoscape-clj",
      "model_module_version": "^0.4.0",
      "model_name": "ElementModel",
      "state": {
       "_model_module_version": "^0.4.0",
       "_view_module_version": "^0.4.0",
       "data": {
        "source": "5a9248f0cf1a435bbd3eda799945f6a7-3",
        "target": "5a9248f0cf1a435bbd3eda799945f6a7-0"
       },
       "group": "edges"
      }
     },
     "fc95be5a805647564ec41644010905cc": {
      "model_module": "cytoscape-clj",
      "model_module_version": "^0.4.0",
      "model_name": "ElementModel",
      "state": {
       "_model_module_version": "^0.4.0",
       "_view_module_version": "^0.4.0",
       "data": {
        "source": "240e5e5fbfdd4612083799b0eb50f950-3",
        "target": "240e5e5fbfdd4612083799b0eb50f950-1"
       },
       "group": "edges"
      }
     },
     "fd9ac30cbb9a469d2a044c225937af9b": {
      "model_module": "cytoscape-clj",
      "model_module_version": "^0.4.0",
      "model_name": "ElementModel",
      "state": {
       "_model_module_version": "^0.4.0",
       "_view_module_version": "^0.4.0",
       "classes": [
        "color001"
       ],
       "data": {
        "id": "4b73936597d3416ce041749a57b1789e-2",
        "label": "2"
       },
       "position": {
        "x": 21.046986809059774,
        "y": 263.4438675935463
       }
      }
     },
     "fe4dccf4856e4ec3f55ffa4ac9b7f9cb": {
      "model_module": "cytoscape-clj",
      "model_module_version": "^0.4.0",
      "model_name": "ElementModel",
      "state": {
       "_model_module_version": "^0.4.0",
       "_view_module_version": "^0.4.0",
       "data": {
        "source": "86f75ad39e144f5bf87397bf36fb8ed5-4",
        "target": "86f75ad39e144f5bf87397bf36fb8ed5-1"
       },
       "group": "edges"
      }
     },
     "fee1fc6763b349002c269e8d40423031": {
      "model_module": "cytoscape-clj",
      "model_module_version": "^0.4.0",
      "model_name": "ElementModel",
      "state": {
       "_model_module_version": "^0.4.0",
       "_view_module_version": "^0.4.0",
       "data": {
        "source": "cb5e6b4dc43340fab204b3cba34eec9d-4",
        "target": "cb5e6b4dc43340fab204b3cba34eec9d-1"
       },
       "group": "edges"
      }
     }
    },
    "version_major": 2,
    "version_minor": 0
   }
  }
 },
 "nbformat": 4,
 "nbformat_minor": 4
}
